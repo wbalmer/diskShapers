{
 "cells": [
  {
   "cell_type": "code",
   "execution_count": 20,
   "metadata": {},
   "outputs": [],
   "source": [
    "import os\n",
    "import glob\n",
    "import pickle\n",
    "import datetime\n",
    "import numpy as np\n",
    "from tqdm.notebook import tqdm_notebook, trange\n",
    "from astropy.io import fits\n",
    "from photutils import DAOStarFinder, CircularAperture\n",
    "import photutils.psf\n",
    "import matplotlib.pyplot as plt\n",
    "from astropy.visualization import LogStretch, AsinhStretch\n",
    "from astropy.visualization.mpl_normalize import ImageNormalize\n",
    "from scipy.signal import peak_widths\n",
    "import astropy.units as u\n",
    "import pandas as pd\n",
    "from scipy import stats\n",
    "from calibFuncs import *\n",
    "from circlesym import *"
   ]
  },
  {
   "cell_type": "code",
   "execution_count": 2,
   "metadata": {},
   "outputs": [],
   "source": [
    "datadir = 'C:\\\\Users\\\\willi\\\\Dropbox (Amherst College)\\\\Research\\\\Follette-Lab\\\\Thesis-Data\\William\\\\trapezium_data\\\\visao_astro'"
   ]
  },
  {
   "cell_type": "code",
   "execution_count": 3,
   "metadata": {},
   "outputs": [
    {
     "name": "stderr",
     "output_type": "stream",
     "text": [
      "  0%|                                                                              | 44/33363 [00:00<01:17, 431.38it/s]"
     ]
    },
    {
     "name": "stdout",
     "output_type": "stream",
     "text": [
      "sorting individual images\n"
     ]
    },
    {
     "name": "stderr",
     "output_type": "stream",
     "text": [
      "100%|███████████████████████████████████████████████████████████████████████████| 33363/33363 [05:31<00:00, 100.59it/s]\n",
      "100%|█████████████████████████████████████████████████████████████████████████████████| 17/17 [00:00<00:00, 118.89it/s]"
     ]
    },
    {
     "name": "stdout",
     "output_type": "stream",
     "text": [
      "sorting unique datasets into lists\n"
     ]
    },
    {
     "name": "stderr",
     "output_type": "stream",
     "text": [
      "\n"
     ]
    }
   ],
   "source": [
    "uniques, VisAO_science, VisAO_darks = sortData(datadir, instrument='VisAO', filesdeep='*\\\\*\\\\', returntab=True)"
   ]
  },
  {
   "cell_type": "code",
   "execution_count": 4,
   "metadata": {},
   "outputs": [],
   "source": [
    "# data takes a long time to sort so pickle result\n",
    "filename = 'visao_science.pkl'\n",
    "outfile = open(filename,'wb')\n",
    "pickle.dump(VisAO_science,outfile)\n",
    "outfile.close()\n",
    "\n",
    "filename = 'visao_uniques.pkl'\n",
    "outfile = open(filename,'wb')\n",
    "pickle.dump(uniques,outfile)\n",
    "outfile.close()\n",
    "\n",
    "filename = 'visao_darks.pkl'\n",
    "outfile = open(filename,'wb')\n",
    "pickle.dump(VisAO_darks,outfile)\n",
    "outfile.close()"
   ]
  },
  {
   "cell_type": "code",
   "execution_count": 5,
   "metadata": {},
   "outputs": [],
   "source": [
    "# read in pickle\n",
    "infile = open('visao_science.pkl','rb')\n",
    "VisAO_science = pickle.load(infile)\n",
    "infile.close()\n",
    "\n",
    "infile = open('visao_uniques.pkl','rb')\n",
    "uniques = pickle.load(infile)\n",
    "infile.close()\n",
    "\n",
    "infile = open('visao_darks.pkl','rb')\n",
    "VisAO_darks = pickle.load(infile)\n",
    "infile.close()"
   ]
  },
  {
   "cell_type": "code",
   "execution_count": 6,
   "metadata": {},
   "outputs": [],
   "source": [
    "# sorts dark fields into a subfolder in their directory named dark\n",
    "VisAO_new_darks = []\n",
    "for i in range(len(VisAO_darks)):\n",
    "    dataset = VisAO_darks[i]\n",
    "    new_darkset = []\n",
    "    for dark_im in dataset:\n",
    "        imname = dark_im.split('\\\\')[-1]\n",
    "        newroot = dark_im.replace(dark_im.split('\\\\')[-1], 'dark\\\\')\n",
    "        if os.path.exists(newroot):\n",
    "            pass\n",
    "        else:\n",
    "            os.mkdir(newroot)\n",
    "        newpath = newroot+imname\n",
    "        try:\n",
    "            os.rename(dark_im, newpath)\n",
    "        except FileNotFoundError:\n",
    "            pass\n",
    "        new_darkset.append(newpath)\n",
    "    VisAO_new_darks.append(new_darkset)\n",
    "\n",
    "filename = 'visao_new_darks.pkl'\n",
    "outfile = open(filename,'wb')\n",
    "pickle.dump(VisAO_new_darks,outfile)\n",
    "outfile.close()"
   ]
  },
  {
   "cell_type": "code",
   "execution_count": 7,
   "metadata": {},
   "outputs": [],
   "source": [
    "# introduce median combine function\n",
    "def mediancombine(filelist, norm=False):\n",
    "    '''\n",
    "    median combine frames, can norm for flats or not\n",
    "    '''\n",
    "    # gather some information about the images\n",
    "    n = len(filelist)\n",
    "    first_frame_data = fits.getdata(filelist[0])\n",
    "    imsize_y, imsize_x = first_frame_data.shape\n",
    "    # construct an empty cube with proper dimensions\n",
    "    fits_stack = np.zeros((imsize_y, imsize_x, n))\n",
    "    # fill cube with images in filelist\n",
    "    for ii in range(0, n):\n",
    "        im = fits.getdata(filelist[ii])\n",
    "        if norm is True:\n",
    "            im /= np.nanmedian(im)\n",
    "        fits_stack[:, :, ii] = im\n",
    "    # take the median combination of the images along the\n",
    "    # correct axis (we made this the 3rd axis of our image cube)\n",
    "    med_frame = np.nanmedian(fits_stack, axis=2)\n",
    "    return med_frame"
   ]
  },
  {
   "cell_type": "code",
   "execution_count": 8,
   "metadata": {
    "scrolled": true
   },
   "outputs": [
    {
     "data": {
      "application/vnd.jupyter.widget-view+json": {
       "model_id": "302e3be88c6b4836829f782ca7b43f47",
       "version_major": 2,
       "version_minor": 0
      },
      "text/plain": [
       "HBox(children=(HTML(value=''), FloatProgress(value=0.0, max=17.0), HTML(value='')))"
      ]
     },
     "metadata": {},
     "output_type": "display_data"
    },
    {
     "data": {
      "application/vnd.jupyter.widget-view+json": {
       "model_id": "5142901a83a24f2e9d8f6b13e6ebe223",
       "version_major": 2,
       "version_minor": 0
      },
      "text/plain": [
       "HBox(children=(HTML(value=''), FloatProgress(value=0.0, max=9773.0), HTML(value='')))"
      ]
     },
     "metadata": {},
     "output_type": "display_data"
    },
    {
     "name": "stdout",
     "output_type": "stream",
     "text": [
      "\n"
     ]
    },
    {
     "data": {
      "application/vnd.jupyter.widget-view+json": {
       "model_id": "c4cd5b2d6cdf4aa6876a9a153e3c981c",
       "version_major": 2,
       "version_minor": 0
      },
      "text/plain": [
       "HBox(children=(HTML(value=''), FloatProgress(value=0.0, max=3.0), HTML(value='')))"
      ]
     },
     "metadata": {},
     "output_type": "display_data"
    },
    {
     "data": {
      "application/vnd.jupyter.widget-view+json": {
       "model_id": "0c7e5fe3a40f456cbf80d93dab02f426",
       "version_major": 2,
       "version_minor": 0
      },
      "text/plain": [
       "HBox(children=(HTML(value=''), FloatProgress(value=0.0, max=1410.0), HTML(value='')))"
      ]
     },
     "metadata": {},
     "output_type": "display_data"
    },
    {
     "name": "stdout",
     "output_type": "stream",
     "text": [
      "\n"
     ]
    },
    {
     "data": {
      "application/vnd.jupyter.widget-view+json": {
       "model_id": "bd71e4ed7b5b4c949ce08ddb580f5f72",
       "version_major": 2,
       "version_minor": 0
      },
      "text/plain": [
       "HBox(children=(HTML(value=''), FloatProgress(value=0.0, max=1004.0), HTML(value='')))"
      ]
     },
     "metadata": {},
     "output_type": "display_data"
    },
    {
     "name": "stdout",
     "output_type": "stream",
     "text": [
      "\n"
     ]
    },
    {
     "data": {
      "application/vnd.jupyter.widget-view+json": {
       "model_id": "09673cec99974ce5bffee4d5b3a7bc4e",
       "version_major": 2,
       "version_minor": 0
      },
      "text/plain": [
       "HBox(children=(HTML(value=''), FloatProgress(value=0.0, max=7359.0), HTML(value='')))"
      ]
     },
     "metadata": {},
     "output_type": "display_data"
    },
    {
     "name": "stdout",
     "output_type": "stream",
     "text": [
      "\n",
      "\n"
     ]
    },
    {
     "data": {
      "application/vnd.jupyter.widget-view+json": {
       "model_id": "d5b26262630f42398f872f937218a58a",
       "version_major": 2,
       "version_minor": 0
      },
      "text/plain": [
       "HBox(children=(HTML(value=''), FloatProgress(value=0.0, max=325.0), HTML(value='')))"
      ]
     },
     "metadata": {},
     "output_type": "display_data"
    },
    {
     "name": "stdout",
     "output_type": "stream",
     "text": [
      "\n"
     ]
    },
    {
     "data": {
      "application/vnd.jupyter.widget-view+json": {
       "model_id": "3d274d754a9f4924940942c19b16efe5",
       "version_major": 2,
       "version_minor": 0
      },
      "text/plain": [
       "HBox(children=(HTML(value=''), FloatProgress(value=0.0, max=1.0), HTML(value='')))"
      ]
     },
     "metadata": {},
     "output_type": "display_data"
    },
    {
     "data": {
      "application/vnd.jupyter.widget-view+json": {
       "model_id": "0271e7aa88b24ade91d734cdd00d36dd",
       "version_major": 2,
       "version_minor": 0
      },
      "text/plain": [
       "HBox(children=(HTML(value=''), FloatProgress(value=0.0, max=325.0), HTML(value='')))"
      ]
     },
     "metadata": {},
     "output_type": "display_data"
    },
    {
     "name": "stdout",
     "output_type": "stream",
     "text": [
      "\n",
      "\n"
     ]
    },
    {
     "data": {
      "application/vnd.jupyter.widget-view+json": {
       "model_id": "7568eff5e6ec48879e31f3c6810b79aa",
       "version_major": 2,
       "version_minor": 0
      },
      "text/plain": [
       "HBox(children=(HTML(value=''), FloatProgress(value=0.0, max=175.0), HTML(value='')))"
      ]
     },
     "metadata": {},
     "output_type": "display_data"
    },
    {
     "name": "stdout",
     "output_type": "stream",
     "text": [
      "\n"
     ]
    },
    {
     "data": {
      "application/vnd.jupyter.widget-view+json": {
       "model_id": "4a6bae8c74244651b0d11ea28127c922",
       "version_major": 2,
       "version_minor": 0
      },
      "text/plain": [
       "HBox(children=(HTML(value=''), FloatProgress(value=0.0, max=1.0), HTML(value='')))"
      ]
     },
     "metadata": {},
     "output_type": "display_data"
    },
    {
     "data": {
      "application/vnd.jupyter.widget-view+json": {
       "model_id": "623690437a1f40599ec83fbcfae273cd",
       "version_major": 2,
       "version_minor": 0
      },
      "text/plain": [
       "HBox(children=(HTML(value=''), FloatProgress(value=0.0, max=175.0), HTML(value='')))"
      ]
     },
     "metadata": {},
     "output_type": "display_data"
    },
    {
     "name": "stdout",
     "output_type": "stream",
     "text": [
      "\n",
      "\n"
     ]
    },
    {
     "data": {
      "application/vnd.jupyter.widget-view+json": {
       "model_id": "6a00240201784422b6c2138f69678905",
       "version_major": 2,
       "version_minor": 0
      },
      "text/plain": [
       "HBox(children=(HTML(value=''), FloatProgress(value=0.0, max=13044.0), HTML(value='')))"
      ]
     },
     "metadata": {},
     "output_type": "display_data"
    },
    {
     "name": "stdout",
     "output_type": "stream",
     "text": [
      "\n"
     ]
    },
    {
     "data": {
      "application/vnd.jupyter.widget-view+json": {
       "model_id": "368492bd049c417a86983b78e23d77e1",
       "version_major": 2,
       "version_minor": 0
      },
      "text/plain": [
       "HBox(children=(HTML(value=''), FloatProgress(value=0.0, max=1.0), HTML(value='')))"
      ]
     },
     "metadata": {},
     "output_type": "display_data"
    },
    {
     "data": {
      "application/vnd.jupyter.widget-view+json": {
       "model_id": "4c5aa94fc2d44eddbd9c448188294b38",
       "version_major": 2,
       "version_minor": 0
      },
      "text/plain": [
       "HBox(children=(HTML(value=''), FloatProgress(value=0.0, max=13044.0), HTML(value='')))"
      ]
     },
     "metadata": {},
     "output_type": "display_data"
    },
    {
     "name": "stdout",
     "output_type": "stream",
     "text": [
      "\n",
      "\n"
     ]
    },
    {
     "data": {
      "application/vnd.jupyter.widget-view+json": {
       "model_id": "497c8a0cb9864234bcf474fc8f8b2d13",
       "version_major": 2,
       "version_minor": 0
      },
      "text/plain": [
       "HBox(children=(HTML(value=''), FloatProgress(value=0.0, max=429.0), HTML(value='')))"
      ]
     },
     "metadata": {},
     "output_type": "display_data"
    },
    {
     "name": "stdout",
     "output_type": "stream",
     "text": [
      "\n"
     ]
    },
    {
     "data": {
      "application/vnd.jupyter.widget-view+json": {
       "model_id": "8bcd7e3c550544a694fe32d2da218847",
       "version_major": 2,
       "version_minor": 0
      },
      "text/plain": [
       "HBox(children=(HTML(value=''), FloatProgress(value=0.0, max=1.0), HTML(value='')))"
      ]
     },
     "metadata": {},
     "output_type": "display_data"
    },
    {
     "data": {
      "application/vnd.jupyter.widget-view+json": {
       "model_id": "3ec6dce4c09d41c8b1ccae8d7bf1ee8d",
       "version_major": 2,
       "version_minor": 0
      },
      "text/plain": [
       "HBox(children=(HTML(value=''), FloatProgress(value=0.0, max=429.0), HTML(value='')))"
      ]
     },
     "metadata": {},
     "output_type": "display_data"
    },
    {
     "name": "stdout",
     "output_type": "stream",
     "text": [
      "\n",
      "\n"
     ]
    },
    {
     "data": {
      "application/vnd.jupyter.widget-view+json": {
       "model_id": "8e9a6ebfc62442a0822be50379538cf4",
       "version_major": 2,
       "version_minor": 0
      },
      "text/plain": [
       "HBox(children=(HTML(value=''), FloatProgress(value=0.0, max=554.0), HTML(value='')))"
      ]
     },
     "metadata": {},
     "output_type": "display_data"
    },
    {
     "name": "stdout",
     "output_type": "stream",
     "text": [
      "\n"
     ]
    },
    {
     "data": {
      "application/vnd.jupyter.widget-view+json": {
       "model_id": "7a286ccb32cf4cc19580420cfa8a936c",
       "version_major": 2,
       "version_minor": 0
      },
      "text/plain": [
       "HBox(children=(HTML(value=''), FloatProgress(value=0.0, max=3.0), HTML(value='')))"
      ]
     },
     "metadata": {},
     "output_type": "display_data"
    },
    {
     "data": {
      "application/vnd.jupyter.widget-view+json": {
       "model_id": "6820a17c62904c8f99d2c9e23082950c",
       "version_major": 2,
       "version_minor": 0
      },
      "text/plain": [
       "HBox(children=(HTML(value=''), FloatProgress(value=0.0, max=130.0), HTML(value='')))"
      ]
     },
     "metadata": {},
     "output_type": "display_data"
    },
    {
     "name": "stdout",
     "output_type": "stream",
     "text": [
      "\n"
     ]
    },
    {
     "data": {
      "application/vnd.jupyter.widget-view+json": {
       "model_id": "8319f3b498f6474095329c6844eb876e",
       "version_major": 2,
       "version_minor": 0
      },
      "text/plain": [
       "HBox(children=(HTML(value=''), FloatProgress(value=0.0, max=20.0), HTML(value='')))"
      ]
     },
     "metadata": {},
     "output_type": "display_data"
    },
    {
     "name": "stdout",
     "output_type": "stream",
     "text": [
      "\n"
     ]
    },
    {
     "data": {
      "application/vnd.jupyter.widget-view+json": {
       "model_id": "8794dda4dcc0405aaf82e357cb7657ec",
       "version_major": 2,
       "version_minor": 0
      },
      "text/plain": [
       "HBox(children=(HTML(value=''), FloatProgress(value=0.0, max=404.0), HTML(value='')))"
      ]
     },
     "metadata": {},
     "output_type": "display_data"
    },
    {
     "name": "stdout",
     "output_type": "stream",
     "text": [
      "\n",
      "\n"
     ]
    },
    {
     "data": {
      "application/vnd.jupyter.widget-view+json": {
       "model_id": "f38a107677df4af1a233aee61ecc9338",
       "version_major": 2,
       "version_minor": 0
      },
      "text/plain": [
       "HBox(children=(HTML(value=''), FloatProgress(value=0.0, max=264.0), HTML(value='')))"
      ]
     },
     "metadata": {},
     "output_type": "display_data"
    },
    {
     "name": "stdout",
     "output_type": "stream",
     "text": [
      "\n"
     ]
    },
    {
     "data": {
      "application/vnd.jupyter.widget-view+json": {
       "model_id": "f7329559f1bb423c9ea01a02d276e5cb",
       "version_major": 2,
       "version_minor": 0
      },
      "text/plain": [
       "HBox(children=(HTML(value=''), FloatProgress(value=0.0, max=1.0), HTML(value='')))"
      ]
     },
     "metadata": {},
     "output_type": "display_data"
    },
    {
     "data": {
      "application/vnd.jupyter.widget-view+json": {
       "model_id": "3c95378d451244dfa816aa8113272b48",
       "version_major": 2,
       "version_minor": 0
      },
      "text/plain": [
       "HBox(children=(HTML(value=''), FloatProgress(value=0.0, max=264.0), HTML(value='')))"
      ]
     },
     "metadata": {},
     "output_type": "display_data"
    },
    {
     "name": "stdout",
     "output_type": "stream",
     "text": [
      "\n",
      "\n"
     ]
    },
    {
     "data": {
      "application/vnd.jupyter.widget-view+json": {
       "model_id": "6a182249875e4575aba0625ef1fd8770",
       "version_major": 2,
       "version_minor": 0
      },
      "text/plain": [
       "HBox(children=(HTML(value=''), FloatProgress(value=0.0, max=250.0), HTML(value='')))"
      ]
     },
     "metadata": {},
     "output_type": "display_data"
    },
    {
     "name": "stdout",
     "output_type": "stream",
     "text": [
      "\n"
     ]
    },
    {
     "data": {
      "application/vnd.jupyter.widget-view+json": {
       "model_id": "04d0a722d22e45daab40c704af2d5938",
       "version_major": 2,
       "version_minor": 0
      },
      "text/plain": [
       "HBox(children=(HTML(value=''), FloatProgress(value=0.0, max=1.0), HTML(value='')))"
      ]
     },
     "metadata": {},
     "output_type": "display_data"
    },
    {
     "data": {
      "application/vnd.jupyter.widget-view+json": {
       "model_id": "8072b7d01ed943e7b572b590a815a01c",
       "version_major": 2,
       "version_minor": 0
      },
      "text/plain": [
       "HBox(children=(HTML(value=''), FloatProgress(value=0.0, max=250.0), HTML(value='')))"
      ]
     },
     "metadata": {},
     "output_type": "display_data"
    },
    {
     "name": "stdout",
     "output_type": "stream",
     "text": [
      "\n",
      "\n"
     ]
    },
    {
     "data": {
      "application/vnd.jupyter.widget-view+json": {
       "model_id": "8c34fb922a4c4c08910b7c65c05d0fc9",
       "version_major": 2,
       "version_minor": 0
      },
      "text/plain": [
       "HBox(children=(HTML(value=''), FloatProgress(value=0.0, max=500.0), HTML(value='')))"
      ]
     },
     "metadata": {},
     "output_type": "display_data"
    },
    {
     "name": "stdout",
     "output_type": "stream",
     "text": [
      "\n"
     ]
    },
    {
     "data": {
      "application/vnd.jupyter.widget-view+json": {
       "model_id": "50fdc598ad04420b8a1707701ad6bf1c",
       "version_major": 2,
       "version_minor": 0
      },
      "text/plain": [
       "HBox(children=(HTML(value=''), FloatProgress(value=0.0, max=1.0), HTML(value='')))"
      ]
     },
     "metadata": {},
     "output_type": "display_data"
    },
    {
     "data": {
      "application/vnd.jupyter.widget-view+json": {
       "model_id": "c257e2597c104b589f5ba83b1de7b8e7",
       "version_major": 2,
       "version_minor": 0
      },
      "text/plain": [
       "HBox(children=(HTML(value=''), FloatProgress(value=0.0, max=500.0), HTML(value='')))"
      ]
     },
     "metadata": {},
     "output_type": "display_data"
    },
    {
     "name": "stdout",
     "output_type": "stream",
     "text": [
      "\n",
      "\n"
     ]
    },
    {
     "data": {
      "application/vnd.jupyter.widget-view+json": {
       "model_id": "5e0c27d6973f476ba9beea885936ae2b",
       "version_major": 2,
       "version_minor": 0
      },
      "text/plain": [
       "HBox(children=(HTML(value=''), FloatProgress(value=0.0, max=1500.0), HTML(value='')))"
      ]
     },
     "metadata": {},
     "output_type": "display_data"
    },
    {
     "name": "stdout",
     "output_type": "stream",
     "text": [
      "\n"
     ]
    },
    {
     "data": {
      "application/vnd.jupyter.widget-view+json": {
       "model_id": "c4242d2874f645fc89b326a5f56d3609",
       "version_major": 2,
       "version_minor": 0
      },
      "text/plain": [
       "HBox(children=(HTML(value=''), FloatProgress(value=0.0, max=2.0), HTML(value='')))"
      ]
     },
     "metadata": {},
     "output_type": "display_data"
    },
    {
     "data": {
      "application/vnd.jupyter.widget-view+json": {
       "model_id": "4b1ef6e58a6b454aaacbccf13e0d92ad",
       "version_major": 2,
       "version_minor": 0
      },
      "text/plain": [
       "HBox(children=(HTML(value=''), FloatProgress(value=0.0, max=1000.0), HTML(value='')))"
      ]
     },
     "metadata": {},
     "output_type": "display_data"
    },
    {
     "name": "stdout",
     "output_type": "stream",
     "text": [
      "\n"
     ]
    },
    {
     "data": {
      "application/vnd.jupyter.widget-view+json": {
       "model_id": "51a0d59bb1724697b4ea29d4d9398028",
       "version_major": 2,
       "version_minor": 0
      },
      "text/plain": [
       "HBox(children=(HTML(value=''), FloatProgress(value=0.0, max=500.0), HTML(value='')))"
      ]
     },
     "metadata": {},
     "output_type": "display_data"
    },
    {
     "name": "stdout",
     "output_type": "stream",
     "text": [
      "\n",
      "\n"
     ]
    },
    {
     "data": {
      "application/vnd.jupyter.widget-view+json": {
       "model_id": "4e4b66b24a564010acb49a9c1c1a354a",
       "version_major": 2,
       "version_minor": 0
      },
      "text/plain": [
       "HBox(children=(HTML(value=''), FloatProgress(value=0.0, max=127.0), HTML(value='')))"
      ]
     },
     "metadata": {},
     "output_type": "display_data"
    },
    {
     "name": "stdout",
     "output_type": "stream",
     "text": [
      "\n"
     ]
    },
    {
     "data": {
      "application/vnd.jupyter.widget-view+json": {
       "model_id": "5410882109f84329919e21c52ceb2f96",
       "version_major": 2,
       "version_minor": 0
      },
      "text/plain": [
       "HBox(children=(HTML(value=''), FloatProgress(value=0.0, max=1.0), HTML(value='')))"
      ]
     },
     "metadata": {},
     "output_type": "display_data"
    },
    {
     "data": {
      "application/vnd.jupyter.widget-view+json": {
       "model_id": "e6885beaad4742a48609404f75621e53",
       "version_major": 2,
       "version_minor": 0
      },
      "text/plain": [
       "HBox(children=(HTML(value=''), FloatProgress(value=0.0, max=127.0), HTML(value='')))"
      ]
     },
     "metadata": {},
     "output_type": "display_data"
    },
    {
     "name": "stdout",
     "output_type": "stream",
     "text": [
      "\n",
      "\n"
     ]
    },
    {
     "data": {
      "application/vnd.jupyter.widget-view+json": {
       "model_id": "b5663c096f0d40fb9b295587a17373d6",
       "version_major": 2,
       "version_minor": 0
      },
      "text/plain": [
       "HBox(children=(HTML(value=''), FloatProgress(value=0.0, max=4.0), HTML(value='')))"
      ]
     },
     "metadata": {},
     "output_type": "display_data"
    },
    {
     "name": "stdout",
     "output_type": "stream",
     "text": [
      "\n"
     ]
    },
    {
     "data": {
      "application/vnd.jupyter.widget-view+json": {
       "model_id": "2addd6efa7c947b79cc327e112877fdc",
       "version_major": 2,
       "version_minor": 0
      },
      "text/plain": [
       "HBox(children=(HTML(value=''), FloatProgress(value=0.0, max=1.0), HTML(value='')))"
      ]
     },
     "metadata": {},
     "output_type": "display_data"
    },
    {
     "data": {
      "application/vnd.jupyter.widget-view+json": {
       "model_id": "a4e3dd374cb14a59b52cc787015d4295",
       "version_major": 2,
       "version_minor": 0
      },
      "text/plain": [
       "HBox(children=(HTML(value=''), FloatProgress(value=0.0, max=4.0), HTML(value='')))"
      ]
     },
     "metadata": {},
     "output_type": "display_data"
    },
    {
     "name": "stdout",
     "output_type": "stream",
     "text": [
      "\n",
      "\n"
     ]
    },
    {
     "data": {
      "application/vnd.jupyter.widget-view+json": {
       "model_id": "b6ee6e0de4164bcd973dec531e602735",
       "version_major": 2,
       "version_minor": 0
      },
      "text/plain": [
       "HBox(children=(HTML(value=''), FloatProgress(value=1.0, bar_style='info', layout=Layout(width='20px'), max=1.0…"
      ]
     },
     "metadata": {},
     "output_type": "display_data"
    },
    {
     "name": "stdout",
     "output_type": "stream",
     "text": [
      "\n"
     ]
    },
    {
     "data": {
      "application/vnd.jupyter.widget-view+json": {
       "model_id": "519df3d63b92428980bbc9c1a5dead78",
       "version_major": 2,
       "version_minor": 0
      },
      "text/plain": [
       "HBox(children=(HTML(value=''), FloatProgress(value=1.0, bar_style='info', layout=Layout(width='20px'), max=1.0…"
      ]
     },
     "metadata": {},
     "output_type": "display_data"
    },
    {
     "name": "stdout",
     "output_type": "stream",
     "text": [
      "\n"
     ]
    },
    {
     "data": {
      "application/vnd.jupyter.widget-view+json": {
       "model_id": "4fb2d1b8e44644c59bcc6c72c4fc7af0",
       "version_major": 2,
       "version_minor": 0
      },
      "text/plain": [
       "HBox(children=(HTML(value=''), FloatProgress(value=0.0, max=2920.0), HTML(value='')))"
      ]
     },
     "metadata": {},
     "output_type": "display_data"
    },
    {
     "name": "stdout",
     "output_type": "stream",
     "text": [
      "\n"
     ]
    },
    {
     "data": {
      "application/vnd.jupyter.widget-view+json": {
       "model_id": "89403af983dc425b84132294e1b1435e",
       "version_major": 2,
       "version_minor": 0
      },
      "text/plain": [
       "HBox(children=(HTML(value=''), FloatProgress(value=0.0, max=2.0), HTML(value='')))"
      ]
     },
     "metadata": {},
     "output_type": "display_data"
    },
    {
     "data": {
      "application/vnd.jupyter.widget-view+json": {
       "model_id": "e14dad5561f742c0a3b37a8f915f181d",
       "version_major": 2,
       "version_minor": 0
      },
      "text/plain": [
       "HBox(children=(HTML(value=''), FloatProgress(value=0.0, max=2872.0), HTML(value='')))"
      ]
     },
     "metadata": {},
     "output_type": "display_data"
    },
    {
     "name": "stdout",
     "output_type": "stream",
     "text": [
      "\n"
     ]
    },
    {
     "data": {
      "application/vnd.jupyter.widget-view+json": {
       "model_id": "e8dbd65246544f08aa252b1b6f9c4519",
       "version_major": 2,
       "version_minor": 0
      },
      "text/plain": [
       "HBox(children=(HTML(value=''), FloatProgress(value=0.0, max=48.0), HTML(value='')))"
      ]
     },
     "metadata": {},
     "output_type": "display_data"
    },
    {
     "name": "stdout",
     "output_type": "stream",
     "text": [
      "\n",
      "\n"
     ]
    },
    {
     "data": {
      "application/vnd.jupyter.widget-view+json": {
       "model_id": "33c1aeb258894043ac6aae32bbd9b015",
       "version_major": 2,
       "version_minor": 0
      },
      "text/plain": [
       "HBox(children=(HTML(value=''), FloatProgress(value=0.0, max=172.0), HTML(value='')))"
      ]
     },
     "metadata": {},
     "output_type": "display_data"
    },
    {
     "name": "stdout",
     "output_type": "stream",
     "text": [
      "\n"
     ]
    },
    {
     "data": {
      "application/vnd.jupyter.widget-view+json": {
       "model_id": "cf38a8a144c74aea952066dd2c97a7cb",
       "version_major": 2,
       "version_minor": 0
      },
      "text/plain": [
       "HBox(children=(HTML(value=''), FloatProgress(value=0.0, max=2.0), HTML(value='')))"
      ]
     },
     "metadata": {},
     "output_type": "display_data"
    },
    {
     "data": {
      "application/vnd.jupyter.widget-view+json": {
       "model_id": "111689e229c14da0b23d8ee416580099",
       "version_major": 2,
       "version_minor": 0
      },
      "text/plain": [
       "HBox(children=(HTML(value=''), FloatProgress(value=0.0, max=170.0), HTML(value='')))"
      ]
     },
     "metadata": {},
     "output_type": "display_data"
    },
    {
     "name": "stdout",
     "output_type": "stream",
     "text": [
      "\n"
     ]
    },
    {
     "data": {
      "application/vnd.jupyter.widget-view+json": {
       "model_id": "294ee7b3ac7b490e81e69c210bd85600",
       "version_major": 2,
       "version_minor": 0
      },
      "text/plain": [
       "HBox(children=(HTML(value=''), FloatProgress(value=0.0, max=2.0), HTML(value='')))"
      ]
     },
     "metadata": {},
     "output_type": "display_data"
    },
    {
     "name": "stdout",
     "output_type": "stream",
     "text": [
      "\n",
      "\n"
     ]
    },
    {
     "data": {
      "application/vnd.jupyter.widget-view+json": {
       "model_id": "eb8f2c4237124c7d90589c23d233d98c",
       "version_major": 2,
       "version_minor": 0
      },
      "text/plain": [
       "HBox(children=(HTML(value=''), FloatProgress(value=0.0, max=479.0), HTML(value='')))"
      ]
     },
     "metadata": {},
     "output_type": "display_data"
    },
    {
     "name": "stdout",
     "output_type": "stream",
     "text": [
      "\n"
     ]
    },
    {
     "data": {
      "application/vnd.jupyter.widget-view+json": {
       "model_id": "baaab667f69048cb8fb4e73daeb57905",
       "version_major": 2,
       "version_minor": 0
      },
      "text/plain": [
       "HBox(children=(HTML(value=''), FloatProgress(value=0.0, max=1.0), HTML(value='')))"
      ]
     },
     "metadata": {},
     "output_type": "display_data"
    },
    {
     "data": {
      "application/vnd.jupyter.widget-view+json": {
       "model_id": "c9815ec58e3b45af83cab0918fe1ed2c",
       "version_major": 2,
       "version_minor": 0
      },
      "text/plain": [
       "HBox(children=(HTML(value=''), FloatProgress(value=0.0, max=479.0), HTML(value='')))"
      ]
     },
     "metadata": {},
     "output_type": "display_data"
    },
    {
     "name": "stdout",
     "output_type": "stream",
     "text": [
      "\n",
      "\n"
     ]
    },
    {
     "data": {
      "application/vnd.jupyter.widget-view+json": {
       "model_id": "b4cc4f61e1994d478a6d6f59881bbd3a",
       "version_major": 2,
       "version_minor": 0
      },
      "text/plain": [
       "HBox(children=(HTML(value=''), FloatProgress(value=0.0, max=444.0), HTML(value='')))"
      ]
     },
     "metadata": {},
     "output_type": "display_data"
    },
    {
     "name": "stdout",
     "output_type": "stream",
     "text": [
      "\n"
     ]
    },
    {
     "data": {
      "application/vnd.jupyter.widget-view+json": {
       "model_id": "d1aed086d31a45d29019b76aae489c09",
       "version_major": 2,
       "version_minor": 0
      },
      "text/plain": [
       "HBox(children=(HTML(value=''), FloatProgress(value=0.0, max=1.0), HTML(value='')))"
      ]
     },
     "metadata": {},
     "output_type": "display_data"
    },
    {
     "data": {
      "application/vnd.jupyter.widget-view+json": {
       "model_id": "25830fb250fb41a6bd46a288ab0a8977",
       "version_major": 2,
       "version_minor": 0
      },
      "text/plain": [
       "HBox(children=(HTML(value=''), FloatProgress(value=0.0, max=444.0), HTML(value='')))"
      ]
     },
     "metadata": {},
     "output_type": "display_data"
    },
    {
     "name": "stdout",
     "output_type": "stream",
     "text": [
      "\n",
      "\n",
      "\n"
     ]
    }
   ],
   "source": [
    "# sorts science images into a subfolder in their directory named science\n",
    "VisAO_new_science = []\n",
    "for i in trange(len(VisAO_science)):\n",
    "    dataset = VisAO_science[i]\n",
    "    exptimes = []\n",
    "    # print('checking exp times')\n",
    "    for im in tqdm_notebook(dataset):\n",
    "        try:\n",
    "            im_expt = fits.getheader(im)['EXPTIME']\n",
    "            if im_expt not in exptimes:\n",
    "                exptimes.append(im_expt)\n",
    "        except FileNotFoundError:\n",
    "            pass\n",
    "                \n",
    "    for expt in tqdm_notebook(exptimes):\n",
    "        ims_with_expt = []\n",
    "        ims_with_expt_new_path = []\n",
    "        for im in dataset:\n",
    "            try:\n",
    "                im_expt = fits.getheader(im)['EXPTIME']\n",
    "                if im_expt == expt:\n",
    "                    ims_with_expt.append(im)\n",
    "            except FileNotFoundError:\n",
    "                pass\n",
    "            \n",
    "\n",
    "        for sci_im in tqdm_notebook(ims_with_expt):\n",
    "            imname = sci_im.split('\\\\')[-1]\n",
    "            newroot = sci_im.replace(sci_im.split('\\\\')[-1], 'science'+str(round(expt, 5))+'s\\\\')\n",
    "            if os.path.exists(newroot):\n",
    "                # print('folder ', newroot, 'exists')\n",
    "                pass\n",
    "            else:\n",
    "                # print('creating folder ', newroot)\n",
    "                os.mkdir(newroot)\n",
    "            newpath = newroot+imname\n",
    "            try:\n",
    "                os.rename(sci_im, newpath)\n",
    "            except FileNotFoundError:\n",
    "                pass\n",
    "            ims_with_expt_new_path.append(newpath)\n",
    "        VisAO_new_science.append(ims_with_expt_new_path)\n",
    "\n",
    "filename = 'visao_new_science.pkl'\n",
    "outfile = open(filename,'wb')\n",
    "pickle.dump(VisAO_new_science,outfile)\n",
    "outfile.close()"
   ]
  },
  {
   "cell_type": "code",
   "execution_count": 9,
   "metadata": {},
   "outputs": [],
   "source": [
    "infile = open('visao_new_science.pkl','rb')\n",
    "VisAO_new_science = pickle.load(infile)\n",
    "infile.close()\n",
    "\n",
    "infile = open('visao_new_darks.pkl','rb')\n",
    "VisAO_new_darks = pickle.load(infile)\n",
    "infile.close()"
   ]
  },
  {
   "cell_type": "code",
   "execution_count": 10,
   "metadata": {},
   "outputs": [],
   "source": [
    "nights = glob.glob(datadir+'\\\\**\\\\')#, recursive=True)\n",
    "obs = []\n",
    "for night in nights:\n",
    "    runs = glob.glob(night+'\\\\**\\\\')\n",
    "    for run in runs:\n",
    "        obs.append(run)\n",
    "\n",
    "darks = []\n",
    "obs2 = []\n",
    "for ob in obs:\n",
    "    exptsets = glob.glob(ob+'science*\\\\*fits*')\n",
    "    if len(exptsets) != 0:\n",
    "        obs2.append(exptsets)\n",
    "        darkset = glob.glob(ob+'dark*\\\\*fits*')\n",
    "        darks.append(darkset)"
   ]
  },
  {
   "cell_type": "code",
   "execution_count": 11,
   "metadata": {},
   "outputs": [
    {
     "data": {
      "application/vnd.jupyter.widget-view+json": {
       "model_id": "ccb19551502d4637b63fa51b4131d3b2",
       "version_major": 2,
       "version_minor": 0
      },
      "text/plain": [
       "HBox(children=(HTML(value=''), FloatProgress(value=0.0, max=30.0), HTML(value='')))"
      ]
     },
     "metadata": {},
     "output_type": "display_data"
    },
    {
     "name": "stdout",
     "output_type": "stream",
     "text": [
      "\n"
     ]
    }
   ],
   "source": [
    "# write master dark for each observation\n",
    "master_darks = []\n",
    "master_dark_paths = []\n",
    "for obs in tqdm_notebook(darks):\n",
    "    darkim = obs[0]\n",
    "    oldheader = fits.getheader(darkim)\n",
    "    oldroot = darkim.replace('dark\\\\'+darkim.split('\\\\')[-1], '\\\\')\n",
    "    newpath = oldroot+'MasterDark'+str(oldheader['EXPTIME'])+'s'+str(oldheader['V47GAIN'])+'.fit'\n",
    "    master_dark_paths.append(newpath)\n",
    "    master_dark = mediancombine(obs)\n",
    "    master_darks.append(master_dark)\n",
    "    fits.writeto(newpath, master_dark, oldheader, overwrite=True)"
   ]
  },
  {
   "cell_type": "code",
   "execution_count": 12,
   "metadata": {},
   "outputs": [
    {
     "data": {
      "application/vnd.jupyter.widget-view+json": {
       "model_id": "b35f112b58ac4cadb923e91c24f41c2c",
       "version_major": 2,
       "version_minor": 0
      },
      "text/plain": [
       "HBox(children=(HTML(value=''), FloatProgress(value=0.0, max=130.0), HTML(value='')))"
      ]
     },
     "metadata": {},
     "output_type": "display_data"
    },
    {
     "name": "stdout",
     "output_type": "stream",
     "text": [
      "\n"
     ]
    }
   ],
   "source": [
    "# fix 2015 baades window imgs\n",
    "windows = []\n",
    "for dataset in obs2:\n",
    "    if 'baade' in dataset[0]:\n",
    "        windows.append(dataset)\n",
    "\n",
    "baades_corrected = []\n",
    "for dataset in windows[0:1]:\n",
    "    first_frame, first_header = fits.getdata(dataset[0], header=True)\n",
    "#     imgandhist(first_frame)\n",
    "    # 1010:1025 -> 512:526\n",
    "    # 0:15 - > 498:512\n",
    "    n = len(dataset)\n",
    "    imsize_y, imsize_x = first_frame.shape\n",
    "    empty_img = np.zeros((n, imsize_y, imsize_x))\n",
    "    for ii in trange(0, n):\n",
    "        im = fits.getdata(dataset[ii])\n",
    "        if ii < 8:\n",
    "            empty_img[ii, 497:512, :] = im[0:15, :]\n",
    "    #         imgandhist(empty_img[ii], log=True)\n",
    "            empty_img[ii, 512:526, :] = im[1010:1025, :]\n",
    "    #         imgandhist(empty_img[ii], log=True)\n",
    "            empty_img[ii, 0:497, :] = im[15:512]\n",
    "    #         imgandhist(empty_img[ii], log=True)\n",
    "            empty_img[ii, 526:, :] = im[512:1010, :]\n",
    "    #         imgandhist(empty_img[ii], log=True)\n",
    "        else:\n",
    "            empty_img[ii, :, :] = im\n",
    "    baades_corrected.append(empty_img)\n",
    "   "
   ]
  },
  {
   "cell_type": "code",
   "execution_count": 13,
   "metadata": {},
   "outputs": [],
   "source": [
    "import numpy.fft as fft\n",
    "import scipy.interpolate as sinterp\n",
    "\n",
    "def high_pass_filter(img, filtersize=10):\n",
    "    \"\"\"\n",
    "    A FFT implmentation of high pass filter.\n",
    "\n",
    "    Args:\n",
    "        img: a 2D image\n",
    "        filtersize: size in Fourier space of the size of the space. In image space, size=img_size/filtersize\n",
    "\n",
    "    Returns:\n",
    "        filtered: the filtered image\n",
    "    \"\"\"\n",
    "    # mask NaNs if there are any\n",
    "    nan_index = np.where(np.isnan(img))\n",
    "    if np.size(nan_index) > 0:\n",
    "        good_index = np.where(~np.isnan(img))\n",
    "        y, x = np.indices(img.shape)\n",
    "        good_coords = np.array([x[good_index], y[good_index]]).T # shape of Npix, ndimage\n",
    "        nan_fixer = sinterp.NearestNDInterpolator(good_coords, img[good_index])\n",
    "        fixed_dat = nan_fixer(x[nan_index], y[nan_index])\n",
    "        img[nan_index] = fixed_dat\n",
    "\n",
    "    transform = fft.fft2(img)\n",
    "\n",
    "    # coordinate system in FFT image\n",
    "    u,v = np.meshgrid(fft.fftfreq(transform.shape[1]), fft.fftfreq(transform.shape[0]))\n",
    "    # scale u,v so it has units of pixels in FFT space\n",
    "    rho = np.sqrt((u*transform.shape[1])**2 + (v*transform.shape[0])**2)\n",
    "    # scale rho up so that it has units of pixels in FFT space\n",
    "    # rho *= transform.shape[0]\n",
    "    # create the filter\n",
    "    filt = 1. - np.exp(-(rho**2/filtersize**2))\n",
    "\n",
    "    filtered = np.real(fft.ifft2(transform*filt))\n",
    "\n",
    "    # restore NaNs\n",
    "    filtered[nan_index] = np.nan\n",
    "    img[nan_index] = np.nan\n",
    "\n",
    "    return filtered"
   ]
  },
  {
   "cell_type": "code",
   "execution_count": 29,
   "metadata": {},
   "outputs": [
    {
     "data": {
      "image/png": "[encoded data removed]",
      "text/plain": [
       "<Figure size 576x288 with 3 Axes>"
      ]
     },
     "metadata": {
      "needs_background": "light"
     },
     "output_type": "display_data"
    }
   ],
   "source": [
    "# size=img_size/filtersize\n",
    "# filtersize = img_size/size\n",
    "\n",
    "test = high_pass_filter(baades_corrected[0][0], filtersize=baades_corrected[0][0].shape[0]/100)\n",
    "\n",
    "\n",
    "def imgandhist(img, log=False):\n",
    "    from astropy.stats import sigma_clip\n",
    "    fig = plt.figure(figsize=(8,4))\n",
    "    ax1 = plt.subplot2grid((3,6), (0,0), rowspan=3, colspan=3)\n",
    "    im_frame = ax1.imshow(img, norm=ImageNormalize(stretch=AsinhStretch()), origin='lower')\n",
    "    plt.colorbar(im_frame, ax=ax1)\n",
    "    ax2 = plt.subplot2grid((3,6), (0,4), rowspan=3, colspan=2)\n",
    "    ax2.hist(sigma_clip(img.flatten(), sigma=10), bins=100)\n",
    "    if log:\n",
    "        ax2.set_xscale('log')\n",
    "    #plt.show()\n",
    "    \n",
    "imgandhist(test)"
   ]
  },
  {
   "cell_type": "code",
   "execution_count": 14,
   "metadata": {},
   "outputs": [
    {
     "data": {
      "application/vnd.jupyter.widget-view+json": {
       "model_id": "9ab3ee3aa41d465fbe76f251f4dbff95",
       "version_major": 2,
       "version_minor": 0
      },
      "text/plain": [
       "HBox(children=(HTML(value=''), FloatProgress(value=0.0, max=30.0), HTML(value='')))"
      ]
     },
     "metadata": {},
     "output_type": "display_data"
    },
    {
     "name": "stdout",
     "output_type": "stream",
     "text": [
      "\n"
     ]
    }
   ],
   "source": [
    "# dark subtract and save as cube\n",
    "for i in trange(len(obs2)):\n",
    "    sci_ims = obs2[i]\n",
    "    dark_ims = darks[i]\n",
    "    dark = master_darks[i]\n",
    "    firstim = sci_ims[0]\n",
    "    try:        \n",
    "        first_frame_data, firstheader = fits.getdata(firstim, header=True)\n",
    "        date = firstheader['DATE-OBS'].split('T')[0]\n",
    "        targ = firstheader['OBJECT']\n",
    "        expt = firstheader['EXPTIME']\n",
    "        newroot = firstim.replace('\\\\science'+str(round(expt, 5))+'s\\\\'+firstim.split('\\\\')[-1], '\\\\')\n",
    "        newpath = newroot+targ+'_'+date+'_'+'darksub_cube.fit'\n",
    "\n",
    "        n = len(sci_ims)\n",
    "\n",
    "        if 'baade' in sci_ims[0]:\n",
    "            if 'baade_zp_' not in dataset[0]:\n",
    "                fits_stack = baades_corrected[0]\n",
    "                n = len(fits_stack)\n",
    "                for ii in range(0, n):\n",
    "                    fits_stack[ii, :, :] -= dark\n",
    "        else:        \n",
    "            imsize_y, imsize_x = first_frame_data.shape\n",
    "            fits_stack = np.zeros((n, imsize_y, imsize_x))\n",
    "            for ii in range(0, n):\n",
    "                im = fits.getdata(sci_ims[ii])\n",
    "                fits_stack[ii, :, :] = im - dark\n",
    "\n",
    "        # delete raw data to save space\n",
    "        for im in sci_ims:\n",
    "            os.remove(im)\n",
    "        for dark in dark_ims:\n",
    "            os.remove(dark)\n",
    "\n",
    "        fits.writeto(newpath, fits_stack, firstheader, overwrite=True)\n",
    "    except FileNotFoundError:\n",
    "        pass"
   ]
  },
  {
   "cell_type": "code",
   "execution_count": 1,
   "metadata": {},
   "outputs": [],
   "source": [
    "from calibFuncs import *\n",
    "from circlesym import *\n",
    "\n",
    "\n",
    "# read in dark subtracted images\n",
    "datadir = 'C:\\\\Users\\\\willi\\\\Dropbox (Amherst College)\\\\Research\\\\Follette-Lab\\\\Thesis-Data\\William\\\\trapezium_data\\\\visao_astro'\n",
    "darksubs = glob.glob(datadir+'\\\\**\\\\*darksub_cube.fit', recursive=True)\n",
    "\n",
    "def imgandhist(img, log=False):\n",
    "    from astropy.stats import sigma_clip\n",
    "    fig = plt.figure(figsize=(8,4))\n",
    "    ax1 = plt.subplot2grid((3,6), (0,0), rowspan=3, colspan=3)\n",
    "    im_frame = ax1.imshow(img, norm=ImageNormalize(stretch=LogStretch()), origin='lower')\n",
    "    plt.colorbar(im_frame, ax=ax1)\n",
    "    ax2 = plt.subplot2grid((3,6), (0,4), rowspan=3, colspan=2)\n",
    "    ax2.hist(sigma_clip(img.flatten(), sigma=10), bins=100)\n",
    "    if log:\n",
    "        ax2.set_xscale('log')\n",
    "    #plt.show()"
   ]
  },
  {
   "cell_type": "code",
   "execution_count": 9,
   "metadata": {},
   "outputs": [
    {
     "data": {
      "text/plain": [
       "['C:\\\\Users\\\\willi\\\\Dropbox (Amherst College)\\\\Research\\\\Follette-Lab\\\\Thesis-Data\\\\William\\\\trapezium_data\\\\visao_astro\\\\visao_20161116_17\\\\tet1OriB_ip_350modes_20161117073420226445\\\\Theta1_Ori_C_2016-11-17_darksub_cube.fit',\n",
       " 'C:\\\\Users\\\\willi\\\\Dropbox (Amherst College)\\\\Research\\\\Follette-Lab\\\\Thesis-Data\\\\William\\\\trapezium_data\\\\visao_astro\\\\visao_20161116_17\\\\tet1OriB_zp_350modes_20161117072924185566\\\\Theta1_Ori_C_2016-11-17_darksub_cube.fit',\n",
       " 'C:\\\\Users\\\\willi\\\\Dropbox (Amherst College)\\\\Research\\\\Follette-Lab\\\\Thesis-Data\\\\William\\\\trapezium_data\\\\visao_astro\\\\visao_20161116_17\\\\tet1OriB_zp_350modes_20161117073136006316\\\\Theta1_Ori_C_2016-11-17_darksub_cube.fit']"
      ]
     },
     "execution_count": 9,
     "metadata": {},
     "output_type": "execute_result"
    }
   ],
   "source": [
    "# baades 2015 darksubs[9:12]\n",
    "# theba b broadband 2016 darksubs[14:17]\n",
    "# theta b broadband 2018 darksubs[27, 29]"
   ]
  },
  {
   "cell_type": "code",
   "execution_count": null,
   "metadata": {},
   "outputs": [],
   "source": [
    "for path in tqdm_notebook(darksubs[9:12]):\n",
    "    print('current darksubs ind is '+str(darksubs.index(path)))\n",
    "    # read in darksub cube\n",
    "    hdr = fits.getheader(path)\n",
    "    data = fits.getdata(path)\n",
    "    datadir = path.replace(path.split('\\\\')[-1], '')\n",
    "    filname = path.split('\\\\')[-1]\n",
    "\n",
    "    # list to store images needed to handle Woll-on images\n",
    "    # if beamsplitter is on, split images into separate frames, add to images list\n",
    "    # else, put image in images list\n",
    "    if hdr['VWOLLSTN'] == 'IN':\n",
    "        if data.shape[1] >= 1024:\n",
    "            ha = data[:, 513:, :]\n",
    "            ha_off = data[:, 0:512, :]\n",
    "            images = [ha, ha_off]\n",
    "            j = 0 # this is to save ha/off as different files later in the loop\n",
    "    else:\n",
    "        images = [data]\n",
    "        \n",
    "    # register images\n",
    "    for image in images:\n",
    "        # create guess, boxsize for center of image for registration\n",
    "        imgandhist(image[0], log=True)\n",
    "        skip = input('type \\'skip\\' to skip, else type \\'go\\': ')\n",
    "        if skip != 'skip':\n",
    "            try:\n",
    "                cenx, ceny, fwhm = findFirst('blah', thresh=100, fwhmguess=5, bright=5, roundness=1, data=image[0])\n",
    "            except TypeError:\n",
    "                cenx, ceny, fwhm = (image.shape[1]//2, image.shape[2]//2, 3)\n",
    "            print(cenx, ceny)\n",
    "            boxsize = int(input('give boxsize: '))\n",
    "            n = len(image)\n",
    "            # coarse registration\n",
    "#             coarse = np.zeros((n, image.shape[1], image.shape[2]))\n",
    "#             for i in trange(n):\n",
    "#                 frame = image[i]\n",
    "#                 xsh, ysh = centroid(frame, cenx, ceny, nhalf=500, derivshift=1.)\n",
    "#                 xsh -= image.shape[1]/2\n",
    "#                 ysh -= image.shape[2]/2\n",
    "#                 coarse[i, :, :] = shift_image(frame, xsh, ysh)\n",
    "\n",
    "            coarse = crosscube(image, cenx, ceny, box=boxsize, returnmed=False, returncube=True)\n",
    "            fits.writeto('test2.fit', coarse, fits.getheader(path), overwrite=True)\n",
    "            \n",
    "            imgandhist(np.nanmedian(coarse, axis=0), log=True)\n",
    "\n",
    "            # fine registration\n",
    "            fine = circlesym(datadir, filname, 'circlesym.fit', data=coarse, box=boxsize, center = [cenx, ceny], center_only=boxsize, save=False)\n",
    "            hdr = fits.getheader(path)\n",
    "            hdr.append(('COMMENT', 'aligned with crosscorrelation and center of circular symmetry'), end=True)\n",
    "\n",
    "            # subdivide observation\n",
    "            n = len(fine)\n",
    "            start = 0\n",
    "            if 9999 > n > 100:\n",
    "                sections = n // int(str(n)[0])\n",
    "                stop = sections\n",
    "            elif n > 1e4:\n",
    "                sections = n // 5\n",
    "                stop = sections\n",
    "            print('subdiv into sections len: '+str(sections))\n",
    "            subdiv_stack = np.zeros((n, fine.shape[1], fine.shape[2]))\n",
    "            for i in range(n // sections):\n",
    "                subdiv = fine[start:stop]\n",
    "                subdiv_stack[i, :, :] = np.nanmedian(subdiv, axis=0)\n",
    "                if len(images) > 1:\n",
    "                    if j == 0:\n",
    "                        newpath = datadir+filname.replace('.fit', 'HA_subdivtest'+str(i)+'.fit')\n",
    "                    else:\n",
    "                        newpath = datadir+filname.replace('.fit', 'HAoff_subdivtest'+str(i)+'.fit')\n",
    "                else:\n",
    "                    newpath = datadir+filname.replace('.fit', '_subdivtest'+str(i)+'.fit')\n",
    "                fits.writeto(newpath, subdiv_stack[i, :, :], hdr, overwrite=True)\n",
    "                start += sections\n",
    "                stop += sections\n",
    "        else:\n",
    "            pass"
   ]
  },
  {
   "cell_type": "code",
   "execution_count": 31,
   "metadata": {},
   "outputs": [
    {
     "data": {
      "text/plain": [
       "'C:\\\\Users\\\\willi\\\\Dropbox (Amherst College)\\\\Research\\\\Follette-Lab\\\\Thesis-Data\\\\William\\\\trapezium_data\\\\visao_astro\\\\visao_20141116_17\\\\tet1_OriC_ha\\\\Unknown_2014-11-17_darksub_cube.fit'"
      ]
     },
     "execution_count": 31,
     "metadata": {},
     "output_type": "execute_result"
    }
   ],
   "source": [
    "darksubs[5]"
   ]
  },
  {
   "cell_type": "code",
   "execution_count": 29,
   "metadata": {
    "scrolled": true
   },
   "outputs": [
    {
     "data": {
      "image/png": "[encoded data removed]",
      "text/plain": [
       "<Figure size 576x288 with 3 Axes>"
      ]
     },
     "metadata": {
      "needs_background": "light"
     },
     "output_type": "display_data"
    },
    {
     "data": {
      "image/png": "[encoded data removed]",
      "text/plain": [
       "<Figure size 576x288 with 3 Axes>"
      ]
     },
     "metadata": {
      "needs_background": "light"
     },
     "output_type": "display_data"
    },
    {
     "data": {
      "image/png": "[encoded data removed]",
      "text/plain": [
       "<Figure size 576x288 with 3 Axes>"
      ]
     },
     "metadata": {
      "needs_background": "light"
     },
     "output_type": "display_data"
    },
    {
     "data": {
      "image/png": "[encoded data removed]",
      "text/plain": [
       "<Figure size 576x288 with 3 Axes>"
      ]
     },
     "metadata": {
      "needs_background": "light"
     },
     "output_type": "display_data"
    },
    {
     "data": {
      "image/png": "[encoded data removed]",
      "text/plain": [
       "<Figure size 576x288 with 3 Axes>"
      ]
     },
     "metadata": {
      "needs_background": "light"
     },
     "output_type": "display_data"
    }
   ],
   "source": [
    "from astropy.io import fits\n",
    "from photutils.centroids import centroid_sources\n",
    "from photutils import CircularAperture\n",
    "from astropy.stats import sigma_clip\n",
    "\n",
    "for path in [darksubs[5]]:\n",
    "    datadir = path.replace(path.split('\\\\')[-1], '')\n",
    "    dataset = glob.glob(datadir+'*subdivtest*.fit*')\n",
    "    for image in dataset:\n",
    "        img = fits.getdata(image)\n",
    "        xcens, ycens = centroid_sources(img, [13, 17], [13, 17], box_size=7)\n",
    "\n",
    "        positions = np.transpose((xcens, ycens))\n",
    "        apertures = CircularAperture(positions, r=3)\n",
    "\n",
    "        fig = plt.figure(figsize=(8,4))\n",
    "        ax1 = plt.subplot2grid((3,6), (0,0), rowspan=3, colspan=3)\n",
    "        im_frame = ax1.imshow(img, norm=ImageNormalize(stretch=LogStretch()), origin='lower')\n",
    "        apertures.plot(color='red', lw=1.5, alpha=0.7)\n",
    "        plt.colorbar(im_frame, ax=ax1)\n",
    "        ax2 = plt.subplot2grid((3,6), (0,4), rowspan=3, colspan=2)\n",
    "        ax2.hist(sigma_clip(img.flatten(), sigma=10), bins=100)\n",
    "        ax2.set_xscale('log')\n",
    "        plt.show()"
   ]
  },
  {
   "cell_type": "code",
   "execution_count": 5,
   "metadata": {},
   "outputs": [
    {
     "data": {
      "text/plain": [
       "'C:\\\\Users\\\\willi\\\\Dropbox (Amherst College)\\\\Research\\\\Follette-Lab\\\\Thesis-Data\\\\William\\\\trapezium_data\\\\visao_astro\\\\visao_20180426_27\\\\tet1OriB_HA_woll_005\\\\Theta1_Ori_B_2018-04-26_darksub_cube.fit'"
      ]
     },
     "execution_count": 5,
     "metadata": {},
     "output_type": "execute_result"
    }
   ],
   "source": [
    "darksubs[27]"
   ]
  },
  {
   "cell_type": "code",
   "execution_count": 6,
   "metadata": {
    "scrolled": true
   },
   "outputs": [
    {
     "ename": "ValueError",
     "evalue": "Empty data passed with indices specified.",
     "output_type": "error",
     "traceback": [
      "\u001b[1;31m---------------------------------------------------------------------------\u001b[0m",
      "\u001b[1;31mValueError\u001b[0m                                Traceback (most recent call last)",
      "\u001b[1;32mc:\\programdata\\anaconda3\\lib\\site-packages\\pandas\\core\\internals\\managers.py\u001b[0m in \u001b[0;36mcreate_block_manager_from_blocks\u001b[1;34m(blocks, axes)\u001b[0m\n\u001b[0;32m   1661\u001b[0m                 blocks = [\n\u001b[1;32m-> 1662\u001b[1;33m                     \u001b[0mmake_block\u001b[0m\u001b[1;33m(\u001b[0m\u001b[0mvalues\u001b[0m\u001b[1;33m=\u001b[0m\u001b[0mblocks\u001b[0m\u001b[1;33m[\u001b[0m\u001b[1;36m0\u001b[0m\u001b[1;33m]\u001b[0m\u001b[1;33m,\u001b[0m \u001b[0mplacement\u001b[0m\u001b[1;33m=\u001b[0m\u001b[0mslice\u001b[0m\u001b[1;33m(\u001b[0m\u001b[1;36m0\u001b[0m\u001b[1;33m,\u001b[0m \u001b[0mlen\u001b[0m\u001b[1;33m(\u001b[0m\u001b[0maxes\u001b[0m\u001b[1;33m[\u001b[0m\u001b[1;36m0\u001b[0m\u001b[1;33m]\u001b[0m\u001b[1;33m)\u001b[0m\u001b[1;33m)\u001b[0m\u001b[1;33m)\u001b[0m\u001b[1;33m\u001b[0m\u001b[1;33m\u001b[0m\u001b[0m\n\u001b[0m\u001b[0;32m   1663\u001b[0m                 ]\n",
      "\u001b[1;32mc:\\programdata\\anaconda3\\lib\\site-packages\\pandas\\core\\internals\\blocks.py\u001b[0m in \u001b[0;36mmake_block\u001b[1;34m(values, placement, klass, ndim, dtype)\u001b[0m\n\u001b[0;32m   2721\u001b[0m \u001b[1;33m\u001b[0m\u001b[0m\n\u001b[1;32m-> 2722\u001b[1;33m     \u001b[1;32mreturn\u001b[0m \u001b[0mklass\u001b[0m\u001b[1;33m(\u001b[0m\u001b[0mvalues\u001b[0m\u001b[1;33m,\u001b[0m \u001b[0mndim\u001b[0m\u001b[1;33m=\u001b[0m\u001b[0mndim\u001b[0m\u001b[1;33m,\u001b[0m \u001b[0mplacement\u001b[0m\u001b[1;33m=\u001b[0m\u001b[0mplacement\u001b[0m\u001b[1;33m)\u001b[0m\u001b[1;33m\u001b[0m\u001b[1;33m\u001b[0m\u001b[0m\n\u001b[0m\u001b[0;32m   2723\u001b[0m \u001b[1;33m\u001b[0m\u001b[0m\n",
      "\u001b[1;32mc:\\programdata\\anaconda3\\lib\\site-packages\\pandas\\core\\internals\\blocks.py\u001b[0m in \u001b[0;36m__init__\u001b[1;34m(self, values, placement, ndim)\u001b[0m\n\u001b[0;32m    129\u001b[0m         \u001b[1;32mif\u001b[0m \u001b[0mself\u001b[0m\u001b[1;33m.\u001b[0m\u001b[0m_validate_ndim\u001b[0m \u001b[1;32mand\u001b[0m \u001b[0mself\u001b[0m\u001b[1;33m.\u001b[0m\u001b[0mndim\u001b[0m \u001b[1;32mand\u001b[0m \u001b[0mlen\u001b[0m\u001b[1;33m(\u001b[0m\u001b[0mself\u001b[0m\u001b[1;33m.\u001b[0m\u001b[0mmgr_locs\u001b[0m\u001b[1;33m)\u001b[0m \u001b[1;33m!=\u001b[0m \u001b[0mlen\u001b[0m\u001b[1;33m(\u001b[0m\u001b[0mself\u001b[0m\u001b[1;33m.\u001b[0m\u001b[0mvalues\u001b[0m\u001b[1;33m)\u001b[0m\u001b[1;33m:\u001b[0m\u001b[1;33m\u001b[0m\u001b[1;33m\u001b[0m\u001b[0m\n\u001b[1;32m--> 130\u001b[1;33m             raise ValueError(\n\u001b[0m\u001b[0;32m    131\u001b[0m                 \u001b[1;34mf\"Wrong number of items passed {len(self.values)}, \"\u001b[0m\u001b[1;33m\u001b[0m\u001b[1;33m\u001b[0m\u001b[0m\n",
      "\u001b[1;31mValueError\u001b[0m: Wrong number of items passed 1, placement implies 4",
      "\nDuring handling of the above exception, another exception occurred:\n",
      "\u001b[1;31mValueError\u001b[0m                                Traceback (most recent call last)",
      "\u001b[1;32m<ipython-input-6-76ebcd19a124>\u001b[0m in \u001b[0;36m<module>\u001b[1;34m\u001b[0m\n\u001b[0;32m     23\u001b[0m         \u001b[0mfilts\u001b[0m\u001b[1;33m.\u001b[0m\u001b[0mappend\u001b[0m\u001b[1;33m(\u001b[0m\u001b[0mpassband\u001b[0m\u001b[1;33m)\u001b[0m\u001b[1;33m\u001b[0m\u001b[1;33m\u001b[0m\u001b[0m\n\u001b[0;32m     24\u001b[0m     \u001b[0mdata2\u001b[0m \u001b[1;33m=\u001b[0m \u001b[0mnp\u001b[0m\u001b[1;33m.\u001b[0m\u001b[0masarray\u001b[0m\u001b[1;33m(\u001b[0m\u001b[0mdata\u001b[0m\u001b[1;33m)\u001b[0m\u001b[1;33m\u001b[0m\u001b[1;33m\u001b[0m\u001b[0m\n\u001b[1;32m---> 25\u001b[1;33m     \u001b[0mdata_frame\u001b[0m \u001b[1;33m=\u001b[0m \u001b[0mpd\u001b[0m\u001b[1;33m.\u001b[0m\u001b[0mDataFrame\u001b[0m\u001b[1;33m(\u001b[0m\u001b[0mdata\u001b[0m\u001b[1;33m=\u001b[0m\u001b[0mdata2\u001b[0m\u001b[1;33m,\u001b[0m \u001b[0mcolumns\u001b[0m\u001b[1;33m=\u001b[0m\u001b[1;33m[\u001b[0m\u001b[1;34m'sep'\u001b[0m\u001b[1;33m,\u001b[0m\u001b[1;34m'seperr'\u001b[0m\u001b[1;33m,\u001b[0m\u001b[1;34m'PA'\u001b[0m\u001b[1;33m,\u001b[0m\u001b[1;34m'PAerr'\u001b[0m\u001b[1;33m]\u001b[0m\u001b[1;33m)\u001b[0m\u001b[1;33m\u001b[0m\u001b[1;33m\u001b[0m\u001b[0m\n\u001b[0m\u001b[0;32m     26\u001b[0m     \u001b[0mdata_frame\u001b[0m\u001b[1;33m[\u001b[0m\u001b[1;34m'date'\u001b[0m\u001b[1;33m]\u001b[0m \u001b[1;33m=\u001b[0m \u001b[0mdates\u001b[0m\u001b[1;33m\u001b[0m\u001b[1;33m\u001b[0m\u001b[0m\n\u001b[0;32m     27\u001b[0m     \u001b[0mdata_frame\u001b[0m\u001b[1;33m[\u001b[0m\u001b[1;34m'filter'\u001b[0m\u001b[1;33m]\u001b[0m \u001b[1;33m=\u001b[0m \u001b[0mfilts\u001b[0m\u001b[1;33m\u001b[0m\u001b[1;33m\u001b[0m\u001b[0m\n",
      "\u001b[1;32mc:\\programdata\\anaconda3\\lib\\site-packages\\pandas\\core\\frame.py\u001b[0m in \u001b[0;36m__init__\u001b[1;34m(self, data, index, columns, dtype, copy)\u001b[0m\n\u001b[0;32m    495\u001b[0m                 \u001b[0mmgr\u001b[0m \u001b[1;33m=\u001b[0m \u001b[0minit_dict\u001b[0m\u001b[1;33m(\u001b[0m\u001b[1;33m{\u001b[0m\u001b[0mdata\u001b[0m\u001b[1;33m.\u001b[0m\u001b[0mname\u001b[0m\u001b[1;33m:\u001b[0m \u001b[0mdata\u001b[0m\u001b[1;33m}\u001b[0m\u001b[1;33m,\u001b[0m \u001b[0mindex\u001b[0m\u001b[1;33m,\u001b[0m \u001b[0mcolumns\u001b[0m\u001b[1;33m,\u001b[0m \u001b[0mdtype\u001b[0m\u001b[1;33m=\u001b[0m\u001b[0mdtype\u001b[0m\u001b[1;33m)\u001b[0m\u001b[1;33m\u001b[0m\u001b[1;33m\u001b[0m\u001b[0m\n\u001b[0;32m    496\u001b[0m             \u001b[1;32melse\u001b[0m\u001b[1;33m:\u001b[0m\u001b[1;33m\u001b[0m\u001b[1;33m\u001b[0m\u001b[0m\n\u001b[1;32m--> 497\u001b[1;33m                 \u001b[0mmgr\u001b[0m \u001b[1;33m=\u001b[0m \u001b[0minit_ndarray\u001b[0m\u001b[1;33m(\u001b[0m\u001b[0mdata\u001b[0m\u001b[1;33m,\u001b[0m \u001b[0mindex\u001b[0m\u001b[1;33m,\u001b[0m \u001b[0mcolumns\u001b[0m\u001b[1;33m,\u001b[0m \u001b[0mdtype\u001b[0m\u001b[1;33m=\u001b[0m\u001b[0mdtype\u001b[0m\u001b[1;33m,\u001b[0m \u001b[0mcopy\u001b[0m\u001b[1;33m=\u001b[0m\u001b[0mcopy\u001b[0m\u001b[1;33m)\u001b[0m\u001b[1;33m\u001b[0m\u001b[1;33m\u001b[0m\u001b[0m\n\u001b[0m\u001b[0;32m    498\u001b[0m \u001b[1;33m\u001b[0m\u001b[0m\n\u001b[0;32m    499\u001b[0m         \u001b[1;31m# For data is list-like, or Iterable (will consume into list)\u001b[0m\u001b[1;33m\u001b[0m\u001b[1;33m\u001b[0m\u001b[1;33m\u001b[0m\u001b[0m\n",
      "\u001b[1;32mc:\\programdata\\anaconda3\\lib\\site-packages\\pandas\\core\\internals\\construction.py\u001b[0m in \u001b[0;36minit_ndarray\u001b[1;34m(values, index, columns, dtype, copy)\u001b[0m\n\u001b[0;32m    232\u001b[0m         \u001b[0mblock_values\u001b[0m \u001b[1;33m=\u001b[0m \u001b[1;33m[\u001b[0m\u001b[0mvalues\u001b[0m\u001b[1;33m]\u001b[0m\u001b[1;33m\u001b[0m\u001b[1;33m\u001b[0m\u001b[0m\n\u001b[0;32m    233\u001b[0m \u001b[1;33m\u001b[0m\u001b[0m\n\u001b[1;32m--> 234\u001b[1;33m     \u001b[1;32mreturn\u001b[0m \u001b[0mcreate_block_manager_from_blocks\u001b[0m\u001b[1;33m(\u001b[0m\u001b[0mblock_values\u001b[0m\u001b[1;33m,\u001b[0m \u001b[1;33m[\u001b[0m\u001b[0mcolumns\u001b[0m\u001b[1;33m,\u001b[0m \u001b[0mindex\u001b[0m\u001b[1;33m]\u001b[0m\u001b[1;33m)\u001b[0m\u001b[1;33m\u001b[0m\u001b[1;33m\u001b[0m\u001b[0m\n\u001b[0m\u001b[0;32m    235\u001b[0m \u001b[1;33m\u001b[0m\u001b[0m\n\u001b[0;32m    236\u001b[0m \u001b[1;33m\u001b[0m\u001b[0m\n",
      "\u001b[1;32mc:\\programdata\\anaconda3\\lib\\site-packages\\pandas\\core\\internals\\managers.py\u001b[0m in \u001b[0;36mcreate_block_manager_from_blocks\u001b[1;34m(blocks, axes)\u001b[0m\n\u001b[0;32m   1670\u001b[0m         \u001b[0mblocks\u001b[0m \u001b[1;33m=\u001b[0m \u001b[1;33m[\u001b[0m\u001b[0mgetattr\u001b[0m\u001b[1;33m(\u001b[0m\u001b[0mb\u001b[0m\u001b[1;33m,\u001b[0m \u001b[1;34m\"values\"\u001b[0m\u001b[1;33m,\u001b[0m \u001b[0mb\u001b[0m\u001b[1;33m)\u001b[0m \u001b[1;32mfor\u001b[0m \u001b[0mb\u001b[0m \u001b[1;32min\u001b[0m \u001b[0mblocks\u001b[0m\u001b[1;33m]\u001b[0m\u001b[1;33m\u001b[0m\u001b[1;33m\u001b[0m\u001b[0m\n\u001b[0;32m   1671\u001b[0m         \u001b[0mtot_items\u001b[0m \u001b[1;33m=\u001b[0m \u001b[0msum\u001b[0m\u001b[1;33m(\u001b[0m\u001b[0mb\u001b[0m\u001b[1;33m.\u001b[0m\u001b[0mshape\u001b[0m\u001b[1;33m[\u001b[0m\u001b[1;36m0\u001b[0m\u001b[1;33m]\u001b[0m \u001b[1;32mfor\u001b[0m \u001b[0mb\u001b[0m \u001b[1;32min\u001b[0m \u001b[0mblocks\u001b[0m\u001b[1;33m)\u001b[0m\u001b[1;33m\u001b[0m\u001b[1;33m\u001b[0m\u001b[0m\n\u001b[1;32m-> 1672\u001b[1;33m         \u001b[1;32mraise\u001b[0m \u001b[0mconstruction_error\u001b[0m\u001b[1;33m(\u001b[0m\u001b[0mtot_items\u001b[0m\u001b[1;33m,\u001b[0m \u001b[0mblocks\u001b[0m\u001b[1;33m[\u001b[0m\u001b[1;36m0\u001b[0m\u001b[1;33m]\u001b[0m\u001b[1;33m.\u001b[0m\u001b[0mshape\u001b[0m\u001b[1;33m[\u001b[0m\u001b[1;36m1\u001b[0m\u001b[1;33m:\u001b[0m\u001b[1;33m]\u001b[0m\u001b[1;33m,\u001b[0m \u001b[0maxes\u001b[0m\u001b[1;33m,\u001b[0m \u001b[0me\u001b[0m\u001b[1;33m)\u001b[0m\u001b[1;33m\u001b[0m\u001b[1;33m\u001b[0m\u001b[0m\n\u001b[0m\u001b[0;32m   1673\u001b[0m \u001b[1;33m\u001b[0m\u001b[0m\n\u001b[0;32m   1674\u001b[0m \u001b[1;33m\u001b[0m\u001b[0m\n",
      "\u001b[1;31mValueError\u001b[0m: Empty data passed with indices specified."
     ]
    }
   ],
   "source": [
    "import pandas as pd\n",
    "data_frames = []\n",
    "for path in [darksubs[27]]:\n",
    "    datadir = path.replace(path.split('\\\\')[-1], '')\n",
    "    dataset = glob.glob(datadir+'*subdivtest*.fit*')\n",
    "    data = []\n",
    "    dates = []\n",
    "    filts = []\n",
    "    for image in dataset:\n",
    "        phot_results = VisAOLocate(image, 30, 5, 5, stampsize=75, epsfstamp=75, roundness=1,\n",
    "                                  iterations=2, crit_sep=5, setfwhm=5, background_sloped=[5,5])\n",
    "        data.append(phot_results)\n",
    "        hdr = fits.getheader(image)\n",
    "        date = hdr['DATE']\n",
    "        if hdr['VFW1POS'] == 0.0:\n",
    "                if hdr['VFW2POS'] == 0.0:\n",
    "                    passband = hdr['VFW3POSN'].replace(' ','-')\n",
    "                else:\n",
    "                    passband = hdr['VFW2POSN'].replace('\\'', 'prime')\n",
    "        else:\n",
    "            passband = hdr['VFW1POSN']\n",
    "        dates.append(date)\n",
    "        filts.append(passband)\n",
    "    data2 = np.asarray(data)\n",
    "    data_frame = pd.DataFrame(data=data2, columns=['sep','seperr','PA','PAerr'])\n",
    "    data_frame['date'] = dates\n",
    "    data_frame['filter'] = filts\n",
    "    data_frames.append(data_frame)"
   ]
  },
  {
   "cell_type": "code",
   "execution_count": 10,
   "metadata": {},
   "outputs": [
    {
     "data": {
      "text/plain": [
       "[         sep      seperr          PA       PAerr                 date  filter\n",
       " 0  14.835103    0.105395  327.676341   -0.396223  2016-11-17T07:34:46  iprime\n",
       " 1  12.648188  140.606405  279.312456 -173.940289  2016-11-17T07:34:46  iprime,\n",
       "          sep    seperr          PA     PAerr                 date  filter\n",
       " 0  14.924908  0.055627  326.752393 -0.277504  2016-11-17T07:31:55  zprime\n",
       " 1  15.057733  0.064826  326.696620 -0.279162  2016-11-17T07:31:55  zprime]"
      ]
     },
     "execution_count": 10,
     "metadata": {},
     "output_type": "execute_result"
    }
   ],
   "source": [
    "data_frames"
   ]
  },
  {
   "cell_type": "code",
   "execution_count": 15,
   "metadata": {},
   "outputs": [],
   "source": [
    "data_frames[1].to_clipboard()"
   ]
  },
  {
   "cell_type": "code",
   "execution_count": null,
   "metadata": {},
   "outputs": [],
   "source": []
  },
  {
   "cell_type": "code",
   "execution_count": 1,
   "metadata": {},
   "outputs": [
    {
     "data": {
      "image/png": "[encoded data removed]",
      "text/plain": [
       "<Figure size 576x360 with 3 Axes>"
      ]
     },
     "metadata": {
      "needs_background": "light"
     },
     "output_type": "display_data"
    }
   ],
   "source": [
    "\"\"\"\n",
    "=====================\n",
    "Image Deconvolution\n",
    "=====================\n",
    "In this example, we deconvolve an image using Richardson-Lucy\n",
    "deconvolution algorithm ([1]_, [2]_).\n",
    "The algorithm is based on a PSF (Point Spread Function),\n",
    "where PSF is described as the impulse response of the\n",
    "optical system. The blurred image is sharpened through a number of\n",
    "iterations, which needs to be hand-tuned.\n",
    ".. [1] William Hadley Richardson, \"Bayesian-Based Iterative\n",
    "       Method of Image Restoration\",\n",
    "       J. Opt. Soc. Am. A 27, 1593-1607 (1972), :DOI:`10.1364/JOSA.62.000055`\n",
    ".. [2] https://en.wikipedia.org/wiki/Richardson%E2%80%93Lucy_deconvolution\n",
    "\"\"\"\n",
    "import numpy as np\n",
    "import matplotlib.pyplot as plt\n",
    "\n",
    "from scipy.signal import convolve2d as conv2\n",
    "\n",
    "from skimage import color, data, restoration\n",
    "\n",
    "astro = color.rgb2gray(data.astronaut())\n",
    "\n",
    "psf = np.ones((5, 5)) / 25\n",
    "astro = conv2(astro, psf, 'same')\n",
    "# Add Noise to Image\n",
    "astro_noisy = astro.copy()\n",
    "astro_noisy += (np.random.poisson(lam=25, size=astro.shape) - 10) / 255.\n",
    "\n",
    "# Restore Image using Richardson-Lucy algorithm\n",
    "deconvolved_RL = restoration.richardson_lucy(astro_noisy, psf, iterations=30)\n",
    "\n",
    "fig, ax = plt.subplots(nrows=1, ncols=3, figsize=(8, 5))\n",
    "plt.gray()\n",
    "\n",
    "for a in (ax[0], ax[1], ax[2]):\n",
    "       a.axis('off')\n",
    "\n",
    "ax[0].imshow(astro)\n",
    "ax[0].set_title('Original Data')\n",
    "\n",
    "ax[1].imshow(astro_noisy)\n",
    "ax[1].set_title('Noisy data')\n",
    "\n",
    "ax[2].imshow(deconvolved_RL, vmin=astro_noisy.min(), vmax=astro_noisy.max())\n",
    "ax[2].set_title('Restoration using\\nRichardson-Lucy')\n",
    "\n",
    "\n",
    "fig.subplots_adjust(wspace=0.02, hspace=0.2,\n",
    "                    top=0.9, bottom=0.05, left=0, right=1)\n",
    "plt.show()"
   ]
  },
  {
   "cell_type": "code",
   "execution_count": null,
   "metadata": {},
   "outputs": [],
   "source": []
  },
  {
   "cell_type": "code",
   "execution_count": null,
   "metadata": {},
   "outputs": [],
   "source": []
  },
  {
   "cell_type": "code",
   "execution_count": null,
   "metadata": {},
   "outputs": [],
   "source": []
  }
 ],
 "metadata": {
  "kernelspec": {
   "display_name": "Python 3",
   "language": "python",
   "name": "python3"
  },
  "language_info": {
   "codemirror_mode": {
    "name": "ipython",
    "version": 3
   },
   "file_extension": ".py",
   "mimetype": "text/x-python",
   "name": "python",
   "nbconvert_exporter": "python",
   "pygments_lexer": "ipython3",
   "version": "3.8.5"
  }
 },
 "nbformat": 4,
 "nbformat_minor": 4
}
