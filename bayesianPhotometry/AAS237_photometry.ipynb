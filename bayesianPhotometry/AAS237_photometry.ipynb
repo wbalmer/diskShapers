{
 "cells": [
  {
   "cell_type": "code",
   "execution_count": 1,
   "metadata": {},
   "outputs": [
    {
     "name": "stderr",
     "output_type": "stream",
     "text": [
      "/var/folders/0q/4ls9h2fn4lv90qs43vdtzvkw0002tl/T/ipykernel_2545/4059766329.py:4: MatplotlibDeprecationWarning: \n",
      "The mpl_toolkits.axes_grid module was deprecated in Matplotlib 2.1 and will be removed two minor releases later. Use mpl_toolkits.axes_grid1 and mpl_toolkits.axisartist, which provide the same functionality instead.\n",
      "  from mpl_toolkits.axes_grid.inset_locator import (inset_axes, InsetPosition,\n"
     ]
    }
   ],
   "source": [
    "import numpy as np\n",
    "import pandas as pd\n",
    "import matplotlib.pyplot as plt\n",
    "from mpl_toolkits.axes_grid.inset_locator import (inset_axes, InsetPosition,\n",
    "                                                  mark_inset)\n",
    "# plt.style.use('rose-pine-dawn')\n",
    "\n",
    "from mpl_toolkits.axes_grid1.inset_locator import TransformedBbox, BboxPatch, BboxConnector \n",
    "def mark_inset(parent_axes, inset_axes, loc1a=1, loc1b=1, loc2a=2, loc2b=2, **kwargs):\n",
    "    rect = TransformedBbox(inset_axes.viewLim, parent_axes.transData)\n",
    "\n",
    "    pp = BboxPatch(rect, fill=False, **kwargs)\n",
    "#     parent_axes.add_patch(pp)\n",
    "\n",
    "    p1 = BboxConnector(inset_axes.bbox, rect, loc1=loc1a, loc2=loc1b, **kwargs)\n",
    "    inset_axes.add_patch(p1)\n",
    "    p1.set_clip_on(False)\n",
    "    p2 = BboxConnector(inset_axes.bbox, rect, loc1=loc2a, loc2=loc2b, **kwargs)\n",
    "    inset_axes.add_patch(p2)\n",
    "    p2.set_clip_on(False)\n",
    "\n",
    "    return pp, p1, p2\n",
    "\n",
    "\n",
    "SMALL_SIZE = 12\n",
    "MEDIUM_SIZE = 14\n",
    "BIGGER_SIZE = 16\n",
    "\n",
    "plt.rc('font', size=SMALL_SIZE)          # controls default text sizes\n",
    "plt.rc('axes', titlesize=BIGGER_SIZE)     # fontsize of the axes title\n",
    "plt.rc('axes', labelsize=MEDIUM_SIZE)    # fontsize of the x and y labels\n",
    "plt.rc('xtick', labelsize=SMALL_SIZE)    # fontsize of the tick labels\n",
    "plt.rc('ytick', labelsize=SMALL_SIZE)    # fontsize of the tick labels\n",
    "plt.rc('legend', fontsize=SMALL_SIZE)    # legend fontsize\n",
    "plt.rc('figure', titlesize=BIGGER_SIZE)  # fontsize of the figure title"
   ]
  },
  {
   "cell_type": "code",
   "execution_count": 3,
   "metadata": {},
   "outputs": [
    {
     "data": {
      "image/png": "[encoded data removed]",
      "text/plain": [
       "<Figure size 432x288 with 1 Axes>"
      ]
     },
     "metadata": {
      "needs_background": "light"
     },
     "output_type": "display_data"
    },
    {
     "name": "stdout",
     "output_type": "stream",
     "text": [
      "1/2FWHM:0.00316\n"
     ]
    }
   ],
   "source": [
    "hafilter = pd.read_csv('Ha_VisAO_filtercurve.dat', comment='#', names=['lam','trans'], delim_whitespace=True)\n",
    "x, y = hafilter['lam'].to_numpy(), hafilter['trans'].to_numpy()\n",
    "plt.plot(x, y)\n",
    "plt.show()\n",
    "\n",
    "def lin_interp(x, y, i, half):\n",
    "    return x[i] + (x[i+1] - x[i]) * ((half - y[i]) / (y[i+1] - y[i]))\n",
    "\n",
    "def half_max_x(x, y):\n",
    "    half = max(y)/2.0\n",
    "    signs = np.sign(np.add(y, -half))\n",
    "    zero_crossings = (signs[0:-2] != signs[1:-1])\n",
    "    zero_crossings_i = np.where(zero_crossings)[0]\n",
    "    return [lin_interp(x, y, zero_crossings_i[0], half),\n",
    "            lin_interp(x, y, zero_crossings_i[1], half)]\n",
    "\n",
    "hmx = half_max_x(x,y)\n",
    "\n",
    "# print the answer\n",
    "fwhm = hmx[1] - hmx[0]\n",
    "fwhm = fwhm/2\n",
    "print(\"1/2FWHM:{:.5f}\".format(fwhm))"
   ]
  },
  {
   "cell_type": "code",
   "execution_count": 121,
   "metadata": {},
   "outputs": [
    {
     "data": {
      "text/html": [
       "<div>\n",
       "<style scoped>\n",
       "    .dataframe tbody tr th:only-of-type {\n",
       "        vertical-align: middle;\n",
       "    }\n",
       "\n",
       "    .dataframe tbody tr th {\n",
       "        vertical-align: top;\n",
       "    }\n",
       "\n",
       "    .dataframe thead th {\n",
       "        text-align: right;\n",
       "    }\n",
       "</style>\n",
       "<table border=\"1\" class=\"dataframe\">\n",
       "  <thead>\n",
       "    <tr style=\"text-align: right;\">\n",
       "      <th></th>\n",
       "      <th>Epoch</th>\n",
       "      <th>Line Counts</th>\n",
       "      <th>Cont Counts</th>\n",
       "      <th>Scale</th>\n",
       "      <th>Exposure (sec)</th>\n",
       "      <th>Line Ghost Counts</th>\n",
       "      <th>Cont Ghost Counts</th>\n",
       "      <th>Line BKA (scaled to input psf, so this is already in \"ghost\" units)</th>\n",
       "      <th>Line BKA err</th>\n",
       "      <th>Companion Cont Alpha</th>\n",
       "      <th>Cont Alpha err</th>\n",
       "      <th>log_evidence</th>\n",
       "      <th>ha_SNR</th>\n",
       "      <th>cont_SNR</th>\n",
       "      <th>SDI_SNR</th>\n",
       "      <th>Star ratio</th>\n",
       "    </tr>\n",
       "  </thead>\n",
       "  <tbody>\n",
       "    <tr>\n",
       "      <th>0</th>\n",
       "      <td>56393</td>\n",
       "      <td>282080.0</td>\n",
       "      <td>3.267880e+05</td>\n",
       "      <td>0.98</td>\n",
       "      <td>2.27</td>\n",
       "      <td>1554.5</td>\n",
       "      <td>1719.59</td>\n",
       "      <td>47.54</td>\n",
       "      <td>1.54</td>\n",
       "      <td>23.64</td>\n",
       "      <td>1.46</td>\n",
       "      <td>0.0</td>\n",
       "      <td>11.330000</td>\n",
       "      <td>3.410000</td>\n",
       "      <td>12.32</td>\n",
       "      <td>0.863190</td>\n",
       "    </tr>\n",
       "    <tr>\n",
       "      <th>1</th>\n",
       "      <td>56755</td>\n",
       "      <td>568561.0</td>\n",
       "      <td>5.064620e+05</td>\n",
       "      <td>1.19</td>\n",
       "      <td>2.27</td>\n",
       "      <td>2995.0</td>\n",
       "      <td>2507.01</td>\n",
       "      <td>46.81</td>\n",
       "      <td>5.02</td>\n",
       "      <td>24.91</td>\n",
       "      <td>6.95</td>\n",
       "      <td>0.0</td>\n",
       "      <td>8.000000</td>\n",
       "      <td>3.210000</td>\n",
       "      <td>5.96</td>\n",
       "      <td>1.122613</td>\n",
       "    </tr>\n",
       "    <tr>\n",
       "      <th>3</th>\n",
       "      <td>57157</td>\n",
       "      <td>488362.0</td>\n",
       "      <td>4.290620e+05</td>\n",
       "      <td>1.16</td>\n",
       "      <td>2.27</td>\n",
       "      <td>2628.0</td>\n",
       "      <td>2161.73</td>\n",
       "      <td>36.50</td>\n",
       "      <td>3.13</td>\n",
       "      <td>20.80</td>\n",
       "      <td>2.86</td>\n",
       "      <td>0.0</td>\n",
       "      <td>9.830000</td>\n",
       "      <td>6.930000</td>\n",
       "      <td>17.76</td>\n",
       "      <td>1.138208</td>\n",
       "    </tr>\n",
       "    <tr>\n",
       "      <th>4</th>\n",
       "      <td>57158</td>\n",
       "      <td>1027017.0</td>\n",
       "      <td>9.287127e+05</td>\n",
       "      <td>1.18</td>\n",
       "      <td>2.27</td>\n",
       "      <td>5773.0</td>\n",
       "      <td>4730.93</td>\n",
       "      <td>40.47</td>\n",
       "      <td>5.70</td>\n",
       "      <td>21.23</td>\n",
       "      <td>5.38</td>\n",
       "      <td>0.0</td>\n",
       "      <td>6.410686</td>\n",
       "      <td>2.271677</td>\n",
       "      <td>7.48</td>\n",
       "      <td>1.105850</td>\n",
       "    </tr>\n",
       "    <tr>\n",
       "      <th>5</th>\n",
       "      <td>57160</td>\n",
       "      <td>16683996.0</td>\n",
       "      <td>1.013874e+07</td>\n",
       "      <td>1.22</td>\n",
       "      <td>30.00</td>\n",
       "      <td>93783.0</td>\n",
       "      <td>51647.50</td>\n",
       "      <td>42.65</td>\n",
       "      <td>2.51</td>\n",
       "      <td>23.85</td>\n",
       "      <td>5.62</td>\n",
       "      <td>0.0</td>\n",
       "      <td>7.900000</td>\n",
       "      <td>5.980000</td>\n",
       "      <td>7.09</td>\n",
       "      <td>1.645568</td>\n",
       "    </tr>\n",
       "    <tr>\n",
       "      <th>7</th>\n",
       "      <td>58235</td>\n",
       "      <td>969732.9</td>\n",
       "      <td>8.096610e+05</td>\n",
       "      <td>1.22</td>\n",
       "      <td>5.00</td>\n",
       "      <td>5451.0</td>\n",
       "      <td>4124.40</td>\n",
       "      <td>38.74</td>\n",
       "      <td>9.01</td>\n",
       "      <td>22.78</td>\n",
       "      <td>8.43</td>\n",
       "      <td>0.0</td>\n",
       "      <td>2.530000</td>\n",
       "      <td>1.500000</td>\n",
       "      <td>6.96</td>\n",
       "      <td>1.197702</td>\n",
       "    </tr>\n",
       "  </tbody>\n",
       "</table>\n",
       "</div>"
      ],
      "text/plain": [
       "   Epoch  Line Counts   Cont Counts  Scale  Exposure (sec)  Line Ghost Counts  \\\n",
       "0  56393     282080.0  3.267880e+05   0.98            2.27             1554.5   \n",
       "1  56755     568561.0  5.064620e+05   1.19            2.27             2995.0   \n",
       "3  57157     488362.0  4.290620e+05   1.16            2.27             2628.0   \n",
       "4  57158    1027017.0  9.287127e+05   1.18            2.27             5773.0   \n",
       "5  57160   16683996.0  1.013874e+07   1.22           30.00            93783.0   \n",
       "7  58235     969732.9  8.096610e+05   1.22            5.00             5451.0   \n",
       "\n",
       "   Cont Ghost Counts  \\\n",
       "0            1719.59   \n",
       "1            2507.01   \n",
       "3            2161.73   \n",
       "4            4730.93   \n",
       "5           51647.50   \n",
       "7            4124.40   \n",
       "\n",
       "   Line BKA (scaled to input psf, so this is already in \"ghost\" units)  \\\n",
       "0                                              47.54                     \n",
       "1                                              46.81                     \n",
       "3                                              36.50                     \n",
       "4                                              40.47                     \n",
       "5                                              42.65                     \n",
       "7                                              38.74                     \n",
       "\n",
       "   Line BKA err  Companion Cont Alpha  Cont Alpha err  log_evidence  \\\n",
       "0          1.54                 23.64            1.46           0.0   \n",
       "1          5.02                 24.91            6.95           0.0   \n",
       "3          3.13                 20.80            2.86           0.0   \n",
       "4          5.70                 21.23            5.38           0.0   \n",
       "5          2.51                 23.85            5.62           0.0   \n",
       "7          9.01                 22.78            8.43           0.0   \n",
       "\n",
       "      ha_SNR  cont_SNR  SDI_SNR  Star ratio  \n",
       "0  11.330000  3.410000    12.32    0.863190  \n",
       "1   8.000000  3.210000     5.96    1.122613  \n",
       "3   9.830000  6.930000    17.76    1.138208  \n",
       "4   6.410686  2.271677     7.48    1.105850  \n",
       "5   7.900000  5.980000     7.09    1.645568  \n",
       "7   2.530000  1.500000     6.96    1.197702  "
      ]
     },
     "execution_count": 121,
     "metadata": {},
     "output_type": "execute_result"
    }
   ],
   "source": [
    "data = pd.read_csv('HD142527A_ATV.csv')\n",
    "data = data[data.index != 2]\n",
    "data = data[data.index != 6]\n",
    "data[np.isnan(data)==True] = 0\n",
    "data['Star ratio'] = data['Line Counts']/data['Cont Counts']\n",
    "data = data[0:6]\n",
    "data"
   ]
  },
  {
   "cell_type": "code",
   "execution_count": 122,
   "metadata": {},
   "outputs": [],
   "source": [
    "from astropy.time import Time\n",
    "data['year'] = Time(data['Epoch'], format='mjd').decimalyear"
   ]
  },
  {
   "cell_type": "code",
   "execution_count": 123,
   "metadata": {},
   "outputs": [
    {
     "name": "stdout",
     "output_type": "stream",
     "text": [
      "179.6801642911621\n",
      "196.3082900085184\n",
      "4.593057859955486\n",
      "3.5638148239561485\n"
     ]
    }
   ],
   "source": [
    "print(np.median(data['Line Counts']/data['Line Ghost Counts']))\n",
    "print(np.median(data['Cont Counts']/data['Cont Ghost Counts']))\n",
    "\n",
    "print(np.std(data['Line Counts']/data['Line Ghost Counts']))\n",
    "print(np.std(data['Cont Counts']/data['Cont Ghost Counts']))"
   ]
  },
  {
   "cell_type": "code",
   "execution_count": 124,
   "metadata": {},
   "outputs": [],
   "source": [
    "# from ghostInvestigation notebook:\n",
    "\n",
    "cont_g_t_s_count = 112.11593855724848\n",
    "cont_g_t_s_err_count = 7.771583920200947\n",
    "\n",
    "cont_g_t_s_peak = 191.27444275928656\n",
    "cont_g_t_s_err_peak = 25.401211122349526\n",
    "\n",
    "# not sure which one to choose need to think harder\n",
    "cont_g_t_s = cont_g_t_s_peak\n",
    "cont_g_t_s_err = cont_g_t_s_err_peak\n",
    "\n",
    "# same for line data\n",
    "\n",
    "ha_g_t_s_count = 102.77872529816074\n",
    "ha_g_t_s_err_count = 6.4378018336882725\n",
    "ha_g_t_s_peak = 180.71449513119967\n",
    "ha_g_t_s_err_peak = 21.602898212349565\n",
    "\n",
    "ha_g_t_s = ha_g_t_s_peak\n",
    "ha_g_t_s_err = ha_g_t_s_err_peak\n"
   ]
  },
  {
   "cell_type": "code",
   "execution_count": 125,
   "metadata": {},
   "outputs": [],
   "source": [
    "x = data['year']\n",
    "\n",
    "# alpha * initial guess / ghost-to-star-ratio = contrast\n",
    "\n",
    "pflux_ha = data['Line BKA (scaled to input psf, so this is already in \"ghost\" units)']*1e-2/data['Star ratio']\n",
    "pflux_cont = data['Companion Cont Alpha']*1e-2\n",
    "contrast_ha = pflux_ha/ha_g_t_s\n",
    "contrast_cont = pflux_cont/cont_g_t_s\n",
    "\n",
    "# ERROR PROPAG TIME\n",
    "pflux_ha_err = data['Line BKA err']*1e-2/data['Scale']\n",
    "contrast_ha_err = np.sqrt(((pflux_ha_err/pflux_ha)**2)+((ha_g_t_s_err/ha_g_t_s)**2))*contrast_ha\n",
    "pflux_cont_err = data['Cont Alpha err']*1e-2\n",
    "contrast_cont_err = np.sqrt(((pflux_cont_err/pflux_cont)**2)+((cont_g_t_s_err/cont_g_t_s)**2))*contrast_cont"
   ]
  },
  {
   "cell_type": "code",
   "execution_count": 126,
   "metadata": {},
   "outputs": [],
   "source": [
    "import dufte\n",
    "\n",
    "# global setting:\n",
    "# plt.style.use(dufte.style)\n",
    "\n",
    "# with a context manager:\n",
    "with plt.style.context(dufte.style_bar):\n",
    "    # ...\n",
    "    pass"
   ]
  },
  {
   "cell_type": "code",
   "execution_count": 205,
   "metadata": {},
   "outputs": [
    {
     "name": "stderr",
     "output_type": "stream",
     "text": [
      "/var/folders/0q/4ls9h2fn4lv90qs43vdtzvkw0002tl/T/ipykernel_2545/1955654887.py:22: UserWarning: FixedFormatter should only be used together with FixedLocator\n",
      "  ax2.set(xticklabels=['5/15','5/16','5/18'], xticks=[2015.367123, 2015.369863, 2015.375342])\n"
     ]
    },
    {
     "data": {
      "image/png": "[encoded data removed]",
      "text/plain": [
       "<Figure size 576x720 with 2 Axes>"
      ]
     },
     "metadata": {
      "needs_background": "dark"
     },
     "output_type": "display_data"
    }
   ],
   "source": [
    "with plt.style.context(dufte.style_bar):\n",
    "    fig, (ax1, ax2) = plt.subplots(2, figsize=(8,10))\n",
    "    ax1.errorbar(x, contrast_ha, yerr=contrast_ha_err, ls='none', marker='x', alpha=0.5)\n",
    "    ax1.scatter(x, contrast_ha, marker='x', label=r'H$\\alpha$')\n",
    "    ax1.errorbar(x, contrast_cont, yerr=contrast_cont_err, ls='none', marker='.', alpha=0.5)\n",
    "    ax1.scatter(x, contrast_cont, marker='.', label=r'Continuum')\n",
    "    \n",
    "    ax1.set_ylim(0.0005, 0.0035)\n",
    "#     ax1.set_title('Episodic accretion in the lightcurve of HD 142527B')\n",
    "    plt.xlabel('Date')\n",
    "    ax1.set_ylabel('Contrast to Stellar Continuum')\n",
    "#     ax2.set_ylabel('Contrast to Stellar Continuum')\n",
    "\n",
    "    ax2.errorbar(x, contrast_ha, yerr=contrast_ha_err, ls='none', marker='x', alpha=0.5)\n",
    "    ax2.scatter(x, contrast_ha, marker='x')\n",
    "    ax2.errorbar(x, contrast_cont, yerr=contrast_cont_err, ls='none', marker='.', alpha=0.5)\n",
    "    ax2.set_ylim(0.0005,0.0025)\n",
    "    ax2.scatter(x, contrast_cont, marker='.')\n",
    "    ax2.set_xlim(2015.3645, 2015.3775)\n",
    "    ax2.set(xticklabels=['5/15','5/16','5/18'], xticks=[2015.367123, 2015.369863, 2015.375342])\n",
    "\n",
    "    mark_inset(ax1, ax2, loc1a=1, loc1b=4, loc2a=2, loc2b=3, fc=\"none\", ec=\"0.5\", zorder=0)\n",
    "    \n",
    "    ax1.legend(loc='upper right', borderaxespad=0.5,    # Small spacing around legend box\n",
    "               prop={'size': 15}, labelcolor='k'\n",
    "#                title=r\"Instrument / $\\lambda$ / Author\"  # Title for the legend\n",
    "               )\n",
    "\n",
    "    # mark_inset(ax1,ax2,loc1=1,loc2=2,fc=\"none\",ec='0.5')\n",
    "    plt.savefig('hd142527B_contrast_lc.png', dpi=300)"
   ]
  },
  {
   "cell_type": "code",
   "execution_count": 128,
   "metadata": {},
   "outputs": [],
   "source": [
    "# Close et al 2014\n",
    "\n",
    "C14epoch = Time(56393, format='mjd').decimalyear\n",
    "C14_hamag = 6.33\n",
    "C14_hamag_err = 0.20\n",
    "C14_contmag = 7.5\n",
    "C14_contmag_err = 0.25\n",
    "\n",
    "# Cugno et al 2019\n",
    "import datetime \n",
    "Cu19yr = datetime.datetime(2016,3,31)\n",
    "Cu19epoch = Time(Cu19yr, format='datetime').decimalyear\n",
    "Cu19_hamag = 6.7\n",
    "Cu19_hamag_err = 0.2\n",
    "Cu19_contmag = 7.3\n",
    "Cu19_contmag_err = 0.3\n"
   ]
  },
  {
   "cell_type": "code",
   "execution_count": 129,
   "metadata": {},
   "outputs": [],
   "source": [
    "# SAME BUT IN MAG\n",
    "\n",
    "mag_ha = -2.5*np.log10(contrast_ha)\n",
    "mag_cont = -2.5*np.log10(contrast_cont)\n",
    "\n",
    "# ERROR PROPAG TIME\n",
    "\n",
    "mag_ha_err = 2.5*0.434*(contrast_ha_err/contrast_ha)\n",
    "mag_cont_err = 2.5*0.434*(contrast_cont_err/contrast_cont)"
   ]
  },
  {
   "cell_type": "code",
   "execution_count": 199,
   "metadata": {},
   "outputs": [
    {
     "data": {
      "text/plain": [
       "0    6.290100\n",
       "1    6.592211\n",
       "3    6.877305\n",
       "4    6.733890\n",
       "5    7.108475\n",
       "7    6.867956\n",
       "dtype: float64"
      ]
     },
     "execution_count": 199,
     "metadata": {},
     "output_type": "execute_result"
    }
   ],
   "source": [
    "mag_ha"
   ]
  },
  {
   "cell_type": "code",
   "execution_count": 201,
   "metadata": {},
   "outputs": [
    {
     "data": {
      "text/plain": [
       "-0.30211135581254034"
      ]
     },
     "execution_count": 201,
     "metadata": {},
     "output_type": "execute_result"
    }
   ],
   "source": [
    "mag_ha[0]-mag_ha[1]"
   ]
  },
  {
   "cell_type": "code",
   "execution_count": 196,
   "metadata": {},
   "outputs": [],
   "source": [
    "contrasts = pd.DataFrame()\n",
    "contrasts['yr'] = x\n",
    "contrasts['DmagHa'] = contrast_ha\n",
    "contrasts['DmagCont'] = contrast_cont\n",
    "contrasts.to_csv('HD142527B_contrasts.csv')\n",
    "contrasts2 = pd.DataFrame()\n",
    "contrasts2['DmagHa'] = mag_ha\n",
    "contrasts2['dmHaE'] = mag_ha_err\n",
    "contrasts2['DmagCont'] = mag_cont\n",
    "contrasts2['dmContE'] = mag_cont_err\n",
    "contrasts2.to_clipboard()"
   ]
  },
  {
   "cell_type": "code",
   "execution_count": 194,
   "metadata": {},
   "outputs": [
    {
     "name": "stdout",
     "output_type": "stream",
     "text": [
      "6.800922923643521 0.25662499102976394\n",
      "7.290140873573949 0.06963972725338666\n"
     ]
    }
   ],
   "source": [
    "contmed = np.median(mag_cont)\n",
    "condstdev = np.std(mag_cont)\n",
    "\n",
    "hamed = np.median(mag_ha)\n",
    "hastdev = np.std(mag_ha)\n",
    "\n",
    "print(hamed, hastdev)\n",
    "\n",
    "print(contmed, condstdev)"
   ]
  },
  {
   "cell_type": "code",
   "execution_count": 216,
   "metadata": {},
   "outputs": [
    {
     "data": {
      "text/plain": [
       "0    0.133346\n",
       "1    0.169917\n",
       "3    0.158611\n",
       "4    0.193218\n",
       "5    0.155694\n",
       "7    0.279633\n",
       "dtype: float64"
      ]
     },
     "execution_count": 216,
     "metadata": {},
     "output_type": "execute_result"
    }
   ],
   "source": [
    "mag_ha_err"
   ]
  },
  {
   "cell_type": "code",
   "execution_count": 218,
   "metadata": {},
   "outputs": [
    {
     "data": {
      "text/plain": [
       "0.024153225122864212"
      ]
     },
     "execution_count": 218,
     "metadata": {},
     "output_type": "execute_result"
    }
   ],
   "source": [
    "np.median(mag_ha_err)/np.median(mag_ha)"
   ]
  },
  {
   "cell_type": "code",
   "execution_count": 217,
   "metadata": {},
   "outputs": [
    {
     "name": "stderr",
     "output_type": "stream",
     "text": [
      "/var/folders/0q/4ls9h2fn4lv90qs43vdtzvkw0002tl/T/ipykernel_2545/797431286.py:45: UserWarning: FixedFormatter should only be used together with FixedLocator\n",
      "  ax2.set(xticklabels=['5/15/15','5/16/15','5/18/15'], xticks=[2015.367123, 2015.369863, 2015.375342])\n"
     ]
    },
    {
     "data": {
      "image/png": "[encoded data removed]",
      "text/plain": [
       "<Figure size 720x1008 with 2 Axes>"
      ]
     },
     "metadata": {
      "needs_background": "dark"
     },
     "output_type": "display_data"
    }
   ],
   "source": [
    "with plt.style.context(dufte.style_bar):\n",
    "    import matplotlib as mpl\n",
    "    mpl.rcParams['text.color'] = 'black'\n",
    "    fig, (ax1, ax2) = plt.subplots(2, figsize=(10,14))\n",
    "    plt.rc('legend', fontsize=12)\n",
    "    plt.rc('figure', titlesize=12) \n",
    "\n",
    "    # plot my mags\n",
    "    # fig, ax1 = plt.subplots(figsize=(10,5))\n",
    "    ax1.errorbar(x, mag_ha, yerr=mag_ha_err, ls='none', marker='x')#, alpha=0.5)\n",
    "    ax1.scatter(x, mag_ha, marker='x', label=r'VisAO / 0.656 H$\\alpha$ / This work')\n",
    "    ax1.errorbar(x, mag_cont, yerr=mag_cont_err, ls='none', marker='x', alpha=0.5)\n",
    "    ax1.scatter(x, mag_cont, marker='x', label=r'VisAO / 0.642 Continuum / This work')\n",
    "#     secax = ax1.secondary_yaxis('right', functions=(ha2acc, acc2ha))\n",
    "#     secax.set_xlabel('accretion')\n",
    "    ax1.fill_between(x, contmed-condstdev, contmed+condstdev, color='k', alpha=0.1, zorder=0)\n",
    "    ax1.set_ylim(7.8,5.8)\n",
    "#     ax1.set_title(r'The H$\\alpha$ lightcurve of HD 142527B')\n",
    "    # plot median and stdev of continuum as fill between\n",
    "    ax2.set_xlabel('Date')\n",
    "    ax1.set_ylabel(r'$\\Delta$mag')\n",
    "    ax2.set_ylabel(r'$\\Delta$mag')\n",
    "\n",
    "    # plot close 2014\n",
    "    ax1.scatter(C14epoch, C14_hamag, marker='.', label=r'VisAO / 0.656 / Cl14')\n",
    "    ax1.errorbar(C14epoch, C14_hamag, yerr=C14_hamag_err, ls='none', marker='.')#, alpha=0.5)\n",
    "    ax1.scatter(C14epoch, C14_contmag, marker='.', label='VisAO / 0.642 / Cl14')\n",
    "    ax1.errorbar(C14epoch, C14_contmag, yerr=C14_contmag_err, ls='none', marker='.')#, alpha=0.5)\n",
    "    # plot NIR variability observed by Claudi 2019\n",
    "#     ax1.fill_between(x, contmed-0.25, contmed+0.25, alpha=0.1)\n",
    "    # plot cugno 2019\n",
    "    ax1.scatter(Cu19epoch, Cu19_hamag, marker='^', label=r'ZIMPOL / 0.656 B_H$\\alpha$ / Cu19')\n",
    "    ax1.errorbar(Cu19epoch, Cu19_hamag, yerr=Cu19_hamag_err, ls='none', marker='^', alpha=0.5)\n",
    "    ax1.scatter(Cu19epoch, Cu19_contmag, marker='^', label=r'ZIMPOL / 0.645 Cont_H$\\alpha$ / Cu19')\n",
    "    ax1.errorbar(Cu19epoch, Cu19_contmag, yerr=Cu19_contmag_err, ls='none', marker='^', alpha=0.5)\n",
    "    # zoom in on May 2015\n",
    "    ax2.errorbar(x, mag_ha, yerr=mag_ha_err, ls='none', marker='x', zorder=10)#, alpha=0.5)\n",
    "    ax2.scatter(x, mag_ha, marker='x', zorder=10)\n",
    "    ax2.errorbar(x, mag_cont, yerr=mag_cont_err, ls='none', marker='x')#, alpha=0.5)\n",
    "    ax2.scatter(x, mag_cont, marker='x')\n",
    "    ax2.fill_between(x, contmed-condstdev, contmed+condstdev, color='k', alpha=0.1, zorder=0)\n",
    "#     ax2.fill_between(x, contmed-0.25, contmed+0.25, alpha=0.1)\n",
    "    ax2.set_ylim(7.75,6.5)\n",
    "    ax2.set_xlim(2015.3645, 2015.3775)\n",
    "    ax2.set(xticklabels=['5/15/15','5/16/15','5/18/15'], xticks=[2015.367123, 2015.369863, 2015.375342])\n",
    "    mark_inset(ax1, ax2, loc1a=1, loc1b=1, loc2a=2, loc2b=2, fc=\"none\", ec=\"0.5\", zorder=0)\n",
    "\n",
    "\n",
    "\n",
    "#     fig.subplots_adjust(bottom=0.22, wspace=0.33)\n",
    "\n",
    "    ax1.legend(loc='upper right', borderaxespad=0.0,    # Small spacing around legend box\n",
    "               prop={'size': 10}, labelcolor='k',\n",
    "               title=r\"Instrument / $\\lambda$ / Author\"  # Title for the legend\n",
    "               )\n",
    "\n",
    "    # ax[1].legend(handles = [l1,l2,l3] , labels=['A', 'B', 'C'],loc='upper center', \n",
    "    #              bbox_to_anchor=(0.5, -0.2),fancybox=False, shadow=False, ncol=3)\n",
    "\n",
    "    ax1.xaxis.label.set_color('black')\n",
    "    ax2.xaxis.label.set_color('black')\n",
    "    \n",
    "    ax1.yaxis.label.set_color('black')\n",
    "    ax2.yaxis.label.set_color('black')\n",
    "    \n",
    "#     ax1.legend.title.set_color('black')\n",
    "    \n",
    "    plt.savefig('hd142527B_contrast_lc_mag.png', dpi=300)"
   ]
  },
  {
   "cell_type": "code",
   "execution_count": 12,
   "metadata": {},
   "outputs": [
    {
     "data": {
      "text/html": [
       "<div>\n",
       "<style scoped>\n",
       "    .dataframe tbody tr th:only-of-type {\n",
       "        vertical-align: middle;\n",
       "    }\n",
       "\n",
       "    .dataframe tbody tr th {\n",
       "        vertical-align: top;\n",
       "    }\n",
       "\n",
       "    .dataframe thead th {\n",
       "        text-align: right;\n",
       "    }\n",
       "</style>\n",
       "<table border=\"1\" class=\"dataframe\">\n",
       "  <thead>\n",
       "    <tr style=\"text-align: right;\">\n",
       "      <th></th>\n",
       "      <th>yr</th>\n",
       "      <th>DmagHa</th>\n",
       "      <th>DmagCont</th>\n",
       "    </tr>\n",
       "  </thead>\n",
       "  <tbody>\n",
       "    <tr>\n",
       "      <th>0</th>\n",
       "      <td>2013.273973</td>\n",
       "      <td>0.003048</td>\n",
       "      <td>0.001236</td>\n",
       "    </tr>\n",
       "    <tr>\n",
       "      <th>1</th>\n",
       "      <td>2014.265753</td>\n",
       "      <td>0.002307</td>\n",
       "      <td>0.001302</td>\n",
       "    </tr>\n",
       "    <tr>\n",
       "      <th>3</th>\n",
       "      <td>2015.367123</td>\n",
       "      <td>0.001775</td>\n",
       "      <td>0.001087</td>\n",
       "    </tr>\n",
       "    <tr>\n",
       "      <th>4</th>\n",
       "      <td>2015.369863</td>\n",
       "      <td>0.002025</td>\n",
       "      <td>0.001110</td>\n",
       "    </tr>\n",
       "    <tr>\n",
       "      <th>5</th>\n",
       "      <td>2015.375342</td>\n",
       "      <td>0.001434</td>\n",
       "      <td>0.001247</td>\n",
       "    </tr>\n",
       "    <tr>\n",
       "      <th>7</th>\n",
       "      <td>2018.317808</td>\n",
       "      <td>0.001790</td>\n",
       "      <td>0.001191</td>\n",
       "    </tr>\n",
       "  </tbody>\n",
       "</table>\n",
       "</div>"
      ],
      "text/plain": [
       "            yr    DmagHa  DmagCont\n",
       "0  2013.273973  0.003048  0.001236\n",
       "1  2014.265753  0.002307  0.001302\n",
       "3  2015.367123  0.001775  0.001087\n",
       "4  2015.369863  0.002025  0.001110\n",
       "5  2015.375342  0.001434  0.001247\n",
       "7  2018.317808  0.001790  0.001191"
      ]
     },
     "execution_count": 12,
     "metadata": {},
     "output_type": "execute_result"
    }
   ],
   "source": [
    "contrasts"
   ]
  },
  {
   "cell_type": "code",
   "execution_count": 195,
   "metadata": {},
   "outputs": [],
   "source": [
    "contrasts.to_clipboard()"
   ]
  },
  {
   "cell_type": "code",
   "execution_count": null,
   "metadata": {},
   "outputs": [],
   "source": []
  }
 ],
 "metadata": {
  "kernelspec": {
   "display_name": "Python 3 (ipykernel)",
   "language": "python",
   "name": "python3"
  },
  "language_info": {
   "codemirror_mode": {
    "name": "ipython",
    "version": 3
   },
   "file_extension": ".py",
   "mimetype": "text/x-python",
   "name": "python",
   "nbconvert_exporter": "python",
   "pygments_lexer": "ipython3",
   "version": "3.9.5"
  }
 },
 "nbformat": 4,
 "nbformat_minor": 4
}
