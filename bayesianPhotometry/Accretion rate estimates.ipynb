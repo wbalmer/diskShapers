{
 "cells": [
  {
   "cell_type": "code",
   "execution_count": 38,
   "metadata": {
    "tags": []
   },
   "outputs": [],
   "source": [
    "from numpy import *\n",
    "import astropy.units as u\n",
    "from astropy.constants import G, M_jup, R_jup, M_earth, R_earth, L_sun, M_sun, R_sun"
   ]
  },
  {
   "cell_type": "markdown",
   "metadata": {},
   "source": [
    "[Rigliaco et al. 2012](http://adsabs.harvard.edu/abs/2012A%26A...548A..56R)"
   ]
  },
  {
   "cell_type": "code",
   "execution_count": 39,
   "metadata": {},
   "outputs": [],
   "source": [
    "def line_lum(dist,zeropt,filtwid,star_mag,contr):\n",
    "    \"\"\"\n",
    "    Given distance, flux zeropoint, stellar R-band magnitude, and H-alpha contrast (or contrast limit),\n",
    "    calculate line luminosity in Watts. \n",
    "    \"\"\"\n",
    "    delta_mag = -2.5*log10(contr)\n",
    "    L_line = 4*pi*dist**2*zeropt*filtwid*10**((star_mag+delta_mag)/-2.5)\n",
    "    L_line = L_line.decompose().to(u.W)\n",
    "    return(L_line)\n",
    "\n",
    "#next two are empirical T-Tauri relationships from Rigliaco 2012\n",
    "\n",
    "def acc_lum(L_line):\n",
    "    \"\"\"\n",
    "    Translate H-alpha line luminosity to accretion luminosity. From empirical \n",
    "    T-Tauri relationships in Rigliaco et al. 2102\n",
    "    \"\"\"\n",
    "    b = 2.27\n",
    "    a = 1.25\n",
    "    log_acc = b+a*log10(L_line/L_sun)\n",
    "    L_acc=10**log_acc*L_sun\n",
    "    return(L_acc)\n",
    "\n",
    "def acc_rate(L_acc, R, M):\n",
    "    \"\"\"\n",
    "    Translate an accretion luminosity and planet mass/radius to accretion rate in jupiter masses per year.\n",
    "    Also following Rigliaco et al. 2012.\n",
    "    \"\"\"\n",
    "    mdot = 1.25*L_acc*R/(G*M)\n",
    "    mdot = mdot.decompose().to(u.Msun/u.yr)\n",
    "    return(mdot)"
   ]
  },
  {
   "cell_type": "code",
   "execution_count": 40,
   "metadata": {},
   "outputs": [
    {
     "data": {
      "text/plain": [
       "<matplotlib.collections.PathCollection at 0x7fe651d8c7f0>"
      ]
     },
     "execution_count": 40,
     "metadata": {},
     "output_type": "execute_result"
    },
    {
     "data": {
      "image/png": "[encoded data removed]",
      "text/plain": [
       "<Figure size 432x288 with 1 Axes>"
      ]
     },
     "metadata": {
      "needs_background": "light"
     },
     "output_type": "display_data"
    }
   ],
   "source": [
    "## check HD142527 calculation from Close et al. 2014\n",
    "\n",
    "import pandas as pd\n",
    "hd142_B = pd.read_csv('HD142527B_contrasts.csv')\n",
    "mag = 8.3-1.3 #11.6-0.57\n",
    "contr = hd142_B['DmagHa'].to_numpy()\n",
    "dist = 159.26*u.pc\n",
    "zeropt = 2.339e-5*u.erg/u.cm**2/u.s/u.um\n",
    "L_line = line_lum(dist,zeropt,0.006*u.um,mag,contr)\n",
    "log10(L_line/L_sun)\n",
    "L_acc=acc_lum(L_line)\n",
    "mdotsS=acc_rate(L_acc,0.15*R_sun,0.26*M_sun) #Claudi 2019 spectral\n",
    "mdotsE=acc_rate(L_acc,1.2*R_sun,0.26*M_sun) #Claudi 2019 evol+acc \n",
    "mdotsS\n",
    "\n",
    "#interestingly, it appears that Laird used the incorrect L_sun \n",
    "#(he used 3.28e33, but it should have been 3.85e33). Otherwise, same answer\n",
    "\n",
    "## William: updated mag such that = Rband - assumed extinction from Close 2014\n",
    "## changed acc_rate to read out in Msun/yr for lit comparison\n",
    "## with more epochs can plot over time\n",
    "\n",
    "import matplotlib.pyplot as plt\n",
    "plt.scatter(hd142_B['yr'], mdotsE)"
   ]
  },
  {
   "cell_type": "code",
   "execution_count": 44,
   "metadata": {},
   "outputs": [
    {
     "data": {
      "text/latex": [
       "$[3.4992556 \\times 10^{-10},~2.4712688 \\times 10^{-10},~1.7798084 \\times 10^{-10},~2.0993296 \\times 10^{-10},~1.3639183 \\times 10^{-10},~1.7990689 \\times 10^{-10}] \\; \\mathrm{\\frac{M_{\\odot}}{yr}}$"
      ],
      "text/plain": [
       "<Quantity [3.49925565e-10, 2.47126885e-10, 1.77980844e-10, 2.09932962e-10,\n",
       "           1.36391826e-10, 1.79906893e-10] solMass / yr>"
      ]
     },
     "execution_count": 44,
     "metadata": {},
     "output_type": "execute_result"
    }
   ],
   "source": [
    "mdotsS"
   ]
  },
  {
   "cell_type": "code",
   "execution_count": 46,
   "metadata": {},
   "outputs": [],
   "source": [
    "hd142 = pd.DataFrame()\n",
    "hd142['Lline'] = (L_line/L_sun).value\n",
    "hd142['mdotS'] = mdotsS.value\n",
    "hd142['mdotE'] = mdotsE.value\n",
    "hd142.to_clipboard()"
   ]
  },
  {
   "cell_type": "code",
   "execution_count": 48,
   "metadata": {},
   "outputs": [
    {
     "data": {
      "text/latex": [
       "$1.3639183 \\times 10^{-10} \\; \\mathrm{\\frac{M_{\\odot}}{yr}}$"
      ],
      "text/plain": [
       "<Quantity 1.36391826e-10 solMass / yr>"
      ]
     },
     "execution_count": 48,
     "metadata": {},
     "output_type": "execute_result"
    }
   ],
   "source": [
    "mdotsS.min()#[3] - mdotsS[4]"
   ]
  },
  {
   "cell_type": "code",
   "execution_count": 47,
   "metadata": {},
   "outputs": [
    {
     "data": {
      "text/latex": [
       "$1.0911346 \\times 10^{-9} \\; \\mathrm{\\frac{M_{\\odot}}{yr}}$"
      ],
      "text/plain": [
       "<Quantity 1.09113461e-09 solMass / yr>"
      ]
     },
     "execution_count": 47,
     "metadata": {},
     "output_type": "execute_result"
    }
   ],
   "source": [
    "mdotsE.min()#[3] - mdotsS[4]"
   ]
  },
  {
   "cell_type": "code",
   "execution_count": 22,
   "metadata": {},
   "outputs": [
    {
     "name": "stdout",
     "output_type": "stream",
     "text": [
      "2.1687749556663796e-10 solMass / yr 6.83407624160171e-11 solMass / yr\n",
      "1.7350199645331037e-09 solMass / yr 5.467260993281368e-10 solMass / yr\n"
     ]
    }
   ],
   "source": [
    "print(mean(mdotsS), std(mdotsS))\n",
    "print(mean(mdotsE), std(mdotsE))"
   ]
  },
  {
   "cell_type": "code",
   "execution_count": 12,
   "metadata": {},
   "outputs": [],
   "source": [
    "import pandas as pd\n",
    "mdotdf = pd.DataFrame(mdots)\n",
    "mdotdf.to_clipboard()"
   ]
  },
  {
   "cell_type": "code",
   "execution_count": 9,
   "metadata": {},
   "outputs": [
    {
     "name": "stdout",
     "output_type": "stream",
     "text": [
      "0.00121343968724605 0.001907471334724\n"
     ]
    },
    {
     "data": {
      "text/plain": [
       "<matplotlib.collections.PathCollection at 0x7fe64f4fdbe0>"
      ]
     },
     "execution_count": 9,
     "metadata": {},
     "output_type": "execute_result"
    },
    {
     "data": {
      "image/png": "[encoded data removed]",
      "text/plain": [
       "<Figure size 432x288 with 1 Axes>"
      ]
     },
     "metadata": {
      "needs_background": "light"
     },
     "output_type": "display_data"
    }
   ],
   "source": [
    "contmed = median(hd142_B['DmagCont'].to_numpy())\n",
    "hamed = median(hd142_B['DmagHa'].to_numpy())\n",
    "print(contmed, hamed)\n",
    "d2Mag = hd142_B['DmagHa'].to_numpy() - contmed\n",
    "plt.scatter(hd142_B['yr'], d2Mag)\n",
    "# plt.ylim(0,-1.5)"
   ]
  },
  {
   "cell_type": "code",
   "execution_count": 24,
   "metadata": {},
   "outputs": [
    {
     "name": "stdout",
     "output_type": "stream",
     "text": [
      "mean is: 2.1687749556663796e-10 solMass / yr\n",
      "max is: 3.499255648114563e-10 solMass / yr\n",
      "min is: 1.3639182588620925e-10 solMass / yr\n",
      "range is: 2.1353373892524707e-10 solMass / yr\n"
     ]
    }
   ],
   "source": [
    "mdots = mdotsS\n",
    "print('mean is: '+str(mdots.mean()))\n",
    "print('max is: '+str(mdots.max()))\n",
    "print('min is: '+str(mdots.min()))\n",
    "print('range is: '+str(mdots.max()-mdots.min()))"
   ]
  },
  {
   "cell_type": "code",
   "execution_count": 4,
   "metadata": {},
   "outputs": [
    {
     "data": {
      "text/latex": [
       "$1.3671886 \\times 10^{22} \\; \\mathrm{W}$"
      ],
      "text/plain": [
       "<Quantity 1.36718861e+22 W>"
      ]
     },
     "execution_count": 4,
     "metadata": {},
     "output_type": "execute_result"
    }
   ],
   "source": [
    "L_line"
   ]
  },
  {
   "cell_type": "code",
   "execution_count": 17,
   "metadata": {},
   "outputs": [
    {
     "data": {
      "text/plain": [
       "-9.096596857412283"
      ]
     },
     "execution_count": 17,
     "metadata": {},
     "output_type": "execute_result"
    }
   ],
   "source": [
    "import numpy as np\n",
    "Acc_lum = 10**(-2.9)*L_sun\n",
    "Mdot = acc_rate(Acc_lum,4.6*R_jup,31*M_jup)\n",
    "Mnew = Mdot.to(u.Msun/u.yr)\n",
    "np.log10(Mnew.value)"
   ]
  },
  {
   "cell_type": "code",
   "execution_count": 5,
   "metadata": {},
   "outputs": [
    {
     "name": "stdout",
     "output_type": "stream",
     "text": [
      "1.3671886083836084e+22 W\n",
      "-7.286144871546158\n",
      "-6.768929979746482\n",
      "-8.425355038593022\n"
     ]
    }
   ],
   "source": [
    "## Zhou 2014 results\n",
    "GSC_logL = -5.03\n",
    "GSC_Lacc=acc_lum(10**GSC_logL*L_sun)\n",
    "GSC_Mdot = acc_rate(GSC_Lacc,1.8*R_jup,15*M_jup)\n",
    "print(L_line)\n",
    "print(log10(GSC_Mdot.value))\n",
    "\n",
    "GQLup_logL = -4.69\n",
    "GQLup_Lacc=acc_lum(10**GQLup_logL*L_sun)\n",
    "GQLup_Mdot = acc_rate(GQLup_Lacc,4.6*R_jup,31*M_jup)\n",
    "print(log10(GQLup_Mdot.value))\n",
    "\n",
    "DHTau_logL = -6.19\n",
    "DHTau_Lacc=acc_lum(10**DHTau_logL*L_sun)\n",
    "DHTau_Mdot = acc_rate(DHTau_Lacc,2.7*R_jup,11*M_jup)\n",
    "print(log10(DHTau_Mdot.value))"
   ]
  },
  {
   "cell_type": "code",
   "execution_count": 6,
   "metadata": {},
   "outputs": [
    {
     "name": "stdout",
     "output_type": "stream",
     "text": [
      "-9.69293561753221\n",
      "-7.835592034167181\n",
      "-10.065041025082742\n"
     ]
    }
   ],
   "source": [
    "#sanity check of line luminosity\n",
    "GSC_Hamag = 15.7\n",
    "GSC_AV = 0.2\n",
    "GSC_mag = GSC_Hamag-GSC_AV\n",
    "GSC_contr =  7.33e-18/7.08e-16 #from Table 1 cont/Ha flux\n",
    "GSC_dist = 145*u.pc\n",
    "filterwid = 18*u.AA\n",
    "zeropt = 1.434e-9*u.erg/u.cm**2/u.s/u.AA #19.863 mag\n",
    "\n",
    "GSC_L_line = line_lum(GSC_dist,zeropt,filterwid,GSC_mag,GSC_contr)\n",
    "GSC_Lacc=acc_lum(GSC_L_line)\n",
    "GSC_Mdot = acc_rate(GSC_Lacc,1.8*R_jup,15*M_jup)\n",
    "print(log10(GSC_Mdot.value))\n",
    "\n",
    "GQLup_Hamag = 15.9\n",
    "GQLup_AV = 1.5\n",
    "GQLup_mag = GQLup_Hamag-GQLup_AV\n",
    "GQLup_contr = 5.03e-17/5.92e-16\n",
    "GQLup_dist = 155*u.pc\n",
    "GQLup_L_line = line_lum(GQLup_dist,zeropt,filterwid,GQLup_mag,GQLup_contr)\n",
    "GQLup_Lacc=acc_lum(GQLup_L_line)\n",
    "GQLup_Mdot = acc_rate(GQLup_Lacc,4.6*R_jup,31*M_jup)\n",
    "print(log10(GQLup_Mdot.value))\n",
    "\n",
    "DHTau_Hamag = 19\n",
    "DHTau_AV = 0.7\n",
    "DHTau_mag = DHTau_Hamag-DHTau_AV\n",
    "DHTau_contr = 1.35e-18/3.48e-17\n",
    "DHTau_dist = 145*u.pc\n",
    "DHTau_L_line = line_lum(DHTau_dist,zeropt,filterwid,DHTau_mag,DHTau_contr)\n",
    "DHTau_Lacc=acc_lum(DHTau_L_line)\n",
    "DHTau_Mdot = acc_rate(DHTau_Lacc,2.7*R_jup,11*M_jup)\n",
    "print(log10(DHTau_Mdot.value))"
   ]
  },
  {
   "cell_type": "markdown",
   "metadata": {},
   "source": [
    "## Potential WFIRST Filter Widths\n",
    "\n",
    "**Filters:**\n",
    "Narrowband (Hubble WFC3 F656N) 14A = 0.0014 micron\n",
    "Wider (Hubble WFC3 F657N incl. [NIII]) 94A ~ 0.01 micron\n",
    "\n",
    "**R~50 IFS**\n",
    "Bandpass = 600-970nm —>  width ~ 8nm = 0.008\n"
   ]
  },
  {
   "cell_type": "code",
   "execution_count": 14,
   "metadata": {},
   "outputs": [
    {
     "data": {
      "text/latex": [
       "$1.5711411 \\times 10^{-7} \\; \\mathrm{\\frac{M_{\\oplus}}{yr}}$"
      ],
      "text/plain": [
       "<Quantity 1.57114114e-07 earthMass / yr>"
      ]
     },
     "execution_count": 14,
     "metadata": {},
     "output_type": "execute_result"
    },
    {
     "data": {
      "text/latex": [
       "$1.5711411 \\times 10^{-7} \\; \\mathrm{\\frac{M_{\\oplus}}{yr}}$"
      ],
      "text/plain": [
       "<Quantity 1.57114114e-07 earthMass / yr>"
      ]
     },
     "execution_count": 14,
     "metadata": {},
     "output_type": "execute_result"
    }
   ],
   "source": [
    "#Accreting Earth in HL Tau at contrast threshhold 1e-5\n",
    "\n",
    "zeropt = 2.25e-5*u.erg/u.cm**2/u.s/u.um #R band Johnson zeropoint\n",
    "dist = 140*u.pc\n",
    "mag = 14.21\n",
    "filterwid = 0.01*u.um\n",
    "contrast = 1e-5\n",
    "\n",
    "L_line = line_lum(dist,zeropt,filterwid,mag,contrast)\n",
    "L_acc = acc_lum(L_line)\n",
    "mdot=acc_rate(L_acc,R_earth,M_earth)\n",
    "mdot.to(u.Mearth/u.yr)"
   ]
  },
  {
   "cell_type": "code",
   "execution_count": null,
   "metadata": {},
   "outputs": [],
   "source": []
  }
 ],
 "metadata": {
  "anaconda-cloud": {},
  "kernelspec": {
   "display_name": "Python 3 (ipykernel)",
   "language": "python",
   "name": "python3"
  },
  "language_info": {
   "codemirror_mode": {
    "name": "ipython",
    "version": 3
   },
   "file_extension": ".py",
   "mimetype": "text/x-python",
   "name": "python",
   "nbconvert_exporter": "python",
   "pygments_lexer": "ipython3",
   "version": "3.9.5"
  }
 },
 "nbformat": 4,
 "nbformat_minor": 4
}
