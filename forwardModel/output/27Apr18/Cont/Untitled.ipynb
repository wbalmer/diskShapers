{
 "cells": [
  {
   "cell_type": "code",
   "execution_count": 1,
   "id": "57119f0c-79c5-4b82-ab51-647d5c02b206",
   "metadata": {},
   "outputs": [],
   "source": [
    "import numpy as np\n",
    "import astropy.io.fits as fits\n",
    "import pyklip.fitpsf as fitpsf\n",
    "import matplotlib.pylab as plt"
   ]
  },
  {
   "cell_type": "code",
   "execution_count": null,
   "id": "5ab3b46c-6e22-4d16-a706-d7af40d84fc1",
   "metadata": {},
   "outputs": [
    {
     "name": "stdout",
     "output_type": "stream",
     "text": [
      "created PE module\n"
     ]
    },
    {
     "name": "stderr",
     "output_type": "stream",
     "text": [
      "/home/wbalmer21/anaconda3/lib/python3.8/site-packages/numpy/lib/nanfunctions.py:1664: RuntimeWarning: Degrees of freedom <= 0 for slice.\n",
      "  var = nanvar(a, axis=axis, dtype=dtype, out=out, ddof=ddof,\n"
     ]
    },
    {
     "name": "stdout",
     "output_type": "stream",
     "text": [
      "generated FM \\& data stamps\n",
      "set kernel\n",
      "set bounds\n"
     ]
    },
    {
     "name": "stderr",
     "output_type": "stream",
     "text": [
      "/home/wbalmer21/anaconda3/lib/python3.8/site-packages/numpy/linalg/linalg.py:2098: RuntimeWarning: invalid value encountered in slogdet\n",
      "  sign, logdet = _umath_linalg.slogdet(a, signature=signature)\n"
     ]
    }
   ],
   "source": [
    "sep = 6\n",
    "pa = 55\n",
    "length = 2.5  # guess here also\n",
    "FWHM = 3.61\n",
    "smooth = None\n",
    "output_prefix = 'doGaussian/Cont3.61'\n",
    "# set some boundaries for your MCMC\n",
    "x_range = 1.5 # in pixels, anywhere from 1.5-5 is reasonable\n",
    "y_range = 1.5  # same as x\n",
    "flux_range = [10,200] # flux can vary by an order of magnitude\n",
    "corr_len_range = 3  # between 0.3 and 30\n",
    "\n",
    "# get FM frame\n",
    "fm_frame = fits.getdata(output_prefix + \"-fmpsf-KLmodes-all.fits\")[0]\n",
    "fm_header = fits.getheader(output_prefix + \"-fmpsf-KLmodes-all.fits\")\n",
    "if smooth:\n",
    "    print('smoothing!')\n",
    "    fm_frame = nan_gaussian_filter(fm_frame, smooth)\n",
    "fm_centx = fm_header['PSFCENTX']\n",
    "fm_centy = fm_header['PSFCENTY']\n",
    "\n",
    "# get data_stamp frame\n",
    "data_frame = fits.getdata(output_prefix + \"-klipped-KLmodes-all.fits\")[0]\n",
    "data_header = fits.getheader(output_prefix + \"-klipped-KLmodes-all.fits\")\n",
    "if smooth:\n",
    "    data_frame = nan_gaussian_filter(data_frame, smooth)\n",
    "data_centx = data_header['PSFCENTX']\n",
    "data_centy = data_header['PSFCENTY']\n",
    "\n",
    "plt.imshow(data_frame[200:250,200:250],origin='lower')\n",
    "\n",
    "# create Planet Evidence Module\n",
    "fit = fitpsf.PlanetEvidence(sep, pa, 15, output_prefix)\n",
    "print('created PE module')\n",
    "\n",
    "# generate FM stamp\n",
    "# padding should be greater than 0 so we don't run into interpolation problems\n",
    "fit.generate_fm_stamp(fm_frame, [fm_centx, fm_centy], padding=5)\n",
    "\n",
    "# generate data_stamp stamp\n",
    "# not that dr=4 means we are using a 4 pixel wide annulus to sample the noise for each pixel\n",
    "# exclusion_radius excludes all pixels less than that distance from the estimated location of the planet\n",
    "fit.generate_data_stamp(data_frame, [data_centx, data_centy], dr=4, exclusion_radius=10)\n",
    "print('generated FM \\& data stamps')\n",
    "# set kernel, no read noise\n",
    "corr_len_guess = 3.\n",
    "corr_len_label = r\"$l$\"\n",
    "fit.set_kernel(\"matern32\", [corr_len_guess], [corr_len_label])\n",
    "print('set kernel')\n",
    "fit.set_bounds(x_range, y_range, flux_range, [corr_len_range])\n",
    "print('set bounds')\n",
    "#Run the pymultinest fit\n",
    "fit.multifit()\n",
    "print('ran fit')\n",
    "global corn, nullcorn\n",
    "corn, nullcorn = fit.fit_plots()\n",
    "plt.show()\n",
    "corn\n",
    "plt.savefig(output_prefix+'_evidence_corner'+PSFpath.replace('do',str(FWHM))+'.png', transparent=True, dpi=300)\n",
    "plt.show()\n",
    "nullcorn\n",
    "plt.savefig(output_prefix+'_null_corner'+PSFpath.replace('do',str(FWHM))+'.png', transparent=True, dpi=300)\n",
    "plt.show()\n",
    "\n",
    "evidence = fit.fit_stats()\n",
    "\n",
    "#Forward model evidence\n",
    "fm_evidence = evidence[0]['nested sampling global log-evidence']\n",
    "#forward model parameter distributions, containing the median and percentiles for each\n",
    "fm_posteriors = evidence[0]['marginals']\n",
    "\n",
    "#Null model evidence\n",
    "null_evidence = evidence[1]['nested sampling global log-evidence']\n",
    "#null parameter distributions, containing the median and percentiles for each\n",
    "null_posteriors = evidence[1]['marginals']\n",
    "global evidence_ratio\n",
    "evidence_ratio = np.exp(fm_evidence)/np.exp(null_evidence)\n",
    "\n",
    "print('evidence ratio is: ',round(np.log(evidence_ratio), 4),' >5 is strong evidence')\n",
    "global residfig, resids, snr\n",
    "residnfig, snr = fit.fm_residuals()\n",
    "residfig, resids = residnfig\n",
    "residfig\n",
    "plt.savefig(output_prefix+'_BKA_residuals'+PSFpath.replace('do',str(FWHM))+'.png', transparent=True, dpi=300)\n"
   ]
  },
  {
   "cell_type": "code",
   "execution_count": null,
   "id": "c58fa072-3bbb-48e3-bc58-01fbd2e0e2df",
   "metadata": {},
   "outputs": [],
   "source": []
  }
 ],
 "metadata": {
  "kernelspec": {
   "display_name": "Python 3",
   "language": "python",
   "name": "python3"
  },
  "language_info": {
   "codemirror_mode": {
    "name": "ipython",
    "version": 3
   },
   "file_extension": ".py",
   "mimetype": "text/x-python",
   "name": "python",
   "nbconvert_exporter": "python",
   "pygments_lexer": "ipython3",
   "version": "3.8.8"
  }
 },
 "nbformat": 4,
 "nbformat_minor": 5
}
