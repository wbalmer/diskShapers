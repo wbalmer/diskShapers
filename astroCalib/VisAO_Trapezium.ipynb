{
 "cells": [
  {
   "cell_type": "code",
   "execution_count": 1,
   "metadata": {},
   "outputs": [],
   "source": [
    "import os\n",
    "import glob\n",
    "import pickle\n",
    "import datetime\n",
    "import numpy as np\n",
    "from astropy.io import fits\n",
    "from photutils import DAOStarFinder, CircularAperture\n",
    "import photutils.psf\n",
    "import matplotlib.pyplot as plt\n",
    "from astropy.visualization import LogStretch, AsinhStretch\n",
    "from astropy.visualization.mpl_normalize import ImageNormalize\n",
    "from scipy.signal import peak_widths\n",
    "import astropy.units as u\n",
    "import pandas as pd\n",
    "from scipy import stats\n",
    "from calibFuncs import *"
   ]
  },
  {
   "cell_type": "code",
   "execution_count": 2,
   "metadata": {},
   "outputs": [
    {
     "name": "stderr",
     "output_type": "stream",
     "text": [
      "  0%|                                                                              | 16/33363 [00:00<03:32, 156.93it/s]"
     ]
    },
    {
     "name": "stdout",
     "output_type": "stream",
     "text": [
      "sorting individual images\n"
     ]
    },
    {
     "name": "stderr",
     "output_type": "stream",
     "text": [
      "100%|███████████████████████████████████████████████████████████████████████████| 33363/33363 [04:16<00:00, 130.29it/s]\n",
      "100%|█████████████████████████████████████████████████████████████████████████████████| 17/17 [00:00<00:00, 386.74it/s]"
     ]
    },
    {
     "name": "stdout",
     "output_type": "stream",
     "text": [
      "sorting unique datasets into lists\n"
     ]
    },
    {
     "name": "stderr",
     "output_type": "stream",
     "text": [
      "\n"
     ]
    }
   ],
   "source": [
    "datadir = 'C:\\\\Users\\\\willi\\\\Dropbox (Amherst College)\\\\Research\\\\Follette-Lab\\\\Thesis-Data\\William\\\\trapezium_data\\\\visao_astro'\n",
    "uniques, VisAO_science, VisAO_darks = sortData(datadir, instrument='VisAO', filesdeep='*\\\\*\\\\', returntab=True)"
   ]
  },
  {
   "cell_type": "code",
   "execution_count": 3,
   "metadata": {},
   "outputs": [],
   "source": [
    "# data takes a long time to sort so pickle result\n",
    "filename = 'visao_science.pkl'\n",
    "outfile = open(filename,'wb')\n",
    "pickle.dump(VisAO_science,outfile)\n",
    "outfile.close()\n",
    "\n",
    "filename = 'visao_uniques.pkl'\n",
    "outfile = open(filename,'wb')\n",
    "pickle.dump(uniques,outfile)\n",
    "outfile.close()\n",
    "\n",
    "filename = 'visao_darks.pkl'\n",
    "outfile = open(filename,'wb')\n",
    "pickle.dump(VisAO_darks,outfile)\n",
    "outfile.close()"
   ]
  },
  {
   "cell_type": "code",
   "execution_count": 4,
   "metadata": {},
   "outputs": [],
   "source": [
    "# read in pickle\n",
    "infile = open('visao_science.pkl','rb')\n",
    "VisAO_science = pickle.load(infile)\n",
    "infile.close()\n",
    "\n",
    "infile = open('visao_uniques.pkl','rb')\n",
    "uniques = pickle.load(infile)\n",
    "infile.close()\n",
    "\n",
    "infile = open('visao_darks.pkl','rb')\n",
    "VisAO_darks = pickle.load(infile)\n",
    "infile.close()"
   ]
  },
  {
   "cell_type": "code",
   "execution_count": 51,
   "metadata": {},
   "outputs": [
    {
     "data": {
      "text/plain": [
       "['2014-11-10&SDI-H-alpha&Theta1_Ori_C',\n",
       " '2014-11-15&zprime&Theta1_Ori_C',\n",
       " '2014-11-16&zprime&Theta1_Ori_C',\n",
       " '2014-11-17&SDI-H-alpha&Unknown',\n",
       " '2014-11-29&SDI-H-alpha&Theta1_Ori_C',\n",
       " '2015-05-15&zprime&HD_165054',\n",
       " '2015-12-11&SDI-H-alpha&Theta1_Ori_B',\n",
       " '2016-11-17&iprime&Theta1_Ori_C',\n",
       " '2016-11-17&zprime&Theta1_Ori_C',\n",
       " '2016-11-17&SDI-H-alpha&Theta1_Ori_C',\n",
       " '2018-04-27&SDI-H-alpha&Baades_Window',\n",
       " '2018-04-27&unknown&Baades_Window',\n",
       " '2018-04-27&SDI-H-alpha&70_Oph',\n",
       " '2018-04-26&SDI-H-alpha&Theta1_Ori_B',\n",
       " '2018-04-26&unknown&Theta1_Ori_B',\n",
       " '2018-04-26&rprime&Theta1_Ori_B',\n",
       " '2018-04-26&zprime&Theta1_Ori_B']"
      ]
     },
     "execution_count": 51,
     "metadata": {},
     "output_type": "execute_result"
    }
   ],
   "source": [
    "uniques"
   ]
  },
  {
   "cell_type": "code",
   "execution_count": 55,
   "metadata": {},
   "outputs": [
    {
     "ename": "FileNotFoundError",
     "evalue": "[WinError 2] The system cannot find the file specified: 'C:\\\\Users\\\\willi\\\\Dropbox (Amherst College)\\\\Research\\\\Follette-Lab\\\\Thesis-Data\\\\William\\\\trapezium_data\\\\visao_astro\\\\visao_20141109_10\\\\tet1OriC_Ha_01\\\\V47_20141110091732005115.fits.gz' -> 'C:\\\\Users\\\\willi\\\\Dropbox (Amherst College)\\\\Research\\\\Follette-Lab\\\\Thesis-Data\\\\William\\\\trapezium_data\\\\visao_astro\\\\visao_20141109_10\\\\tet1OriC_Ha_01\\\\science\\\\V47_20141110091732005115.fits.gz'",
     "output_type": "error",
     "traceback": [
      "\u001b[1;31m---------------------------------------------------------------------------\u001b[0m",
      "\u001b[1;31mFileNotFoundError\u001b[0m                         Traceback (most recent call last)",
      "\u001b[1;32m<ipython-input-55-0c9be6de88e8>\u001b[0m in \u001b[0;36m<module>\u001b[1;34m\u001b[0m\n\u001b[0;32m     13\u001b[0m         \u001b[0mimname\u001b[0m \u001b[1;33m=\u001b[0m \u001b[0msci_im\u001b[0m\u001b[1;33m.\u001b[0m\u001b[0msplit\u001b[0m\u001b[1;33m(\u001b[0m\u001b[1;34m'\\\\'\u001b[0m\u001b[1;33m)\u001b[0m\u001b[1;33m[\u001b[0m\u001b[1;33m-\u001b[0m\u001b[1;36m1\u001b[0m\u001b[1;33m]\u001b[0m\u001b[1;33m\u001b[0m\u001b[1;33m\u001b[0m\u001b[0m\n\u001b[0;32m     14\u001b[0m         \u001b[0mnewpath\u001b[0m \u001b[1;33m=\u001b[0m \u001b[0msci_im\u001b[0m\u001b[1;33m.\u001b[0m\u001b[0mreplace\u001b[0m\u001b[1;33m(\u001b[0m\u001b[0mimname\u001b[0m\u001b[1;33m,\u001b[0m \u001b[1;34m'science\\\\'\u001b[0m\u001b[1;33m+\u001b[0m\u001b[0mimname\u001b[0m\u001b[1;33m)\u001b[0m\u001b[1;33m\u001b[0m\u001b[1;33m\u001b[0m\u001b[0m\n\u001b[1;32m---> 15\u001b[1;33m         \u001b[0mos\u001b[0m\u001b[1;33m.\u001b[0m\u001b[0mrename\u001b[0m\u001b[1;33m(\u001b[0m\u001b[0msci_im\u001b[0m\u001b[1;33m,\u001b[0m \u001b[0mnewpath\u001b[0m\u001b[1;33m)\u001b[0m\u001b[1;33m\u001b[0m\u001b[1;33m\u001b[0m\u001b[0m\n\u001b[0m",
      "\u001b[1;31mFileNotFoundError\u001b[0m: [WinError 2] The system cannot find the file specified: 'C:\\\\Users\\\\willi\\\\Dropbox (Amherst College)\\\\Research\\\\Follette-Lab\\\\Thesis-Data\\\\William\\\\trapezium_data\\\\visao_astro\\\\visao_20141109_10\\\\tet1OriC_Ha_01\\\\V47_20141110091732005115.fits.gz' -> 'C:\\\\Users\\\\willi\\\\Dropbox (Amherst College)\\\\Research\\\\Follette-Lab\\\\Thesis-Data\\\\William\\\\trapezium_data\\\\visao_astro\\\\visao_20141109_10\\\\tet1OriC_Ha_01\\\\science\\\\V47_20141110091732005115.fits.gz'"
     ]
    }
   ],
   "source": [
    "for i in range(len(VisAO_science)):\n",
    "    dataset = VisAO_science[i]\n",
    "    try:\n",
    "        first_im = dataset[0]\n",
    "    except IndexError:\n",
    "        break\n",
    "    first_im_root = first_im.replace(first_im.split('\\\\')[-1], 'science\\\\')\n",
    "    if os.path.exists(first_im_root):\n",
    "        pass\n",
    "    else:\n",
    "        os.mkdir(first_im_root)\n",
    "    for sci_im in dataset:\n",
    "        imname = sci_im.split('\\\\')[-1]\n",
    "        newpath = sci_im.replace(imname, 'science\\\\'+imname)\n",
    "        os.rename(sci_im, newpath)"
   ]
  },
  {
   "cell_type": "code",
   "execution_count": null,
   "metadata": {},
   "outputs": [],
   "source": []
  },
  {
   "cell_type": "code",
   "execution_count": null,
   "metadata": {},
   "outputs": [],
   "source": []
  }
 ],
 "metadata": {
  "kernelspec": {
   "display_name": "Python 3",
   "language": "python",
   "name": "python3"
  },
  "language_info": {
   "codemirror_mode": {
    "name": "ipython",
    "version": 3
   },
   "file_extension": ".py",
   "mimetype": "text/x-python",
   "name": "python",
   "nbconvert_exporter": "python",
   "pygments_lexer": "ipython3",
   "version": "3.8.5"
  }
 },
 "nbformat": 4,
 "nbformat_minor": 4
}
