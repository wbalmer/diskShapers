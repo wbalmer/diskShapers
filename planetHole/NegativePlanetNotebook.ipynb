{
 "cells": [
  {
   "cell_type": "code",
   "execution_count": 1,
   "metadata": {},
   "outputs": [],
   "source": [
    "from planetHole import planetHole"
   ]
  },
  {
   "cell_type": "code",
   "execution_count": 2,
   "metadata": {},
   "outputs": [],
   "source": [
    "import matplotlib.pyplot as plt\n",
    "import numpy as np\n",
    "from astropy.io import fits\n",
    "import glob"
   ]
  },
  {
   "cell_type": "code",
   "execution_count": 3,
   "metadata": {},
   "outputs": [],
   "source": [
    "# progress bars\n",
    "from tqdm import tqdm"
   ]
  },
  {
   "cell_type": "code",
   "execution_count": 4,
   "metadata": {},
   "outputs": [
    {
     "data": {
      "text/plain": [
       "array([ -950, -1000, -1050, -1100, -1150, -1200, -1250])"
      ]
     },
     "execution_count": 4,
     "metadata": {},
     "output_type": "execute_result"
    }
   ],
   "source": [
    "fluxes = np.arange(-950,-1300,-50)\n",
    "fluxes"
   ]
  },
  {
   "cell_type": "code",
   "execution_count": 5,
   "metadata": {},
   "outputs": [],
   "source": [
    "# doing zero injection reduction to find rough pos to start flux parameter exploration\n",
    "ph = planetHole('datum0', 'test_pa'+str(0)+'sep'+str(0), 'output', fluxes[0], 0, 0,\n",
    "                fwhm=3, ghostpath='ghost.fits', highpass=False,\n",
    "                klipparams=[6, 3, [50]], usegaussian=True)\n",
    "ph.run_KLIP()\n",
    "path = str(ph.get_result(2))\n",
    "print('grabbing '+path)\n",
    "with fits.open(path) as img:\n",
    "    im = img[1].data[2]\n",
    "    plt.imshow(im[210:230,205:225], origin='lower')\n",
    "residual = np.sum(im[210:230,205:225])\n",
    "print('')\n",
    "print('residual for '+path+' is '+str(residual))\n",
    "print('')"
   ]
  },
  {
   "cell_type": "code",
   "execution_count": 5,
   "metadata": {
    "scrolled": true
   },
   "outputs": [
    {
     "name": "stderr",
     "output_type": "stream",
     "text": [
      "\r",
      "  0%|                                                                                            | 0/7 [00:00<?, ?it/s]"
     ]
    },
    {
     "name": "stdout",
     "output_type": "stream",
     "text": [
      "reading data, num files:  153\n",
      "Begin align and scale images for each wavelength\n",
      "Wavelength 0.656 with index 0 has finished align and scale. Queuing for KLIP\n",
      "Total number of tasks for KLIP processing is 6\n",
      "Closing threadpool\n",
      "Derotating Images...\n",
      "Writing Images to directory C:\\Users\\willi\\Amherst\\Thesis\\Code\\diskShapers\\planetHole\\output\n",
      "wavelength collapsing reduced data of shape (b, N, wv, y, x):(1, 153, 1, 451, 451)\n"
     ]
    },
    {
     "name": "stderr",
     "output_type": "stream",
     "text": [
      "\r",
      " 14%|████████████                                                                        | 1/7 [01:05<06:31, 65.19s/it]"
     ]
    },
    {
     "name": "stdout",
     "output_type": "stream",
     "text": [
      "KLIP result is saved to: output\\test_flux-950-KLmodes-all.fits\n",
      "result dir is output\\test_flux-950-KLmodes-all.fits\n",
      "grabbing output\\test_flux-950-KLmodes-all.fits\n",
      "\n",
      "residual for output\\test_flux-950-KLmodes-all.fits is -584.6993\n",
      "\n",
      "reading data, num files:  153\n",
      "Begin align and scale images for each wavelength\n",
      "Wavelength 0.656 with index 0 has finished align and scale. Queuing for KLIP\n",
      "Total number of tasks for KLIP processing is 6\n",
      "Closing threadpool\n",
      "Derotating Images...\n",
      "Writing Images to directory C:\\Users\\willi\\Amherst\\Thesis\\Code\\diskShapers\\planetHole\\output\n",
      "wavelength collapsing reduced data of shape (b, N, wv, y, x):(1, 153, 1, 451, 451)\n"
     ]
    },
    {
     "name": "stderr",
     "output_type": "stream",
     "text": [
      "\r",
      " 29%|████████████████████████                                                            | 2/7 [02:09<05:24, 64.87s/it]"
     ]
    },
    {
     "name": "stdout",
     "output_type": "stream",
     "text": [
      "KLIP result is saved to: output\\test_flux-1000-KLmodes-all.fits\n",
      "result dir is output\\test_flux-1000-KLmodes-all.fits\n",
      "grabbing output\\test_flux-1000-KLmodes-all.fits\n",
      "\n",
      "residual for output\\test_flux-1000-KLmodes-all.fits is -503.7409\n",
      "\n",
      "reading data, num files:  153\n",
      "Begin align and scale images for each wavelength\n",
      "Wavelength 0.656 with index 0 has finished align and scale. Queuing for KLIP\n",
      "Total number of tasks for KLIP processing is 6\n",
      "Closing threadpool\n",
      "Derotating Images...\n",
      "Writing Images to directory C:\\Users\\willi\\Amherst\\Thesis\\Code\\diskShapers\\planetHole\\output\n",
      "wavelength collapsing reduced data of shape (b, N, wv, y, x):(1, 153, 1, 451, 451)\n"
     ]
    },
    {
     "name": "stderr",
     "output_type": "stream",
     "text": [
      "\r",
      " 43%|████████████████████████████████████                                                | 3/7 [03:14<04:19, 64.86s/it]"
     ]
    },
    {
     "name": "stdout",
     "output_type": "stream",
     "text": [
      "KLIP result is saved to: output\\test_flux-1050-KLmodes-all.fits\n",
      "result dir is output\\test_flux-1050-KLmodes-all.fits\n",
      "grabbing output\\test_flux-1050-KLmodes-all.fits\n",
      "\n",
      "residual for output\\test_flux-1050-KLmodes-all.fits is -403.53427\n",
      "\n",
      "reading data, num files:  153\n",
      "Begin align and scale images for each wavelength\n",
      "Wavelength 0.656 with index 0 has finished align and scale. Queuing for KLIP\n",
      "Total number of tasks for KLIP processing is 6\n",
      "Closing threadpool\n",
      "Derotating Images...\n",
      "Writing Images to directory C:\\Users\\willi\\Amherst\\Thesis\\Code\\diskShapers\\planetHole\\output\n",
      "wavelength collapsing reduced data of shape (b, N, wv, y, x):(1, 153, 1, 451, 451)\n"
     ]
    },
    {
     "name": "stderr",
     "output_type": "stream",
     "text": [
      "\r",
      " 57%|████████████████████████████████████████████████                                    | 4/7 [04:19<03:14, 64.94s/it]"
     ]
    },
    {
     "name": "stdout",
     "output_type": "stream",
     "text": [
      "KLIP result is saved to: output\\test_flux-1100-KLmodes-all.fits\n",
      "result dir is output\\test_flux-1100-KLmodes-all.fits\n",
      "grabbing output\\test_flux-1100-KLmodes-all.fits\n",
      "\n",
      "residual for output\\test_flux-1100-KLmodes-all.fits is -356.70544\n",
      "\n",
      "reading data, num files:  153\n",
      "Begin align and scale images for each wavelength\n",
      "Wavelength 0.656 with index 0 has finished align and scale. Queuing for KLIP\n",
      "Total number of tasks for KLIP processing is 6\n",
      "Closing threadpool\n",
      "Derotating Images...\n",
      "Writing Images to directory C:\\Users\\willi\\Amherst\\Thesis\\Code\\diskShapers\\planetHole\\output\n",
      "wavelength collapsing reduced data of shape (b, N, wv, y, x):(1, 153, 1, 451, 451)\n"
     ]
    },
    {
     "name": "stderr",
     "output_type": "stream",
     "text": [
      "\r",
      " 71%|████████████████████████████████████████████████████████████                        | 5/7 [05:25<02:10, 65.38s/it]"
     ]
    },
    {
     "name": "stdout",
     "output_type": "stream",
     "text": [
      "KLIP result is saved to: output\\test_flux-1150-KLmodes-all.fits\n",
      "result dir is output\\test_flux-1150-KLmodes-all.fits\n",
      "grabbing output\\test_flux-1150-KLmodes-all.fits\n",
      "\n",
      "residual for output\\test_flux-1150-KLmodes-all.fits is -376.67908\n",
      "\n",
      "reading data, num files:  153\n",
      "Begin align and scale images for each wavelength\n",
      "Wavelength 0.656 with index 0 has finished align and scale. Queuing for KLIP\n",
      "Total number of tasks for KLIP processing is 6\n",
      "Closing threadpool\n",
      "Derotating Images...\n",
      "Writing Images to directory C:\\Users\\willi\\Amherst\\Thesis\\Code\\diskShapers\\planetHole\\output\n",
      "wavelength collapsing reduced data of shape (b, N, wv, y, x):(1, 153, 1, 451, 451)\n"
     ]
    },
    {
     "name": "stderr",
     "output_type": "stream",
     "text": [
      "\r",
      " 86%|████████████████████████████████████████████████████████████████████████            | 6/7 [06:30<01:05, 65.32s/it]"
     ]
    },
    {
     "name": "stdout",
     "output_type": "stream",
     "text": [
      "KLIP result is saved to: output\\test_flux-1200-KLmodes-all.fits\n",
      "result dir is output\\test_flux-1200-KLmodes-all.fits\n",
      "grabbing output\\test_flux-1200-KLmodes-all.fits\n",
      "\n",
      "residual for output\\test_flux-1200-KLmodes-all.fits is -417.72922\n",
      "\n",
      "reading data, num files:  153\n",
      "Begin align and scale images for each wavelength\n",
      "Wavelength 0.656 with index 0 has finished align and scale. Queuing for KLIP\n",
      "Total number of tasks for KLIP processing is 6\n",
      "Closing threadpool\n",
      "Derotating Images...\n",
      "Writing Images to directory C:\\Users\\willi\\Amherst\\Thesis\\Code\\diskShapers\\planetHole\\output\n",
      "wavelength collapsing reduced data of shape (b, N, wv, y, x):(1, 153, 1, 451, 451)\n"
     ]
    },
    {
     "name": "stderr",
     "output_type": "stream",
     "text": [
      "100%|████████████████████████████████████████████████████████████████████████████████████| 7/7 [07:36<00:00, 65.24s/it]"
     ]
    },
    {
     "name": "stdout",
     "output_type": "stream",
     "text": [
      "KLIP result is saved to: output\\test_flux-1250-KLmodes-all.fits\n",
      "result dir is output\\test_flux-1250-KLmodes-all.fits\n",
      "grabbing output\\test_flux-1250-KLmodes-all.fits\n",
      "\n",
      "residual for output\\test_flux-1250-KLmodes-all.fits is -450.97797\n",
      "\n"
     ]
    },
    {
     "name": "stderr",
     "output_type": "stream",
     "text": [
      "\n"
     ]
    }
   ],
   "source": [
    "# do flux parameter exploration\n",
    "flux_resids = np.zeros(len(fluxes))\n",
    "for i in tqdm(range(len(fluxes))):\n",
    "    flux = fluxes[i]\n",
    "    ph = planetHole('datum0', 'test_flux'+str(flux), 'output', flux, 9, 111,\n",
    "                    fwhm=3, ghostpath='ghost.fits', highpass=False,\n",
    "                    klipparams=[6, 3, [50]], usegaussian=True)\n",
    "    ph.run_KLIP()\n",
    "    path = str(ph.get_result(2))\n",
    "    print('grabbing '+path)\n",
    "    with fits.open(path) as img:\n",
    "        im = img[1].data[0]\n",
    "    residual = np.nansum(im[210:230,205:225])\n",
    "    print('')\n",
    "    print('residual for '+path+' is '+str(residual))\n",
    "    print('')\n",
    "    flux_resids[i] += residual\n",
    "    "
   ]
  },
  {
   "cell_type": "code",
   "execution_count": 8,
   "metadata": {},
   "outputs": [
    {
     "data": {
      "text/plain": [
       "['output\\\\test_flux-950-KLmodes-all.fits',\n",
       " 'output\\\\test_flux-1000-KLmodes-all.fits',\n",
       " 'output\\\\test_flux-1050-KLmodes-all.fits',\n",
       " 'output\\\\test_flux-1100-KLmodes-all.fits',\n",
       " 'output\\\\test_flux-1150-KLmodes-all.fits',\n",
       " 'output\\\\test_flux-1200-KLmodes-all.fits',\n",
       " 'output\\\\test_flux-1250-KLmodes-all.fits']"
      ]
     },
     "execution_count": 8,
     "metadata": {},
     "output_type": "execute_result"
    }
   ],
   "source": [
    "paths = glob.glob('output/test_flux*.fits')\n",
    "paths = [paths[6]] + paths[0:6]\n",
    "paths"
   ]
  },
  {
   "cell_type": "code",
   "execution_count": 9,
   "metadata": {},
   "outputs": [],
   "source": [
    "def trim_axs(axs, N):\n",
    "    \"\"\"conform the axs list to have correct length\"\"\"\n",
    "    axs = axs.flat\n",
    "    for ax in axs[N:]:\n",
    "        ax.remove()\n",
    "    return axs[:N]"
   ]
  },
  {
   "cell_type": "code",
   "execution_count": 15,
   "metadata": {},
   "outputs": [
    {
     "data": {
      "image/png": "[encoded data removed]",
      "text/plain": [
       "<Figure size 1152x576 with 15 Axes>"
      ]
     },
     "metadata": {
      "needs_background": "light"
     },
     "output_type": "display_data"
    }
   ],
   "source": [
    "fig1, axs = plt.subplots(2, 7, figsize=(16,8))\n",
    "axs = trim_axs(axs, 2*len(fluxes))\n",
    "\n",
    "fig1.suptitle('Constraining negative planet injection flux')\n",
    "axs[0].set_xlabel('x-pixels from index 210-230')\n",
    "axs[0].set_ylabel('y-pixels from index 205-225')\n",
    "\n",
    "axs[7].set_xlabel('pixel values of residual stamp')\n",
    "\n",
    "fluxes2 = fluxes.tolist()\n",
    "\n",
    "for ax, i in zip(axs, range(len(axs))):\n",
    "    if i < len(paths):\n",
    "        path = paths[i]\n",
    "        flux = fluxes2[i]\n",
    "        ax.set_title('flux=%s (counts)' % str(flux))\n",
    "        with fits.open(path) as img:\n",
    "            im = img[1].data[0]\n",
    "            stamp = im[210:230,205:225]\n",
    "            axis = ax.imshow(stamp, origin='lower', vmin=-400, vmax=400)\n",
    "    else:\n",
    "        j = i-(int(len(axs)/2))\n",
    "        path = paths[j]\n",
    "        flux = fluxes2[j]\n",
    "        with fits.open(path) as img:\n",
    "            im = img[1].data[0]\n",
    "            stamp = im[210:230,205:225]\n",
    "            vals = stamp.flatten()\n",
    "            ax.hist(vals, density=True, color='xkcd:light rose')\n",
    "            ax.axvline(x=np.nanmedian(vals), color='xkcd:rose', linestyle='dashed', linewidth=2)\n",
    "            \n",
    "        if i > len(paths):\n",
    "            ax.get_yaxis().set_visible(False)\n",
    "\n",
    "cbar_ax = fig1.add_axes([0.93, 0.15, 0.01, 0.7])\n",
    "fig1.colorbar(axis, cax=cbar_ax)\n",
    "plt.savefig('negativeplanet_flux_fine.png', dpi=200)"
   ]
  },
  {
   "cell_type": "code",
   "execution_count": 14,
   "metadata": {},
   "outputs": [
    {
     "data": {
      "image/png": "[encoded data removed]",
      "text/plain": [
       "<Figure size 360x360 with 1 Axes>"
      ]
     },
     "metadata": {
      "needs_background": "light"
     },
     "output_type": "display_data"
    }
   ],
   "source": [
    "plt.figure(figsize=(5,5))\n",
    "plt.plot(fluxes, flux_resids)\n",
    "plt.xlabel('Negative planet injected flux (counts)')\n",
    "plt.xlim(-950,-1250)\n",
    "plt.ylabel('Sum of residual stamp')\n",
    "plt.savefig('sumvsflux.png', dpi=200)"
   ]
  },
  {
   "cell_type": "code",
   "execution_count": 22,
   "metadata": {
    "collapsed": true
   },
   "outputs": [
    {
     "name": "stderr",
     "output_type": "stream",
     "text": [
      "\r",
      "  0%|                                                                                            | 0/2 [00:00<?, ?it/s]"
     ]
    },
    {
     "name": "stdout",
     "output_type": "stream",
     "text": [
      "reading data, num files:  153\n",
      "Begin align and scale images for each wavelength\n",
      "Wavelength 0.656 with index 0 has finished align and scale. Queuing for KLIP\n",
      "Total number of tasks for KLIP processing is 6\n",
      "Closing threadpool\n",
      "Derotating Images...\n",
      "Writing Images to directory C:\\Users\\willi\\Amherst\\Thesis\\Code\\diskShapers\\planetHole\\output\n",
      "wavelength collapsing reduced data of shape (b, N, wv, y, x):(3, 153, 1, 451, 451)\n",
      "KLIP result is saved to: output\\test_pa109sep9-KLmodes-all.fits\n",
      "result dir is output\\test_pa109sep9-KLmodes-all.fits\n",
      "grabbing output\\test_pa109sep9-KLmodes-all.fits\n",
      "\n",
      "residual for output\\test_pa109sep9-KLmodes-all.fits is -748.41315\n",
      "\n",
      "reading data, num files:  153\n",
      "Begin align and scale images for each wavelength\n",
      "Wavelength 0.656 with index 0 has finished align and scale. Queuing for KLIP\n",
      "Total number of tasks for KLIP processing is 6\n",
      "Closing threadpool\n",
      "Derotating Images...\n",
      "Writing Images to directory C:\\Users\\willi\\Amherst\\Thesis\\Code\\diskShapers\\planetHole\\output\n",
      "wavelength collapsing reduced data of shape (b, N, wv, y, x):(3, 153, 1, 451, 451)\n"
     ]
    },
    {
     "name": "stderr",
     "output_type": "stream",
     "text": [
      "\r",
      " 50%|█████████████████████████████████████████▌                                         | 1/2 [02:39<02:39, 159.55s/it]"
     ]
    },
    {
     "name": "stdout",
     "output_type": "stream",
     "text": [
      "KLIP result is saved to: output\\test_pa109sep10-KLmodes-all.fits\n",
      "result dir is output\\test_pa109sep10-KLmodes-all.fits\n",
      "grabbing output\\test_pa109sep10-KLmodes-all.fits\n",
      "\n",
      "residual for output\\test_pa109sep10-KLmodes-all.fits is -949.6642\n",
      "\n",
      "reading data, num files:  153\n",
      "Begin align and scale images for each wavelength\n",
      "Wavelength 0.656 with index 0 has finished align and scale. Queuing for KLIP\n",
      "Total number of tasks for KLIP processing is 6\n",
      "Closing threadpool\n",
      "Derotating Images...\n",
      "Writing Images to directory C:\\Users\\willi\\Amherst\\Thesis\\Code\\diskShapers\\planetHole\\output\n",
      "wavelength collapsing reduced data of shape (b, N, wv, y, x):(3, 153, 1, 451, 451)\n",
      "KLIP result is saved to: output\\test_pa110sep9-KLmodes-all.fits\n",
      "result dir is output\\test_pa110sep9-KLmodes-all.fits\n",
      "grabbing output\\test_pa110sep9-KLmodes-all.fits\n",
      "\n",
      "residual for output\\test_pa110sep9-KLmodes-all.fits is -614.4364\n",
      "\n",
      "reading data, num files:  153\n",
      "Begin align and scale images for each wavelength\n",
      "Wavelength 0.656 with index 0 has finished align and scale. Queuing for KLIP\n",
      "Total number of tasks for KLIP processing is 6\n",
      "Closing threadpool\n",
      "Derotating Images...\n",
      "Writing Images to directory C:\\Users\\willi\\Amherst\\Thesis\\Code\\diskShapers\\planetHole\\output\n",
      "wavelength collapsing reduced data of shape (b, N, wv, y, x):(3, 153, 1, 451, 451)\n"
     ]
    },
    {
     "name": "stderr",
     "output_type": "stream",
     "text": [
      "100%|███████████████████████████████████████████████████████████████████████████████████| 2/2 [05:15<00:00, 157.60s/it]"
     ]
    },
    {
     "name": "stdout",
     "output_type": "stream",
     "text": [
      "KLIP result is saved to: output\\test_pa110sep10-KLmodes-all.fits\n",
      "result dir is output\\test_pa110sep10-KLmodes-all.fits\n",
      "grabbing output\\test_pa110sep10-KLmodes-all.fits\n",
      "\n",
      "residual for output\\test_pa110sep10-KLmodes-all.fits is -871.4548\n",
      "\n",
      "[[-748.41314697 -949.66418457]\n",
      " [-614.43640137 -871.45477295]]\n"
     ]
    },
    {
     "name": "stderr",
     "output_type": "stream",
     "text": [
      "\n"
     ]
    }
   ],
   "source": [
    "# param_space = np.zeros((len(range(109,111)), len(range(9,11))))\n",
    "# for pa in tqdm(range(109,111)):\n",
    "#     for sep in range(9,11):\n",
    "#         ph = planetHole('datum0', 'test_pa'+str(pa)+'sep'+str(sep), 'output', -1000, sep, pa,\n",
    "#                  fwhm=3, ghostpath='ghost.fits', highpass=False,\n",
    "#                  klipparams=[6, 3, [1, 5, 50]], usegaussian=True)\n",
    "#         ph.run_KLIP()\n",
    "#         path = str(ph.get_result(2))\n",
    "#         print('grabbing '+path)\n",
    "#         with fits.open(path) as img:\n",
    "#             im = img[1].data[2]\n",
    "#         residual = np.nansum(im[210:230,205:225])\n",
    "#         print('')\n",
    "#         print('residual for '+path+' is '+str(residual))\n",
    "#         print('')\n",
    "#         param_space[pa-109,sep-9] += residual\n",
    "\n",
    "# print(param_space)"
   ]
  },
  {
   "cell_type": "code",
   "execution_count": 5,
   "metadata": {},
   "outputs": [
    {
     "data": {
      "text/plain": [
       "[]"
      ]
     },
     "execution_count": 5,
     "metadata": {},
     "output_type": "execute_result"
    }
   ],
   "source": [
    "paths = glob.glob('output/*pa1*.fits')\n",
    "paths"
   ]
  },
  {
   "cell_type": "code",
   "execution_count": 35,
   "metadata": {},
   "outputs": [
    {
     "data": {
      "text/plain": [
       "<matplotlib.colorbar.Colorbar at 0x1f7810f24f0>"
      ]
     },
     "execution_count": 35,
     "metadata": {},
     "output_type": "execute_result"
    },
    {
     "data": {
      "image/png": "[encoded data removed]",
      "text/plain": [
       "<Figure size 576x576 with 5 Axes>"
      ]
     },
     "metadata": {
      "needs_background": "light"
     },
     "output_type": "display_data"
    }
   ],
   "source": [
    "# fig1, axs = plt.subplots(2, 2, figsize=(8,8))\n",
    "# axs = trim_axs(axs, len(paths))\n",
    "\n",
    "# fig1.suptitle('Constraining negative planet injection flux')\n",
    "# axs[2].set_xlabel('x-pixels from index 210-230')\n",
    "# axs[2].set_ylabel('y-pixels from index 205-225')\n",
    "\n",
    "# pas = [109,109,110,110]\n",
    "# seps = [10,9,10,9]\n",
    "\n",
    "# for ax, i in zip(axs, range(len(paths))):\n",
    "#     path = paths[i]\n",
    "#     pa = pas[i]\n",
    "#     sep = seps[i]\n",
    "#     ax.set_title('PA='+str(pa)+' sep='+str(sep))\n",
    "#     with fits.open(path) as img:\n",
    "#         im = img[1].data[2]\n",
    "#         stamp = im[210:230,205:225]\n",
    "#     axis = ax.imshow(stamp, origin='lower', vmin=-400, vmax=400)\n",
    "\n",
    "# cbar_ax = fig1.add_axes([0.93, 0.15, 0.01, 0.7])\n",
    "# fig1.colorbar(axis, cax=cbar_ax)"
   ]
  },
  {
   "cell_type": "code",
   "execution_count": 5,
   "metadata": {
    "scrolled": true
   },
   "outputs": [
    {
     "name": "stderr",
     "output_type": "stream",
     "text": [
      "  0%|                                                                                            | 0/5 [00:00<?, ?it/s]\n",
      "  0%|                                                                                            | 0/7 [00:00<?, ?it/s]\u001b[A"
     ]
    },
    {
     "name": "stdout",
     "output_type": "stream",
     "text": [
      "reading data, num files:  153\n",
      "Begin align and scale images for each wavelength\n",
      "Wavelength 0.656 with index 0 has finished align and scale. Queuing for KLIP\n",
      "Total number of tasks for KLIP processing is 6\n",
      "Closing threadpool\n",
      "Derotating Images...\n",
      "Writing Images to directory C:\\Users\\willi\\Amherst\\Thesis\\Code\\diskShapers\\planetHole\\output\n",
      "wavelength collapsing reduced data of shape (b, N, wv, y, x):(1, 153, 1, 451, 451)\n"
     ]
    },
    {
     "name": "stderr",
     "output_type": "stream",
     "text": [
      "\n",
      " 14%|████████████                                                                        | 1/7 [01:06<06:39, 66.50s/it]\u001b[A"
     ]
    },
    {
     "name": "stdout",
     "output_type": "stream",
     "text": [
      "KLIP result is saved to: output\\test_pa106sep3-KLmodes-all.fits\n",
      "result dir is output\\test_pa106sep3-KLmodes-all.fits\n",
      "grabbing output\\test_pa106sep3-KLmodes-all.fits\n",
      "\n",
      "residual for output\\test_pa106sep3-KLmodes-all.fits is -1174.7764\n",
      "\n",
      "reading data, num files:  153\n",
      "Begin align and scale images for each wavelength\n",
      "Wavelength 0.656 with index 0 has finished align and scale. Queuing for KLIP\n",
      "Total number of tasks for KLIP processing is 6\n",
      "Closing threadpool\n",
      "Derotating Images...\n",
      "Writing Images to directory C:\\Users\\willi\\Amherst\\Thesis\\Code\\diskShapers\\planetHole\\output\n",
      "wavelength collapsing reduced data of shape (b, N, wv, y, x):(1, 153, 1, 451, 451)\n"
     ]
    },
    {
     "name": "stderr",
     "output_type": "stream",
     "text": [
      "\n",
      " 29%|████████████████████████                                                            | 2/7 [02:13<05:33, 66.62s/it]\u001b[A"
     ]
    },
    {
     "name": "stdout",
     "output_type": "stream",
     "text": [
      "KLIP result is saved to: output\\test_pa106sep5-KLmodes-all.fits\n",
      "result dir is output\\test_pa106sep5-KLmodes-all.fits\n",
      "grabbing output\\test_pa106sep5-KLmodes-all.fits\n",
      "\n",
      "residual for output\\test_pa106sep5-KLmodes-all.fits is -1054.2733\n",
      "\n",
      "reading data, num files:  153\n",
      "Begin align and scale images for each wavelength\n",
      "Wavelength 0.656 with index 0 has finished align and scale. Queuing for KLIP\n",
      "Total number of tasks for KLIP processing is 6\n",
      "Closing threadpool\n",
      "Derotating Images...\n",
      "Writing Images to directory C:\\Users\\willi\\Amherst\\Thesis\\Code\\diskShapers\\planetHole\\output\n",
      "wavelength collapsing reduced data of shape (b, N, wv, y, x):(1, 153, 1, 451, 451)\n"
     ]
    },
    {
     "name": "stderr",
     "output_type": "stream",
     "text": [
      "\n",
      " 43%|████████████████████████████████████                                                | 3/7 [03:21<04:27, 66.92s/it]\u001b[A"
     ]
    },
    {
     "name": "stdout",
     "output_type": "stream",
     "text": [
      "KLIP result is saved to: output\\test_pa106sep7-KLmodes-all.fits\n",
      "result dir is output\\test_pa106sep7-KLmodes-all.fits\n",
      "grabbing output\\test_pa106sep7-KLmodes-all.fits\n",
      "\n",
      "residual for output\\test_pa106sep7-KLmodes-all.fits is -1213.8539\n",
      "\n",
      "reading data, num files:  153\n",
      "Begin align and scale images for each wavelength\n",
      "Wavelength 0.656 with index 0 has finished align and scale. Queuing for KLIP\n",
      "Total number of tasks for KLIP processing is 6\n",
      "Closing threadpool\n",
      "Derotating Images...\n",
      "Writing Images to directory C:\\Users\\willi\\Amherst\\Thesis\\Code\\diskShapers\\planetHole\\output\n",
      "wavelength collapsing reduced data of shape (b, N, wv, y, x):(1, 153, 1, 451, 451)\n"
     ]
    },
    {
     "name": "stderr",
     "output_type": "stream",
     "text": [
      "\n",
      " 57%|████████████████████████████████████████████████                                    | 4/7 [04:29<03:21, 67.33s/it]\u001b[A"
     ]
    },
    {
     "name": "stdout",
     "output_type": "stream",
     "text": [
      "KLIP result is saved to: output\\test_pa106sep9-KLmodes-all.fits\n",
      "result dir is output\\test_pa106sep9-KLmodes-all.fits\n",
      "grabbing output\\test_pa106sep9-KLmodes-all.fits\n",
      "\n",
      "residual for output\\test_pa106sep9-KLmodes-all.fits is -1140.3615\n",
      "\n",
      "reading data, num files:  153\n",
      "Begin align and scale images for each wavelength\n",
      "Wavelength 0.656 with index 0 has finished align and scale. Queuing for KLIP\n",
      "Total number of tasks for KLIP processing is 6\n",
      "Closing threadpool\n",
      "Derotating Images...\n",
      "Writing Images to directory C:\\Users\\willi\\Amherst\\Thesis\\Code\\diskShapers\\planetHole\\output\n",
      "wavelength collapsing reduced data of shape (b, N, wv, y, x):(1, 153, 1, 451, 451)\n"
     ]
    },
    {
     "name": "stderr",
     "output_type": "stream",
     "text": [
      "\n",
      " 71%|████████████████████████████████████████████████████████████                        | 5/7 [05:36<02:14, 67.33s/it]\u001b[A"
     ]
    },
    {
     "name": "stdout",
     "output_type": "stream",
     "text": [
      "KLIP result is saved to: output\\test_pa106sep11-KLmodes-all.fits\n",
      "result dir is output\\test_pa106sep11-KLmodes-all.fits\n",
      "grabbing output\\test_pa106sep11-KLmodes-all.fits\n",
      "\n",
      "residual for output\\test_pa106sep11-KLmodes-all.fits is -1264.7008\n",
      "\n",
      "reading data, num files:  153\n",
      "Begin align and scale images for each wavelength\n",
      "Wavelength 0.656 with index 0 has finished align and scale. Queuing for KLIP\n",
      "Total number of tasks for KLIP processing is 6\n",
      "Closing threadpool\n",
      "Derotating Images...\n",
      "Writing Images to directory C:\\Users\\willi\\Amherst\\Thesis\\Code\\diskShapers\\planetHole\\output\n",
      "wavelength collapsing reduced data of shape (b, N, wv, y, x):(1, 153, 1, 451, 451)\n"
     ]
    },
    {
     "name": "stderr",
     "output_type": "stream",
     "text": [
      "\n",
      " 86%|████████████████████████████████████████████████████████████████████████            | 6/7 [06:43<01:07, 67.25s/it]\u001b[A"
     ]
    },
    {
     "name": "stdout",
     "output_type": "stream",
     "text": [
      "KLIP result is saved to: output\\test_pa106sep13-KLmodes-all.fits\n",
      "result dir is output\\test_pa106sep13-KLmodes-all.fits\n",
      "grabbing output\\test_pa106sep13-KLmodes-all.fits\n",
      "\n",
      "residual for output\\test_pa106sep13-KLmodes-all.fits is -1337.8062\n",
      "\n",
      "reading data, num files:  153\n",
      "Begin align and scale images for each wavelength\n",
      "Wavelength 0.656 with index 0 has finished align and scale. Queuing for KLIP\n",
      "Total number of tasks for KLIP processing is 6\n",
      "Closing threadpool\n",
      "Derotating Images...\n",
      "Writing Images to directory C:\\Users\\willi\\Amherst\\Thesis\\Code\\diskShapers\\planetHole\\output\n",
      "wavelength collapsing reduced data of shape (b, N, wv, y, x):(1, 153, 1, 451, 451)\n"
     ]
    },
    {
     "name": "stderr",
     "output_type": "stream",
     "text": [
      "\n",
      "100%|████████████████████████████████████████████████████████████████████████████████████| 7/7 [07:51<00:00, 67.30s/it]\u001b[A\n",
      " 20%|████████████████▌                                                                  | 1/5 [07:51<31:24, 471.10s/it]\n",
      "  0%|                                                                                            | 0/7 [00:00<?, ?it/s]\u001b[A"
     ]
    },
    {
     "name": "stdout",
     "output_type": "stream",
     "text": [
      "KLIP result is saved to: output\\test_pa106sep15-KLmodes-all.fits\n",
      "result dir is output\\test_pa106sep15-KLmodes-all.fits\n",
      "grabbing output\\test_pa106sep15-KLmodes-all.fits\n",
      "\n",
      "residual for output\\test_pa106sep15-KLmodes-all.fits is -1430.8887\n",
      "\n",
      "reading data, num files:  153\n",
      "Begin align and scale images for each wavelength\n",
      "Wavelength 0.656 with index 0 has finished align and scale. Queuing for KLIP\n",
      "Total number of tasks for KLIP processing is 6\n",
      "Closing threadpool\n",
      "Derotating Images...\n",
      "Writing Images to directory C:\\Users\\willi\\Amherst\\Thesis\\Code\\diskShapers\\planetHole\\output\n",
      "wavelength collapsing reduced data of shape (b, N, wv, y, x):(1, 153, 1, 451, 451)\n"
     ]
    },
    {
     "name": "stderr",
     "output_type": "stream",
     "text": [
      "\n",
      " 14%|████████████                                                                        | 1/7 [01:07<06:43, 67.25s/it]\u001b[A"
     ]
    },
    {
     "name": "stdout",
     "output_type": "stream",
     "text": [
      "KLIP result is saved to: output\\test_pa109sep3-KLmodes-all.fits\n",
      "result dir is output\\test_pa109sep3-KLmodes-all.fits\n",
      "grabbing output\\test_pa109sep3-KLmodes-all.fits\n",
      "\n",
      "residual for output\\test_pa109sep3-KLmodes-all.fits is -1159.7137\n",
      "\n",
      "reading data, num files:  153\n",
      "Begin align and scale images for each wavelength\n",
      "Wavelength 0.656 with index 0 has finished align and scale. Queuing for KLIP\n",
      "Total number of tasks for KLIP processing is 6\n",
      "Closing threadpool\n",
      "Derotating Images...\n",
      "Writing Images to directory C:\\Users\\willi\\Amherst\\Thesis\\Code\\diskShapers\\planetHole\\output\n",
      "wavelength collapsing reduced data of shape (b, N, wv, y, x):(1, 153, 1, 451, 451)\n"
     ]
    },
    {
     "name": "stderr",
     "output_type": "stream",
     "text": [
      "\n",
      " 29%|████████████████████████                                                            | 2/7 [02:15<05:37, 67.46s/it]\u001b[A"
     ]
    },
    {
     "name": "stdout",
     "output_type": "stream",
     "text": [
      "KLIP result is saved to: output\\test_pa109sep5-KLmodes-all.fits\n",
      "result dir is output\\test_pa109sep5-KLmodes-all.fits\n",
      "grabbing output\\test_pa109sep5-KLmodes-all.fits\n",
      "\n",
      "residual for output\\test_pa109sep5-KLmodes-all.fits is -1058.5125\n",
      "\n",
      "reading data, num files:  153\n",
      "Begin align and scale images for each wavelength\n",
      "Wavelength 0.656 with index 0 has finished align and scale. Queuing for KLIP\n",
      "Total number of tasks for KLIP processing is 6\n",
      "Closing threadpool\n",
      "Derotating Images...\n",
      "Writing Images to directory C:\\Users\\willi\\Amherst\\Thesis\\Code\\diskShapers\\planetHole\\output\n",
      "wavelength collapsing reduced data of shape (b, N, wv, y, x):(1, 153, 1, 451, 451)\n"
     ]
    },
    {
     "name": "stderr",
     "output_type": "stream",
     "text": [
      "\n",
      " 43%|████████████████████████████████████                                                | 3/7 [03:22<04:29, 67.46s/it]\u001b[A"
     ]
    },
    {
     "name": "stdout",
     "output_type": "stream",
     "text": [
      "KLIP result is saved to: output\\test_pa109sep7-KLmodes-all.fits\n",
      "result dir is output\\test_pa109sep7-KLmodes-all.fits\n",
      "grabbing output\\test_pa109sep7-KLmodes-all.fits\n",
      "\n",
      "residual for output\\test_pa109sep7-KLmodes-all.fits is -1269.4575\n",
      "\n",
      "reading data, num files:  153\n",
      "Begin align and scale images for each wavelength\n",
      "Wavelength 0.656 with index 0 has finished align and scale. Queuing for KLIP\n",
      "Total number of tasks for KLIP processing is 6\n",
      "Closing threadpool\n",
      "Derotating Images...\n",
      "Writing Images to directory C:\\Users\\willi\\Amherst\\Thesis\\Code\\diskShapers\\planetHole\\output\n",
      "wavelength collapsing reduced data of shape (b, N, wv, y, x):(1, 153, 1, 451, 451)\n"
     ]
    },
    {
     "name": "stderr",
     "output_type": "stream",
     "text": [
      "\n",
      " 57%|████████████████████████████████████████████████                                    | 4/7 [04:30<03:22, 67.45s/it]\u001b[A"
     ]
    },
    {
     "name": "stdout",
     "output_type": "stream",
     "text": [
      "KLIP result is saved to: output\\test_pa109sep9-KLmodes-all.fits\n",
      "result dir is output\\test_pa109sep9-KLmodes-all.fits\n",
      "grabbing output\\test_pa109sep9-KLmodes-all.fits\n",
      "\n",
      "residual for output\\test_pa109sep9-KLmodes-all.fits is -748.41315\n",
      "\n",
      "reading data, num files:  153\n",
      "Begin align and scale images for each wavelength\n",
      "Wavelength 0.656 with index 0 has finished align and scale. Queuing for KLIP\n",
      "Total number of tasks for KLIP processing is 6\n",
      "Closing threadpool\n",
      "Derotating Images...\n",
      "Writing Images to directory C:\\Users\\willi\\Amherst\\Thesis\\Code\\diskShapers\\planetHole\\output\n",
      "wavelength collapsing reduced data of shape (b, N, wv, y, x):(1, 153, 1, 451, 451)\n"
     ]
    },
    {
     "name": "stderr",
     "output_type": "stream",
     "text": [
      "\n",
      " 71%|████████████████████████████████████████████████████████████                        | 5/7 [05:37<02:14, 67.40s/it]\u001b[A"
     ]
    },
    {
     "name": "stdout",
     "output_type": "stream",
     "text": [
      "KLIP result is saved to: output\\test_pa109sep11-KLmodes-all.fits\n",
      "result dir is output\\test_pa109sep11-KLmodes-all.fits\n",
      "grabbing output\\test_pa109sep11-KLmodes-all.fits\n",
      "\n",
      "residual for output\\test_pa109sep11-KLmodes-all.fits is -974.8541\n",
      "\n",
      "reading data, num files:  153\n",
      "Begin align and scale images for each wavelength\n",
      "Wavelength 0.656 with index 0 has finished align and scale. Queuing for KLIP\n",
      "Total number of tasks for KLIP processing is 6\n",
      "Closing threadpool\n",
      "Derotating Images...\n",
      "Writing Images to directory C:\\Users\\willi\\Amherst\\Thesis\\Code\\diskShapers\\planetHole\\output\n",
      "wavelength collapsing reduced data of shape (b, N, wv, y, x):(1, 153, 1, 451, 451)\n"
     ]
    },
    {
     "name": "stderr",
     "output_type": "stream",
     "text": [
      "\n",
      " 86%|████████████████████████████████████████████████████████████████████████            | 6/7 [06:44<01:07, 67.34s/it]\u001b[A"
     ]
    },
    {
     "name": "stdout",
     "output_type": "stream",
     "text": [
      "KLIP result is saved to: output\\test_pa109sep13-KLmodes-all.fits\n",
      "result dir is output\\test_pa109sep13-KLmodes-all.fits\n",
      "grabbing output\\test_pa109sep13-KLmodes-all.fits\n",
      "\n",
      "residual for output\\test_pa109sep13-KLmodes-all.fits is -1198.5508\n",
      "\n",
      "reading data, num files:  153\n",
      "Begin align and scale images for each wavelength\n",
      "Wavelength 0.656 with index 0 has finished align and scale. Queuing for KLIP\n",
      "Total number of tasks for KLIP processing is 6\n",
      "Closing threadpool\n",
      "Derotating Images...\n",
      "Writing Images to directory C:\\Users\\willi\\Amherst\\Thesis\\Code\\diskShapers\\planetHole\\output\n",
      "wavelength collapsing reduced data of shape (b, N, wv, y, x):(1, 153, 1, 451, 451)\n"
     ]
    },
    {
     "name": "stderr",
     "output_type": "stream",
     "text": [
      "\n",
      "100%|████████████████████████████████████████████████████████████████████████████████████| 7/7 [07:49<00:00, 67.13s/it]\u001b[A\n",
      " 40%|█████████████████████████████████▏                                                 | 2/5 [15:41<23:32, 470.75s/it]\n",
      "  0%|                                                                                            | 0/7 [00:00<?, ?it/s]\u001b[A"
     ]
    },
    {
     "name": "stdout",
     "output_type": "stream",
     "text": [
      "KLIP result is saved to: output\\test_pa109sep15-KLmodes-all.fits\n",
      "result dir is output\\test_pa109sep15-KLmodes-all.fits\n",
      "grabbing output\\test_pa109sep15-KLmodes-all.fits\n",
      "\n",
      "residual for output\\test_pa109sep15-KLmodes-all.fits is -1399.0603\n",
      "\n",
      "reading data, num files:  153\n",
      "Begin align and scale images for each wavelength\n",
      "Wavelength 0.656 with index 0 has finished align and scale. Queuing for KLIP\n",
      "Total number of tasks for KLIP processing is 6\n",
      "Closing threadpool\n",
      "Derotating Images...\n",
      "Writing Images to directory C:\\Users\\willi\\Amherst\\Thesis\\Code\\diskShapers\\planetHole\\output\n",
      "wavelength collapsing reduced data of shape (b, N, wv, y, x):(1, 153, 1, 451, 451)\n"
     ]
    },
    {
     "name": "stderr",
     "output_type": "stream",
     "text": [
      "\n",
      " 14%|████████████                                                                        | 1/7 [01:04<06:28, 64.74s/it]\u001b[A"
     ]
    },
    {
     "name": "stdout",
     "output_type": "stream",
     "text": [
      "KLIP result is saved to: output\\test_pa112sep3-KLmodes-all.fits\n",
      "result dir is output\\test_pa112sep3-KLmodes-all.fits\n",
      "grabbing output\\test_pa112sep3-KLmodes-all.fits\n",
      "\n",
      "residual for output\\test_pa112sep3-KLmodes-all.fits is -1138.6766\n",
      "\n",
      "reading data, num files:  153\n",
      "Begin align and scale images for each wavelength\n",
      "Wavelength 0.656 with index 0 has finished align and scale. Queuing for KLIP\n",
      "Total number of tasks for KLIP processing is 6\n",
      "Closing threadpool\n",
      "Derotating Images...\n",
      "Writing Images to directory C:\\Users\\willi\\Amherst\\Thesis\\Code\\diskShapers\\planetHole\\output\n",
      "wavelength collapsing reduced data of shape (b, N, wv, y, x):(1, 153, 1, 451, 451)\n"
     ]
    },
    {
     "name": "stderr",
     "output_type": "stream",
     "text": [
      "\n",
      " 29%|████████████████████████                                                            | 2/7 [02:09<05:23, 64.71s/it]\u001b[A"
     ]
    },
    {
     "name": "stdout",
     "output_type": "stream",
     "text": [
      "KLIP result is saved to: output\\test_pa112sep5-KLmodes-all.fits\n",
      "result dir is output\\test_pa112sep5-KLmodes-all.fits\n",
      "grabbing output\\test_pa112sep5-KLmodes-all.fits\n",
      "\n",
      "residual for output\\test_pa112sep5-KLmodes-all.fits is -1082.2725\n",
      "\n",
      "reading data, num files:  153\n",
      "Begin align and scale images for each wavelength\n",
      "Wavelength 0.656 with index 0 has finished align and scale. Queuing for KLIP\n",
      "Total number of tasks for KLIP processing is 6\n",
      "Closing threadpool\n",
      "Derotating Images...\n",
      "Writing Images to directory C:\\Users\\willi\\Amherst\\Thesis\\Code\\diskShapers\\planetHole\\output\n",
      "wavelength collapsing reduced data of shape (b, N, wv, y, x):(1, 153, 1, 451, 451)\n"
     ]
    },
    {
     "name": "stderr",
     "output_type": "stream",
     "text": [
      "\n",
      " 43%|████████████████████████████████████                                                | 3/7 [03:13<04:18, 64.68s/it]\u001b[A"
     ]
    },
    {
     "name": "stdout",
     "output_type": "stream",
     "text": [
      "KLIP result is saved to: output\\test_pa112sep7-KLmodes-all.fits\n",
      "result dir is output\\test_pa112sep7-KLmodes-all.fits\n",
      "grabbing output\\test_pa112sep7-KLmodes-all.fits\n",
      "\n",
      "residual for output\\test_pa112sep7-KLmodes-all.fits is -1133.6443\n",
      "\n",
      "reading data, num files:  153\n",
      "Begin align and scale images for each wavelength\n",
      "Wavelength 0.656 with index 0 has finished align and scale. Queuing for KLIP\n",
      "Total number of tasks for KLIP processing is 6\n",
      "Closing threadpool\n",
      "Derotating Images...\n",
      "Writing Images to directory C:\\Users\\willi\\Amherst\\Thesis\\Code\\diskShapers\\planetHole\\output\n",
      "wavelength collapsing reduced data of shape (b, N, wv, y, x):(1, 153, 1, 451, 451)\n"
     ]
    },
    {
     "name": "stderr",
     "output_type": "stream",
     "text": [
      "\n",
      " 57%|████████████████████████████████████████████████                                    | 4/7 [04:18<03:14, 64.73s/it]\u001b[A"
     ]
    },
    {
     "name": "stdout",
     "output_type": "stream",
     "text": [
      "KLIP result is saved to: output\\test_pa112sep9-KLmodes-all.fits\n",
      "result dir is output\\test_pa112sep9-KLmodes-all.fits\n",
      "grabbing output\\test_pa112sep9-KLmodes-all.fits\n",
      "\n",
      "residual for output\\test_pa112sep9-KLmodes-all.fits is -412.77878\n",
      "\n",
      "reading data, num files:  153\n",
      "Begin align and scale images for each wavelength\n",
      "Wavelength 0.656 with index 0 has finished align and scale. Queuing for KLIP\n",
      "Total number of tasks for KLIP processing is 6\n",
      "Closing threadpool\n",
      "Derotating Images...\n",
      "Writing Images to directory C:\\Users\\willi\\Amherst\\Thesis\\Code\\diskShapers\\planetHole\\output\n",
      "wavelength collapsing reduced data of shape (b, N, wv, y, x):(1, 153, 1, 451, 451)\n"
     ]
    },
    {
     "name": "stderr",
     "output_type": "stream",
     "text": [
      "\n",
      " 71%|████████████████████████████████████████████████████████████                        | 5/7 [05:24<02:09, 64.89s/it]\u001b[A"
     ]
    },
    {
     "name": "stdout",
     "output_type": "stream",
     "text": [
      "KLIP result is saved to: output\\test_pa112sep11-KLmodes-all.fits\n",
      "result dir is output\\test_pa112sep11-KLmodes-all.fits\n",
      "grabbing output\\test_pa112sep11-KLmodes-all.fits\n",
      "\n",
      "residual for output\\test_pa112sep11-KLmodes-all.fits is -716.4333\n",
      "\n",
      "reading data, num files:  153\n",
      "Begin align and scale images for each wavelength\n",
      "Wavelength 0.656 with index 0 has finished align and scale. Queuing for KLIP\n",
      "Total number of tasks for KLIP processing is 6\n",
      "Closing threadpool\n",
      "Derotating Images...\n",
      "Writing Images to directory C:\\Users\\willi\\Amherst\\Thesis\\Code\\diskShapers\\planetHole\\output\n",
      "wavelength collapsing reduced data of shape (b, N, wv, y, x):(1, 153, 1, 451, 451)\n"
     ]
    },
    {
     "name": "stderr",
     "output_type": "stream",
     "text": [
      "\n",
      " 86%|████████████████████████████████████████████████████████████████████████            | 6/7 [06:28<01:04, 64.83s/it]\u001b[A"
     ]
    },
    {
     "name": "stdout",
     "output_type": "stream",
     "text": [
      "KLIP result is saved to: output\\test_pa112sep13-KLmodes-all.fits\n",
      "result dir is output\\test_pa112sep13-KLmodes-all.fits\n",
      "grabbing output\\test_pa112sep13-KLmodes-all.fits\n",
      "\n",
      "residual for output\\test_pa112sep13-KLmodes-all.fits is -1054.598\n",
      "\n",
      "reading data, num files:  153\n",
      "Begin align and scale images for each wavelength\n",
      "Wavelength 0.656 with index 0 has finished align and scale. Queuing for KLIP\n",
      "Total number of tasks for KLIP processing is 6\n",
      "Closing threadpool\n",
      "Derotating Images...\n",
      "Writing Images to directory C:\\Users\\willi\\Amherst\\Thesis\\Code\\diskShapers\\planetHole\\output\n",
      "wavelength collapsing reduced data of shape (b, N, wv, y, x):(1, 153, 1, 451, 451)\n"
     ]
    },
    {
     "name": "stderr",
     "output_type": "stream",
     "text": [
      "\n",
      "100%|████████████████████████████████████████████████████████████████████████████████████| 7/7 [07:33<00:00, 64.82s/it]\u001b[A\n",
      " 60%|█████████████████████████████████████████████████▊                                 | 3/5 [23:14<15:31, 465.65s/it]\n",
      "  0%|                                                                                            | 0/7 [00:00<?, ?it/s]\u001b[A"
     ]
    },
    {
     "name": "stdout",
     "output_type": "stream",
     "text": [
      "KLIP result is saved to: output\\test_pa112sep15-KLmodes-all.fits\n",
      "result dir is output\\test_pa112sep15-KLmodes-all.fits\n",
      "grabbing output\\test_pa112sep15-KLmodes-all.fits\n",
      "\n",
      "residual for output\\test_pa112sep15-KLmodes-all.fits is -1519.5176\n",
      "\n",
      "reading data, num files:  153\n",
      "Begin align and scale images for each wavelength\n",
      "Wavelength 0.656 with index 0 has finished align and scale. Queuing for KLIP\n",
      "Total number of tasks for KLIP processing is 6\n",
      "Closing threadpool\n",
      "Derotating Images...\n",
      "Writing Images to directory C:\\Users\\willi\\Amherst\\Thesis\\Code\\diskShapers\\planetHole\\output\n",
      "wavelength collapsing reduced data of shape (b, N, wv, y, x):(1, 153, 1, 451, 451)\n"
     ]
    },
    {
     "name": "stderr",
     "output_type": "stream",
     "text": [
      "\n",
      " 14%|████████████                                                                        | 1/7 [01:04<06:27, 64.63s/it]\u001b[A"
     ]
    },
    {
     "name": "stdout",
     "output_type": "stream",
     "text": [
      "KLIP result is saved to: output\\test_pa115sep3-KLmodes-all.fits\n",
      "result dir is output\\test_pa115sep3-KLmodes-all.fits\n",
      "grabbing output\\test_pa115sep3-KLmodes-all.fits\n",
      "\n",
      "residual for output\\test_pa115sep3-KLmodes-all.fits is -1093.9092\n",
      "\n",
      "reading data, num files:  153\n",
      "Begin align and scale images for each wavelength\n",
      "Wavelength 0.656 with index 0 has finished align and scale. Queuing for KLIP\n",
      "Total number of tasks for KLIP processing is 6\n",
      "Closing threadpool\n",
      "Derotating Images...\n",
      "Writing Images to directory C:\\Users\\willi\\Amherst\\Thesis\\Code\\diskShapers\\planetHole\\output\n",
      "wavelength collapsing reduced data of shape (b, N, wv, y, x):(1, 153, 1, 451, 451)\n"
     ]
    },
    {
     "name": "stderr",
     "output_type": "stream",
     "text": [
      "\n",
      " 29%|████████████████████████                                                            | 2/7 [02:09<05:24, 64.82s/it]\u001b[A"
     ]
    },
    {
     "name": "stdout",
     "output_type": "stream",
     "text": [
      "KLIP result is saved to: output\\test_pa115sep5-KLmodes-all.fits\n",
      "result dir is output\\test_pa115sep5-KLmodes-all.fits\n",
      "grabbing output\\test_pa115sep5-KLmodes-all.fits\n",
      "\n",
      "residual for output\\test_pa115sep5-KLmodes-all.fits is -1144.5371\n",
      "\n",
      "reading data, num files:  153\n",
      "Begin align and scale images for each wavelength\n",
      "Wavelength 0.656 with index 0 has finished align and scale. Queuing for KLIP\n",
      "Total number of tasks for KLIP processing is 6\n",
      "Closing threadpool\n",
      "Derotating Images...\n",
      "Writing Images to directory C:\\Users\\willi\\Amherst\\Thesis\\Code\\diskShapers\\planetHole\\output\n",
      "wavelength collapsing reduced data of shape (b, N, wv, y, x):(1, 153, 1, 451, 451)\n"
     ]
    },
    {
     "name": "stderr",
     "output_type": "stream",
     "text": [
      "\n",
      " 43%|████████████████████████████████████                                                | 3/7 [03:14<04:19, 64.79s/it]\u001b[A"
     ]
    },
    {
     "name": "stdout",
     "output_type": "stream",
     "text": [
      "KLIP result is saved to: output\\test_pa115sep7-KLmodes-all.fits\n",
      "result dir is output\\test_pa115sep7-KLmodes-all.fits\n",
      "grabbing output\\test_pa115sep7-KLmodes-all.fits\n",
      "\n",
      "residual for output\\test_pa115sep7-KLmodes-all.fits is -1090.3397\n",
      "\n",
      "reading data, num files:  153\n",
      "Begin align and scale images for each wavelength\n",
      "Wavelength 0.656 with index 0 has finished align and scale. Queuing for KLIP\n",
      "Total number of tasks for KLIP processing is 6\n",
      "Closing threadpool\n",
      "Derotating Images...\n",
      "Writing Images to directory C:\\Users\\willi\\Amherst\\Thesis\\Code\\diskShapers\\planetHole\\output\n",
      "wavelength collapsing reduced data of shape (b, N, wv, y, x):(1, 153, 1, 451, 451)\n"
     ]
    },
    {
     "name": "stderr",
     "output_type": "stream",
     "text": [
      "\n",
      " 57%|████████████████████████████████████████████████                                    | 4/7 [04:19<03:14, 64.88s/it]\u001b[A"
     ]
    },
    {
     "name": "stdout",
     "output_type": "stream",
     "text": [
      "KLIP result is saved to: output\\test_pa115sep9-KLmodes-all.fits\n",
      "result dir is output\\test_pa115sep9-KLmodes-all.fits\n",
      "grabbing output\\test_pa115sep9-KLmodes-all.fits\n",
      "\n",
      "residual for output\\test_pa115sep9-KLmodes-all.fits is -274.1828\n",
      "\n",
      "reading data, num files:  153\n",
      "Begin align and scale images for each wavelength\n",
      "Wavelength 0.656 with index 0 has finished align and scale. Queuing for KLIP\n",
      "Total number of tasks for KLIP processing is 6\n",
      "Closing threadpool\n",
      "Derotating Images...\n",
      "Writing Images to directory C:\\Users\\willi\\Amherst\\Thesis\\Code\\diskShapers\\planetHole\\output\n",
      "wavelength collapsing reduced data of shape (b, N, wv, y, x):(1, 153, 1, 451, 451)\n"
     ]
    },
    {
     "name": "stderr",
     "output_type": "stream",
     "text": [
      "\n",
      " 71%|████████████████████████████████████████████████████████████                        | 5/7 [05:23<02:09, 64.71s/it]\u001b[A"
     ]
    },
    {
     "name": "stdout",
     "output_type": "stream",
     "text": [
      "KLIP result is saved to: output\\test_pa115sep11-KLmodes-all.fits\n",
      "result dir is output\\test_pa115sep11-KLmodes-all.fits\n",
      "grabbing output\\test_pa115sep11-KLmodes-all.fits\n",
      "\n",
      "residual for output\\test_pa115sep11-KLmodes-all.fits is -646.7567\n",
      "\n",
      "reading data, num files:  153\n",
      "Begin align and scale images for each wavelength\n",
      "Wavelength 0.656 with index 0 has finished align and scale. Queuing for KLIP\n",
      "Total number of tasks for KLIP processing is 6\n",
      "Closing threadpool\n",
      "Derotating Images...\n",
      "Writing Images to directory C:\\Users\\willi\\Amherst\\Thesis\\Code\\diskShapers\\planetHole\\output\n",
      "wavelength collapsing reduced data of shape (b, N, wv, y, x):(1, 153, 1, 451, 451)\n"
     ]
    },
    {
     "name": "stderr",
     "output_type": "stream",
     "text": [
      "\n",
      " 86%|████████████████████████████████████████████████████████████████████████            | 6/7 [06:28<01:04, 64.78s/it]\u001b[A"
     ]
    },
    {
     "name": "stdout",
     "output_type": "stream",
     "text": [
      "KLIP result is saved to: output\\test_pa115sep13-KLmodes-all.fits\n",
      "result dir is output\\test_pa115sep13-KLmodes-all.fits\n",
      "grabbing output\\test_pa115sep13-KLmodes-all.fits\n",
      "\n",
      "residual for output\\test_pa115sep13-KLmodes-all.fits is -951.77454\n",
      "\n",
      "reading data, num files:  153\n",
      "Begin align and scale images for each wavelength\n",
      "Wavelength 0.656 with index 0 has finished align and scale. Queuing for KLIP\n",
      "Total number of tasks for KLIP processing is 6\n",
      "Closing threadpool\n",
      "Derotating Images...\n",
      "Writing Images to directory C:\\Users\\willi\\Amherst\\Thesis\\Code\\diskShapers\\planetHole\\output\n",
      "wavelength collapsing reduced data of shape (b, N, wv, y, x):(1, 153, 1, 451, 451)\n"
     ]
    },
    {
     "name": "stderr",
     "output_type": "stream",
     "text": [
      "\n",
      "100%|████████████████████████████████████████████████████████████████████████████████████| 7/7 [07:33<00:00, 64.83s/it]\u001b[A\n",
      " 80%|██████████████████████████████████████████████████████████████████▍                | 4/5 [30:48<07:42, 462.11s/it]\n",
      "  0%|                                                                                            | 0/7 [00:00<?, ?it/s]\u001b[A"
     ]
    },
    {
     "name": "stdout",
     "output_type": "stream",
     "text": [
      "KLIP result is saved to: output\\test_pa115sep15-KLmodes-all.fits\n",
      "result dir is output\\test_pa115sep15-KLmodes-all.fits\n",
      "grabbing output\\test_pa115sep15-KLmodes-all.fits\n",
      "\n",
      "residual for output\\test_pa115sep15-KLmodes-all.fits is -1662.4565\n",
      "\n",
      "reading data, num files:  153\n",
      "Begin align and scale images for each wavelength\n",
      "Wavelength 0.656 with index 0 has finished align and scale. Queuing for KLIP\n",
      "Total number of tasks for KLIP processing is 6\n",
      "Closing threadpool\n",
      "Derotating Images...\n",
      "Writing Images to directory C:\\Users\\willi\\Amherst\\Thesis\\Code\\diskShapers\\planetHole\\output\n",
      "wavelength collapsing reduced data of shape (b, N, wv, y, x):(1, 153, 1, 451, 451)\n"
     ]
    },
    {
     "name": "stderr",
     "output_type": "stream",
     "text": [
      "\n",
      " 14%|████████████                                                                        | 1/7 [01:05<06:31, 65.27s/it]\u001b[A"
     ]
    },
    {
     "name": "stdout",
     "output_type": "stream",
     "text": [
      "KLIP result is saved to: output\\test_pa118sep3-KLmodes-all.fits\n",
      "result dir is output\\test_pa118sep3-KLmodes-all.fits\n",
      "grabbing output\\test_pa118sep3-KLmodes-all.fits\n",
      "\n",
      "residual for output\\test_pa118sep3-KLmodes-all.fits is -1120.5308\n",
      "\n",
      "reading data, num files:  153\n",
      "Begin align and scale images for each wavelength\n",
      "Wavelength 0.656 with index 0 has finished align and scale. Queuing for KLIP\n",
      "Total number of tasks for KLIP processing is 6\n",
      "Closing threadpool\n",
      "Derotating Images...\n",
      "Writing Images to directory C:\\Users\\willi\\Amherst\\Thesis\\Code\\diskShapers\\planetHole\\output\n",
      "wavelength collapsing reduced data of shape (b, N, wv, y, x):(1, 153, 1, 451, 451)\n"
     ]
    },
    {
     "name": "stderr",
     "output_type": "stream",
     "text": [
      "\n",
      " 29%|████████████████████████                                                            | 2/7 [02:09<05:24, 64.95s/it]\u001b[A"
     ]
    },
    {
     "name": "stdout",
     "output_type": "stream",
     "text": [
      "KLIP result is saved to: output\\test_pa118sep5-KLmodes-all.fits\n",
      "result dir is output\\test_pa118sep5-KLmodes-all.fits\n",
      "grabbing output\\test_pa118sep5-KLmodes-all.fits\n",
      "\n",
      "residual for output\\test_pa118sep5-KLmodes-all.fits is -1240.3627\n",
      "\n",
      "reading data, num files:  153\n",
      "Begin align and scale images for each wavelength\n",
      "Wavelength 0.656 with index 0 has finished align and scale. Queuing for KLIP\n",
      "Total number of tasks for KLIP processing is 6\n",
      "Closing threadpool\n",
      "Derotating Images...\n",
      "Writing Images to directory C:\\Users\\willi\\Amherst\\Thesis\\Code\\diskShapers\\planetHole\\output\n",
      "wavelength collapsing reduced data of shape (b, N, wv, y, x):(1, 153, 1, 451, 451)\n"
     ]
    },
    {
     "name": "stderr",
     "output_type": "stream",
     "text": [
      "\n",
      " 43%|████████████████████████████████████                                                | 3/7 [03:14<04:19, 64.86s/it]\u001b[A"
     ]
    },
    {
     "name": "stdout",
     "output_type": "stream",
     "text": [
      "KLIP result is saved to: output\\test_pa118sep7-KLmodes-all.fits\n",
      "result dir is output\\test_pa118sep7-KLmodes-all.fits\n",
      "grabbing output\\test_pa118sep7-KLmodes-all.fits\n",
      "\n",
      "residual for output\\test_pa118sep7-KLmodes-all.fits is -1086.0251\n",
      "\n",
      "reading data, num files:  153\n",
      "Begin align and scale images for each wavelength\n",
      "Wavelength 0.656 with index 0 has finished align and scale. Queuing for KLIP\n",
      "Total number of tasks for KLIP processing is 6\n",
      "Closing threadpool\n",
      "Derotating Images...\n",
      "Writing Images to directory C:\\Users\\willi\\Amherst\\Thesis\\Code\\diskShapers\\planetHole\\output\n",
      "wavelength collapsing reduced data of shape (b, N, wv, y, x):(1, 153, 1, 451, 451)\n"
     ]
    },
    {
     "name": "stderr",
     "output_type": "stream",
     "text": [
      "\n",
      " 57%|████████████████████████████████████████████▌                                 | 4/7 [1:45:25<1:34:14, 1884.93s/it]\u001b[A"
     ]
    },
    {
     "name": "stdout",
     "output_type": "stream",
     "text": [
      "KLIP result is saved to: output\\test_pa118sep9-KLmodes-all.fits\n",
      "result dir is output\\test_pa118sep9-KLmodes-all.fits\n",
      "grabbing output\\test_pa118sep9-KLmodes-all.fits\n",
      "\n",
      "residual for output\\test_pa118sep9-KLmodes-all.fits is -336.85007\n",
      "\n",
      "reading data, num files:  153\n",
      "Begin align and scale images for each wavelength\n",
      "Wavelength 0.656 with index 0 has finished align and scale. Queuing for KLIP\n",
      "Total number of tasks for KLIP processing is 6\n",
      "Closing threadpool\n",
      "Derotating Images...\n",
      "Writing Images to directory C:\\Users\\willi\\Amherst\\Thesis\\Code\\diskShapers\\planetHole\\output\n",
      "wavelength collapsing reduced data of shape (b, N, wv, y, x):(1, 153, 1, 451, 451)\n"
     ]
    },
    {
     "name": "stderr",
     "output_type": "stream",
     "text": [
      "\n",
      " 71%|█████████████████████████████████████████████████████████▏                      | 5/7 [1:46:36<44:41, 1340.50s/it]\u001b[A"
     ]
    },
    {
     "name": "stdout",
     "output_type": "stream",
     "text": [
      "KLIP result is saved to: output\\test_pa118sep11-KLmodes-all.fits\n",
      "result dir is output\\test_pa118sep11-KLmodes-all.fits\n",
      "grabbing output\\test_pa118sep11-KLmodes-all.fits\n",
      "\n",
      "residual for output\\test_pa118sep11-KLmodes-all.fits is -697.2462\n",
      "\n",
      "reading data, num files:  153\n",
      "Begin align and scale images for each wavelength\n",
      "Wavelength 0.656 with index 0 has finished align and scale. Queuing for KLIP\n",
      "Total number of tasks for KLIP processing is 6\n",
      "Closing threadpool\n",
      "Derotating Images...\n",
      "Writing Images to directory C:\\Users\\willi\\Amherst\\Thesis\\Code\\diskShapers\\planetHole\\output\n",
      "wavelength collapsing reduced data of shape (b, N, wv, y, x):(1, 153, 1, 451, 451)\n"
     ]
    },
    {
     "name": "stderr",
     "output_type": "stream",
     "text": [
      "\n",
      " 86%|█████████████████████████████████████████████████████████████████████▍           | 6/7 [1:47:42<15:58, 958.28s/it]\u001b[A"
     ]
    },
    {
     "name": "stdout",
     "output_type": "stream",
     "text": [
      "KLIP result is saved to: output\\test_pa118sep13-KLmodes-all.fits\n",
      "result dir is output\\test_pa118sep13-KLmodes-all.fits\n",
      "grabbing output\\test_pa118sep13-KLmodes-all.fits\n",
      "\n",
      "residual for output\\test_pa118sep13-KLmodes-all.fits is -1053.2861\n",
      "\n",
      "reading data, num files:  153\n",
      "Begin align and scale images for each wavelength\n",
      "Wavelength 0.656 with index 0 has finished align and scale. Queuing for KLIP\n",
      "Total number of tasks for KLIP processing is 6\n",
      "Closing threadpool\n",
      "Derotating Images...\n",
      "Writing Images to directory C:\\Users\\willi\\Amherst\\Thesis\\Code\\diskShapers\\planetHole\\output\n",
      "wavelength collapsing reduced data of shape (b, N, wv, y, x):(1, 153, 1, 451, 451)\n"
     ]
    },
    {
     "name": "stderr",
     "output_type": "stream",
     "text": [
      "\n",
      "100%|█████████████████████████████████████████████████████████████████████████████████| 7/7 [1:48:48<00:00, 932.61s/it]\u001b[A\n",
      "100%|████████████████████████████████████████████████████████████████████████████████| 5/5 [2:19:36<00:00, 1675.38s/it]"
     ]
    },
    {
     "name": "stdout",
     "output_type": "stream",
     "text": [
      "KLIP result is saved to: output\\test_pa118sep15-KLmodes-all.fits\n",
      "result dir is output\\test_pa118sep15-KLmodes-all.fits\n",
      "grabbing output\\test_pa118sep15-KLmodes-all.fits\n",
      "\n",
      "residual for output\\test_pa118sep15-KLmodes-all.fits is -1727.4829\n",
      "\n",
      "[[-1174.77636719 -1054.27331543 -1213.85388184 -1140.3614502\n",
      "  -1264.70080566 -1337.80615234 -1430.88867188]\n",
      " [-1159.71374512 -1058.51245117 -1269.45751953  -748.41314697\n",
      "   -974.85412598 -1198.55078125 -1399.06030273]\n",
      " [-1138.67663574 -1082.27246094 -1133.64428711  -412.77877808\n",
      "   -716.43328857 -1054.59802246 -1519.51757812]\n",
      " [-1093.90917969 -1144.53710938 -1090.33972168  -274.18280029\n",
      "   -646.75671387  -951.77453613 -1662.45654297]\n",
      " [-1120.53076172 -1240.3626709  -1086.02514648  -336.85006714\n",
      "   -697.24621582 -1053.28613281 -1727.48291016]]\n"
     ]
    },
    {
     "name": "stderr",
     "output_type": "stream",
     "text": [
      "\n"
     ]
    }
   ],
   "source": [
    "pas = range(106,119,3)\n",
    "seps = range(3,17,2)\n",
    "param_space = np.zeros((len(pas), len(seps)))\n",
    "\n",
    "for i in tqdm(range(len(pas))):\n",
    "    pa = pas[i]\n",
    "    for j in tqdm(range(len(seps))):\n",
    "        sep = seps[j]\n",
    "        ph = planetHole('datum0', 'test_pa'+str(pa)+'sep'+str(sep), 'output', -1000, sep, pa,\n",
    "                        fwhm=3, ghostpath='ghost.fits', highpass=False,\n",
    "                        klipparams=[6, 3, [50]], usegaussian=True)\n",
    "        ph.run_KLIP()\n",
    "        path = str(ph.get_result(0))\n",
    "        print('grabbing '+path)\n",
    "        with fits.open(path) as img:\n",
    "            im = img[1].data[0]\n",
    "        residual = np.nansum(im[210:230,205:225])\n",
    "        print('')\n",
    "        print('residual for '+path+' is '+str(residual))\n",
    "        print('')\n",
    "        param_space[i,j] += residual\n",
    "\n",
    "print(param_space)"
   ]
  },
  {
   "cell_type": "code",
   "execution_count": 6,
   "metadata": {},
   "outputs": [
    {
     "data": {
      "text/plain": [
       "<matplotlib.colorbar.Colorbar at 0x21590762760>"
      ]
     },
     "execution_count": 6,
     "metadata": {},
     "output_type": "execute_result"
    },
    {
     "data": {
      "image/png": "[encoded data removed]",
      "text/plain": [
       "<Figure size 432x288 with 2 Axes>"
      ]
     },
     "metadata": {
      "needs_background": "light"
     },
     "output_type": "display_data"
    }
   ],
   "source": [
    "plt.imshow(param_space)\n",
    "plt.colorbar()"
   ]
  },
  {
   "cell_type": "code",
   "execution_count": 7,
   "metadata": {
    "scrolled": true
   },
   "outputs": [
    {
     "data": {
      "text/plain": [
       "['output\\\\test_pa106sep11-KLmodes-all.fits',\n",
       " 'output\\\\test_pa106sep13-KLmodes-all.fits',\n",
       " 'output\\\\test_pa106sep15-KLmodes-all.fits',\n",
       " 'output\\\\test_pa106sep3-KLmodes-all.fits',\n",
       " 'output\\\\test_pa106sep5-KLmodes-all.fits',\n",
       " 'output\\\\test_pa106sep7-KLmodes-all.fits',\n",
       " 'output\\\\test_pa106sep9-KLmodes-all.fits',\n",
       " 'output\\\\test_pa109sep11-KLmodes-all.fits',\n",
       " 'output\\\\test_pa109sep13-KLmodes-all.fits',\n",
       " 'output\\\\test_pa109sep15-KLmodes-all.fits',\n",
       " 'output\\\\test_pa109sep3-KLmodes-all.fits',\n",
       " 'output\\\\test_pa109sep5-KLmodes-all.fits',\n",
       " 'output\\\\test_pa109sep7-KLmodes-all.fits',\n",
       " 'output\\\\test_pa109sep9-KLmodes-all.fits',\n",
       " 'output\\\\test_pa112sep11-KLmodes-all.fits',\n",
       " 'output\\\\test_pa112sep13-KLmodes-all.fits',\n",
       " 'output\\\\test_pa112sep15-KLmodes-all.fits',\n",
       " 'output\\\\test_pa112sep3-KLmodes-all.fits',\n",
       " 'output\\\\test_pa112sep5-KLmodes-all.fits',\n",
       " 'output\\\\test_pa112sep7-KLmodes-all.fits',\n",
       " 'output\\\\test_pa112sep9-KLmodes-all.fits',\n",
       " 'output\\\\test_pa115sep11-KLmodes-all.fits',\n",
       " 'output\\\\test_pa115sep13-KLmodes-all.fits',\n",
       " 'output\\\\test_pa115sep15-KLmodes-all.fits',\n",
       " 'output\\\\test_pa115sep3-KLmodes-all.fits',\n",
       " 'output\\\\test_pa115sep5-KLmodes-all.fits',\n",
       " 'output\\\\test_pa115sep7-KLmodes-all.fits',\n",
       " 'output\\\\test_pa115sep9-KLmodes-all.fits',\n",
       " 'output\\\\test_pa118sep11-KLmodes-all.fits',\n",
       " 'output\\\\test_pa118sep13-KLmodes-all.fits',\n",
       " 'output\\\\test_pa118sep15-KLmodes-all.fits',\n",
       " 'output\\\\test_pa118sep3-KLmodes-all.fits',\n",
       " 'output\\\\test_pa118sep5-KLmodes-all.fits',\n",
       " 'output\\\\test_pa118sep7-KLmodes-all.fits',\n",
       " 'output\\\\test_pa118sep9-KLmodes-all.fits']"
      ]
     },
     "execution_count": 7,
     "metadata": {},
     "output_type": "execute_result"
    }
   ],
   "source": [
    "paths = glob.glob('output/*pa1*.fits')"
   ]
  },
  {
   "cell_type": "code",
   "execution_count": 16,
   "metadata": {},
   "outputs": [],
   "source": [
    "sortedpaths = paths[3:7] + paths[0:3] + paths[10:13] + paths[6:10] + paths[17:20] + paths[13:17] + paths[24:27] + paths[20:24] + paths[31:35] + paths[27:31]"
   ]
  },
  {
   "cell_type": "code",
   "execution_count": 18,
   "metadata": {},
   "outputs": [
    {
     "data": {
      "text/plain": [
       "['output\\\\test_pa106sep3-KLmodes-all.fits',\n",
       " 'output\\\\test_pa106sep5-KLmodes-all.fits',\n",
       " 'output\\\\test_pa106sep7-KLmodes-all.fits',\n",
       " 'output\\\\test_pa106sep9-KLmodes-all.fits',\n",
       " 'output\\\\test_pa106sep11-KLmodes-all.fits',\n",
       " 'output\\\\test_pa106sep13-KLmodes-all.fits',\n",
       " 'output\\\\test_pa106sep15-KLmodes-all.fits',\n",
       " 'output\\\\test_pa109sep3-KLmodes-all.fits',\n",
       " 'output\\\\test_pa109sep5-KLmodes-all.fits',\n",
       " 'output\\\\test_pa109sep7-KLmodes-all.fits',\n",
       " 'output\\\\test_pa106sep9-KLmodes-all.fits',\n",
       " 'output\\\\test_pa109sep11-KLmodes-all.fits',\n",
       " 'output\\\\test_pa109sep13-KLmodes-all.fits',\n",
       " 'output\\\\test_pa109sep15-KLmodes-all.fits',\n",
       " 'output\\\\test_pa112sep3-KLmodes-all.fits',\n",
       " 'output\\\\test_pa112sep5-KLmodes-all.fits',\n",
       " 'output\\\\test_pa112sep7-KLmodes-all.fits',\n",
       " 'output\\\\test_pa109sep9-KLmodes-all.fits',\n",
       " 'output\\\\test_pa112sep11-KLmodes-all.fits',\n",
       " 'output\\\\test_pa112sep13-KLmodes-all.fits',\n",
       " 'output\\\\test_pa112sep15-KLmodes-all.fits',\n",
       " 'output\\\\test_pa115sep3-KLmodes-all.fits',\n",
       " 'output\\\\test_pa115sep5-KLmodes-all.fits',\n",
       " 'output\\\\test_pa115sep7-KLmodes-all.fits',\n",
       " 'output\\\\test_pa112sep9-KLmodes-all.fits',\n",
       " 'output\\\\test_pa115sep11-KLmodes-all.fits',\n",
       " 'output\\\\test_pa115sep13-KLmodes-all.fits',\n",
       " 'output\\\\test_pa115sep15-KLmodes-all.fits',\n",
       " 'output\\\\test_pa118sep3-KLmodes-all.fits',\n",
       " 'output\\\\test_pa118sep5-KLmodes-all.fits',\n",
       " 'output\\\\test_pa118sep7-KLmodes-all.fits',\n",
       " 'output\\\\test_pa118sep9-KLmodes-all.fits',\n",
       " 'output\\\\test_pa115sep9-KLmodes-all.fits',\n",
       " 'output\\\\test_pa118sep11-KLmodes-all.fits',\n",
       " 'output\\\\test_pa118sep13-KLmodes-all.fits',\n",
       " 'output\\\\test_pa118sep15-KLmodes-all.fits']"
      ]
     },
     "execution_count": 18,
     "metadata": {},
     "output_type": "execute_result"
    }
   ],
   "source": [
    "sortedpaths"
   ]
  },
  {
   "cell_type": "code",
   "execution_count": 17,
   "metadata": {
    "scrolled": true
   },
   "outputs": [
    {
     "data": {
      "image/png": "[encoded data removed]",
      "text/plain": [
       "<Figure size 1152x1152 with 36 Axes>"
      ]
     },
     "metadata": {
      "needs_background": "light"
     },
     "output_type": "display_data"
    }
   ],
   "source": [
    "fig1, axs = plt.subplots(5, 7, figsize=(16,16))\n",
    "axs = trim_axs(axs, len(sortedpaths))\n",
    "\n",
    "fig1.suptitle('Constraining negative planet injection position')\n",
    "axs[28].set_xlabel('x-pixels from index 210-230')\n",
    "axs[28].set_ylabel('y-pixels from index 205-225')\n",
    "\n",
    "for ax, i in zip(axs, range(len(sortedpaths))):\n",
    "    path = sortedpaths[i]\n",
    "    pref, suf = path.split('_')\n",
    "    params, kl, suff = suf.split('-')\n",
    "    ax.set_title(params)\n",
    "    with fits.open(path) as img:\n",
    "        im = img[1].data[0]\n",
    "        stamp = im[210:230,205:225]\n",
    "    axis = ax.imshow(stamp, origin='lower', vmin=-400, vmax=400)\n",
    "\n",
    "cbar_ax = fig1.add_axes([0.93, 0.15, 0.01, 0.7])\n",
    "fig1.colorbar(axis, cax=cbar_ax)\n",
    "plt.savefig('negplanet_position_iteration')"
   ]
  },
  {
   "cell_type": "code",
   "execution_count": 24,
   "metadata": {},
   "outputs": [],
   "source": [
    "import pickle\n",
    "filehandler = open('neginj_pos_paramspace', 'wb') \n",
    "pickle.dump(param_space, filehandler)"
   ]
  },
  {
   "cell_type": "code",
   "execution_count": null,
   "metadata": {},
   "outputs": [],
   "source": []
  }
 ],
 "metadata": {
  "kernelspec": {
   "display_name": "Python 3",
   "language": "python",
   "name": "python3"
  },
  "language_info": {
   "codemirror_mode": {
    "name": "ipython",
    "version": 3
   },
   "file_extension": ".py",
   "mimetype": "text/x-python",
   "name": "python",
   "nbconvert_exporter": "python",
   "pygments_lexer": "ipython3",
   "version": "3.8.3"
  }
 },
 "nbformat": 4,
 "nbformat_minor": 4
}
