{
 "cells": [
  {
   "cell_type": "markdown",
   "metadata": {},
   "source": [
    "Welcome. This is a chill notebook for using BKA. We'll help you FM your companion and run an MCMC to fit the cleanest FM we can manage. Let's get to it."
   ]
  },
  {
   "cell_type": "markdown",
   "metadata": {},
   "source": [
    "First we need to make a forward model and KLIP our data."
   ]
  },
  {
   "cell_type": "code",
   "execution_count": null,
   "metadata": {},
   "outputs": [],
   "source": [
    "from forwardModel import forwardModel"
   ]
  },
  {
   "cell_type": "code",
   "execution_count": null,
   "metadata": {},
   "outputs": [],
   "source": [
    "# dataset\n",
    "date = '27Apr18'\n",
    "prefixes = ['Ha', 'Cont']\n",
    "filepaths = []\n",
    "outputdirs = []\n",
    "for pref in prefixes:\n",
    "    filepath = f'data\\\\{date}\\\\{pref}\\\\*fits'\n",
    "    outputdir = f'output\\\\{date}\\\\{pref}'\n",
    "    filepaths.append(filepath)\n",
    "    outputdirs.append(outputdir)\n",
    "# parameters\n",
    "KLmode = 20\n",
    "sep = 5\n",
    "pa = 55\n",
    "contrast = 1e-2\n",
    "an = [0,24]\n",
    "move = 1\n",
    "scale = 1\n",
    "PSFpath = 'doGaussian'\n",
    "FWHM = 3\n",
    "cores = 4\n",
    "highpass = 1"
   ]
  },
  {
   "cell_type": "code",
   "execution_count": null,
   "metadata": {
    "scrolled": true
   },
   "outputs": [],
   "source": [
    "# run\n",
    "for i in range(len(filepaths)):\n",
    "    filepath = filepaths[i]\n",
    "    outputdir = outputdirs[i]\n",
    "    prefix = prefixes[i]\n",
    "    fm = forwardModel(filepath, outputdir, prefix, KLmode, sep, pa, contrast, an, move, scale, PSFpath=PSFpath, FWHM=FWHM, cores=cores, highpass=highpass)\n",
    "    fm.prep_KLIP()\n",
    "    fm.run_KLIP()"
   ]
  },
  {
   "cell_type": "code",
   "execution_count": null,
   "metadata": {},
   "outputs": [],
   "source": [
    "# we need to import some packages for this step\n",
    "import os\n",
    "import time\n",
    "import pickle\n",
    "import numpy as np\n",
    "import astropy.io.fits as fits\n",
    "import pyklip.fitpsf as fitpsf\n",
    "import matplotlib.pylab as plt\n",
    "import pyklip.instruments.MagAO as MagAO\n",
    "output_prefix = os.path.join(outputdir, prefix)\n",
    "\n",
    "def create_circular_mask(h, w, center=None, radius=None, leq=False):\n",
    "\n",
    "    if center is None: # use the middle of the image\n",
    "        center = (int(w/2), int(h/2))\n",
    "    if radius is None: # use the smallest distance between the center and image walls\n",
    "        radius = min(center[0], center[1], w-center[0], h-center[1])\n",
    "\n",
    "    Y, X = np.ogrid[:h, :w]\n",
    "    dist_from_center = np.sqrt((X - center[0])**2 + (Y-center[1])**2)\n",
    "    if leq is False:\n",
    "        return dist_from_center >= radius\n",
    "    else:\n",
    "        return dist_from_center <= radius\n",
    "\n",
    "def domask(img, inn=70, outt=180):\n",
    "    outermask = create_circular_mask(451, 451, radius=outt, leq=True)\n",
    "    img[~outermask] = np.nanmedian(img)\n",
    "    mask = create_circular_mask(451, 451, radius=inn)\n",
    "    masked_img = img.copy()\n",
    "    masked_img[~mask] = np.nanmedian(img)\n",
    "    return masked_img\n",
    "\n",
    "img = fits.getdata(output_prefix + \"-klipped-KLmodes-all.fits\")[0]\n",
    "\n",
    "plt.imshow(domask(img, inn=an[0]), origin='lower', vmin=-np.nanmax(img), cmap='cubehelix')\n",
    "plt.xlim(200,250)\n",
    "plt.ylim(200,250)\n",
    "plt.colorbar()"
   ]
  },
  {
   "cell_type": "markdown",
   "metadata": {},
   "source": [
    "Next, we'll run the MCMC to fit the FM to our KLIPed data"
   ]
  },
  {
   "cell_type": "code",
   "execution_count": null,
   "metadata": {},
   "outputs": [],
   "source": [
    "# we need to import some packages for this step\n",
    "import os\n",
    "import time\n",
    "import pickle\n",
    "import numpy as np\n",
    "import astropy.io.fits as fits\n",
    "import pyklip.fitpsf as fitpsf\n",
    "import matplotlib.pylab as plt\n",
    "import pyklip.instruments.MagAO as MagAO"
   ]
  },
  {
   "cell_type": "markdown",
   "metadata": {},
   "source": [
    "You'll need to edit the variables in the cell below"
   ]
  },
  {
   "cell_type": "code",
   "execution_count": null,
   "metadata": {},
   "outputs": [],
   "source": [
    "# Your variables here\n",
    "# some basics to point towards your model\n",
    "sep = sep # only needs a guess\n",
    "pa = pa # guess here too\n",
    "length = 2.5 # guess here also\n",
    "\n",
    "# set some boundaries for your MCMC\n",
    "x_range = 2.5  # in pixels, anywhere from 1.5-5 is reasonable\n",
    "y_range = 2.5  # same as x\n",
    "flux_range = 10# [0.01,5] # flux can vary by an order of magnitude\n",
    "corr_len_range = 3 # between 0.3 and 30\n",
    "\n",
    "# and finally some parameters for the MCMC run\n",
    "nwalkers = 8\n",
    "\n",
    "nburn = 1000\n",
    "nsteps = 10000\n",
    "\n",
    "# output to save chain to\n",
    "pklout = outputdir+'\\\\'+prefix+'_chain.pkl'"
   ]
  },
  {
   "cell_type": "markdown",
   "metadata": {},
   "source": [
    "These next two chunks of code will setup and run the MCMC. At the end it'll print out some details of the fit."
   ]
  },
  {
   "cell_type": "code",
   "execution_count": null,
   "metadata": {},
   "outputs": [],
   "source": [
    "output_prefix = os.path.join(outputdir, prefix)\n",
    "\n",
    "# get FM frame\n",
    "fm_frame = fits.getdata(output_prefix + \"-fmpsf-KLmodes-all.fits\")[0]\n",
    "fm_header = fits.getheader(output_prefix + \"-fmpsf-KLmodes-all.fits\")\n",
    "fm_centx = fm_header['PSFCENTX']\n",
    "fm_centy = fm_header['PSFCENTY']\n",
    "\n",
    "# get data_stamp frame\n",
    "data_frame = fits.getdata(output_prefix + \"-klipped-KLmodes-all.fits\")[0]\n",
    "data_header = fits.getheader(output_prefix + \"-klipped-KLmodes-all.fits\")\n",
    "data_centx = data_header['PSFCENTX']\n",
    "data_centy = data_header['PSFCENTY']\n",
    "\n",
    "# get initial guesses. Should be in the header but aren't?\n",
    "guesssep = sep\n",
    "guesspa = pa\n",
    "\n",
    "# create FM Astrometry object - 13 is fitboxsize\n",
    "fma = fitpsf.FMAstrometry(guesssep, guesspa, 13)\n",
    "\n",
    "# generate FM stamp\n",
    "# padding should be greater than 0 so we don't run into interpolation problems\n",
    "fma.generate_fm_stamp(fm_frame, [fm_centx, fm_centy], padding=5)\n",
    "\n",
    "# generate data_stamp stamp\n",
    "# note that dr=4 means we are using a 4 pixel wide annulus to sample the noise for each pixel\n",
    "# exclusion_radius excludes all pixels less than that distance from the estimated location of the planet\n",
    "fma.generate_data_stamp(data_frame, [data_centx, data_centy], dr=4, exclusion_radius=6)\n",
    "\n",
    "# set kernel, no read noise\n",
    "corr_len_guess = length\n",
    "corr_len_label = r\"$l$\"\n",
    "fma.set_kernel(\"matern32\", [corr_len_guess], [corr_len_label])\n",
    "\n",
    "# set bounds based on given boundaries\n",
    "fma.set_bounds(x_range, y_range, flux_range, [corr_len_range])"
   ]
  },
  {
   "cell_type": "code",
   "execution_count": null,
   "metadata": {},
   "outputs": [],
   "source": [
    "t0 = time.time()\n",
    "\n",
    "# run MCMC fit\n",
    "fma.fit_astrometry(nwalkers=nwalkers, nburn=nburn, nsteps=nsteps, numthreads=4, chain_output=pklout)\n",
    "\n",
    "t1 = time.time()\n",
    "print(\"time taken: \", str(np.round(t1-t0)), \" seconds\")"
   ]
  },
  {
   "cell_type": "code",
   "execution_count": null,
   "metadata": {},
   "outputs": [],
   "source": [
    "fma.propogate_errs(star_center_err=0.1, platescale=MagAO.MagAOData.lenslet_scale*1000, platescale_err=0.000015, pa_offset=-0.59, pa_uncertainty=0.3)\n",
    "\n",
    "\n",
    "# show what the raw uncertainites are on the location of the planet\n",
    "print(\"\\nPlanet Raw RA offset is {0} +/- {1}, Raw Dec offset is {2} +/- {3}\".format(fma.raw_RA_offset.bestfit, fma.raw_RA_offset.error,\n",
    "                                                                                    fma.raw_Dec_offset.bestfit, fma.raw_Dec_offset.error))\n",
    "\n",
    "# Full error budget included\n",
    "print(\"Planet RA offset is at {0} with a 1-sigma uncertainity of {1}\".format(fma.RA_offset.bestfit, fma.RA_offset.error))\n",
    "print(\"Planet Dec offset is at {0} with a 1-sigma uncertainity of {1}\".format(fma.Dec_offset.bestfit, fma.Dec_offset.error))\n",
    "\n",
    "# Propogate errors into separation and PA space\n",
    "print(\"Planet separation is at {0} with a 1-sigma uncertainity of {1}\".format(fma.sep.bestfit, fma.sep.error))\n",
    "print(\"Planet PA at {0} with a 1-sigma uncertainity of {1}\".format(fma.PA.bestfit, fma.PA.error))\n",
    "\n",
    "print(\"Flux is {0} with a 1-sigma uncertainty of {1}\" .format(fma.raw_flux.bestfit, fma.raw_flux.error))"
   ]
  },
  {
   "cell_type": "code",
   "execution_count": null,
   "metadata": {},
   "outputs": [],
   "source": [
    "import pandas as pd\n",
    "\n",
    "export_data = pd.DataFrame(columns=['B'], index=['Sep (mas)', 'Sep err (mas)', 'PA (deg)', 'PA err (deg)', 'RAoff (mas)', 'RAoff err (mas)', 'Decoff (mas)', 'Decoff err (mas)', 'Sep raw', 'Sep err raw', 'PA raw', 'PA err raw', 'Raw flux (contrast)', 'Raw flux err (contrast)', 'KL', 'movement', 'annuli'])\n",
    "export_data['B'] = [fma.sep.bestfit,fma.sep.error,fma.PA.bestfit,fma.PA.error,fma.RA_offset.bestfit,\n",
    "                    fma.RA_offset.error,fma.Dec_offset.bestfit,fma.Dec_offset.error,fma.raw_sep.bestfit,\n",
    "                    fma.raw_sep.error,fma.raw_PA.bestfit,fma.raw_PA.error,fma.raw_flux.bestfit,\n",
    "                    fma.raw_flux.error,KLmode,move,an]\n",
    "\n",
    "export_data['B'].to_clipboard()"
   ]
  },
  {
   "cell_type": "markdown",
   "metadata": {},
   "source": [
    "Now onto plotting! at the bottom of each of the next cells there is a commented savefig statement that you can uncomment when you are satisfied with how your figures look"
   ]
  },
  {
   "cell_type": "code",
   "execution_count": null,
   "metadata": {},
   "outputs": [],
   "source": [
    "# We load in the results of the MCMC from the compressed pickle file\n",
    "# the pyklip code has generated for us\n",
    "\n",
    "chain_info = pickle.load(open(pklout, \"rb\"))\n",
    "\n",
    "# First, let's plot the chains\n",
    "\n",
    "fig=plt.figure(figsize=(10,8))\n",
    "# plot RA offset\n",
    "ax1 = fig.add_subplot(411)\n",
    "ax1.plot(chain_info[:,:,0].T, '-', color='k', alpha=0.3)\n",
    "ax1.set_xlabel(\"Steps\")\n",
    "ax1.set_ylabel(r\"$\\Delta$ RA\")\n",
    "\n",
    "# plot Dec offset\n",
    "ax2 = fig.add_subplot(412)\n",
    "ax2.plot(chain_info[:,:,1].T, '-', color='k', alpha=0.3)\n",
    "ax2.set_xlabel(\"Steps\")\n",
    "ax2.set_ylabel(r\"$\\Delta$ Dec\")\n",
    "\n",
    "# plot flux scaling\n",
    "ax3 = fig.add_subplot(413)\n",
    "ax3.plot(chain_info[:,:,2].T, '-', color='k', alpha=0.3)\n",
    "ax3.set_xlabel(\"Steps\")\n",
    "ax3.set_ylabel(r\"$\\alpha$\")\n",
    "\n",
    "# plot hyperparameters.. we only have one for this example: the correlation length\n",
    "ax4 = fig.add_subplot(414)\n",
    "ax4.plot(chain_info[:,:,3].T, '-', color='k', alpha=0.3)\n",
    "ax4.set_xlabel(\"Steps\")\n",
    "ax4.set_ylabel(r\"$l$\")\n",
    "\n",
    "plt.savefig(outputdir+\"/\"+prefix+\"_BKA_chain.png\")"
   ]
  },
  {
   "cell_type": "code",
   "execution_count": null,
   "metadata": {},
   "outputs": [],
   "source": [
    "# the other two figures are easier to make, because there are methods\n",
    "# already written\n",
    "\n",
    "# Second is the corner plot\n",
    "fig = fma.make_corner_plot()\n",
    "plt.savefig(outputdir+\"/\"+prefix+\"_BKA_corner.png\", transparent=True, dpi=300)"
   ]
  },
  {
   "cell_type": "code",
   "execution_count": null,
   "metadata": {},
   "outputs": [],
   "source": [
    "# And third is the model comparison and residuals\n",
    "fig = fma.best_fit_and_residuals()\n",
    "plt.savefig(outputdir+\"/\"+prefix+\"_BKA_residuals.png\", transparent=True, dpi=300)"
   ]
  },
  {
   "cell_type": "markdown",
   "metadata": {},
   "source": [
    "Congratulations! You've reached the written end of this notebook, but there's so much more out there. I believe in you."
   ]
  },
  {
   "cell_type": "code",
   "execution_count": null,
   "metadata": {},
   "outputs": [],
   "source": [
    "if prefix == 'Cont':\n",
    "    cont = fits.getdata(outputdir+'\\\\Cont-klipped-KLmodes-all.fits')[0]\n",
    "    line = fits.getdata(outputdir.replace(prefix,'Ha')+'\\\\Ha-klipped-KLmodes-all.fits')[0]\n",
    "else:\n",
    "    line = fits.getdata(outputdir+'\\\\Ha-klipped-KLmodes-all.fits')[0]\n",
    "    cont = fits.getdata(outputdir.replace(prefix,'Cont')+'\\\\Cont-klipped-KLmodes-all.fits')[0]\n",
    "\n",
    "line[np.isnan(line)] = np.nanmedian(line)\n",
    "cont[np.isnan(cont)] = np.nanmedian(cont)\n",
    "\n",
    "inner = 0\n",
    "\n",
    "line = domask(line, inn=inner)\n",
    "cont = domask(cont, inn=inner)\n",
    "\n",
    "scale = 1.0\n",
    "\n",
    "n2 = 40\n",
    "\n",
    "import matplotlib\n",
    "import matplotlib.pylab as plt\n",
    "from mpl_toolkits.axes_grid1 import make_axes_locatable\n",
    "from astropy.visualization import LogStretch, SinhStretch\n",
    "from astropy.visualization.mpl_normalize import ImageNormalize\n",
    "\n",
    "fig = plt.figure(figsize=(12, 4))\n",
    "\n",
    "# make residual map\n",
    "residual_map = (line)-(cont*scale)\n",
    "residual_map = residual_map/np.nanstd(residual_map)\n",
    "\n",
    "# normalize all images to same scale\n",
    "colornorm = matplotlib.colors.Normalize(vmin=np.nanpercentile(line, 0.03),\n",
    "                                        vmax=np.nanpercentile(line, 99.7))\n",
    "\n",
    "# plot the data_stamp\n",
    "ax1 = fig.add_subplot(131)\n",
    "im1 = ax1.imshow(line, interpolation='nearest', cmap='magma', norm=ImageNormalize(stretch=SinhStretch()))\n",
    "ax1.invert_yaxis()\n",
    "ax1.set_title(r\"H$\\alpha$, $\\lambda=0.656$\")\n",
    "ax1.set_xlabel(\"X (pixels)\")\n",
    "ax1.set_ylabel(\"Y (pixels)\")\n",
    "ax1.set_xlim(200,250)\n",
    "ax1.set_ylim(200,250)\n",
    "divider = make_axes_locatable(ax1)\n",
    "cax1 = divider.append_axes(\"right\", size=\"5%\", pad=0.05)\n",
    "cb1 = fig.colorbar(im1, cax=cax1)#, ticks=[-500, 0, 500])\n",
    "\n",
    "ax2 = fig.add_subplot(132)\n",
    "im2 = ax2.imshow(cont, interpolation='nearest', cmap='magma', norm=ImageNormalize(stretch=SinhStretch()))\n",
    "ax2.invert_yaxis()\n",
    "ax2.set(yticklabels=[])\n",
    "ax2.set_title(r\"Continuum, $\\lambda=0.658$\")\n",
    "ax2.set_xlabel(\"X (pixels)\")\n",
    "ax2.set_xlim(200,250)\n",
    "ax2.set_ylim(200,250)\n",
    "divider = make_axes_locatable(ax2)\n",
    "cax2 = divider.append_axes(\"right\", size=\"5%\", pad=0.05)\n",
    "cb2 = fig.colorbar(im1, cax=cax2)#, ticks=[-500, 0, 500])\n",
    "\n",
    "ax3 = fig.add_subplot(133)\n",
    "im3 = ax3.imshow(residual_map, interpolation='nearest', cmap='magma', norm=ImageNormalize(stretch=SinhStretch()), vmin=-n2, vmax=n2)\n",
    "ax3.invert_yaxis()\n",
    "ax3.set(yticklabels=[])\n",
    "ax3.set_title(r\"SDI (H$\\alpha$ - scaled Cont)\")\n",
    "ax3.set_xlabel(\"X (pixels)\")\n",
    "ax3.set_xlim(200,250)\n",
    "ax3.set_ylim(200,250)\n",
    "\n",
    "divider = make_axes_locatable(ax3)\n",
    "cax3 = divider.append_axes(\"right\", size=\"5%\", pad=0.05)\n",
    "cb3 = fig.colorbar(im3, cax=cax3, ticks=[-n2, 0, n2])\n",
    "cb3.set_label(\"Counts\")\n",
    "\n",
    "plt.savefig(outputdir+'\\\\SDI-hp1.png', transparent=True, dpi=300)"
   ]
  },
  {
   "cell_type": "code",
   "execution_count": null,
   "metadata": {},
   "outputs": [],
   "source": [
    "plt.imshow(residual_map/np.std(residual_map), vmin=0, vmax=50)\n",
    "plt.colorbar()\n",
    "plt.xlim(200,250)\n",
    "plt.ylim(200,250)\n",
    "#plt.savefig('2018_snrmap.png')"
   ]
  },
  {
   "cell_type": "code",
   "execution_count": null,
   "metadata": {},
   "outputs": [],
   "source": []
  }
 ],
 "metadata": {
  "kernelspec": {
   "display_name": "Python 3",
   "language": "python",
   "name": "python3"
  },
  "language_info": {
   "codemirror_mode": {
    "name": "ipython",
    "version": 3
   },
   "file_extension": ".py",
   "mimetype": "text/x-python",
   "name": "python",
   "nbconvert_exporter": "python",
   "pygments_lexer": "ipython3",
   "version": "3.8.5"
  }
 },
 "nbformat": 4,
 "nbformat_minor": 4
}
