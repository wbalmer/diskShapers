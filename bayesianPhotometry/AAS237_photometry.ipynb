{
 "cells": [
  {
   "cell_type": "code",
   "execution_count": 3,
   "metadata": {},
   "outputs": [],
   "source": [
    "import numpy as np\n",
    "import pandas as pd\n",
    "import matplotlib.pyplot as plt"
   ]
  },
  {
   "cell_type": "code",
   "execution_count": 4,
   "metadata": {},
   "outputs": [
    {
     "data": {
      "text/html": [
       "<div>\n",
       "<style scoped>\n",
       "    .dataframe tbody tr th:only-of-type {\n",
       "        vertical-align: middle;\n",
       "    }\n",
       "\n",
       "    .dataframe tbody tr th {\n",
       "        vertical-align: top;\n",
       "    }\n",
       "\n",
       "    .dataframe thead th {\n",
       "        text-align: right;\n",
       "    }\n",
       "</style>\n",
       "<table border=\"1\" class=\"dataframe\">\n",
       "  <thead>\n",
       "    <tr style=\"text-align: right;\">\n",
       "      <th></th>\n",
       "      <th>Epoch</th>\n",
       "      <th>Line Counts</th>\n",
       "      <th>Cont Counts</th>\n",
       "      <th>Scale</th>\n",
       "      <th>Exposure (sec)</th>\n",
       "      <th>Line Ghost Counts</th>\n",
       "      <th>Cont Ghost Counts</th>\n",
       "      <th>Line BKA (scaled to input psf, so this is already in \"ghost\" units)</th>\n",
       "      <th>Line BKA err</th>\n",
       "      <th>Companion Cont Alpha</th>\n",
       "      <th>Cont Alpha err</th>\n",
       "      <th>Star ratio</th>\n",
       "    </tr>\n",
       "  </thead>\n",
       "  <tbody>\n",
       "    <tr>\n",
       "      <th>0</th>\n",
       "      <td>56393</td>\n",
       "      <td>282080.0</td>\n",
       "      <td>3.267880e+05</td>\n",
       "      <td>0.9</td>\n",
       "      <td>2.27</td>\n",
       "      <td>52</td>\n",
       "      <td>54.5</td>\n",
       "      <td>58.249847</td>\n",
       "      <td>5.312587</td>\n",
       "      <td>0.0</td>\n",
       "      <td>0.0</td>\n",
       "      <td>0.863190</td>\n",
       "    </tr>\n",
       "    <tr>\n",
       "      <th>1</th>\n",
       "      <td>56755</td>\n",
       "      <td>568561.0</td>\n",
       "      <td>5.064620e+05</td>\n",
       "      <td>1.2</td>\n",
       "      <td>2.27</td>\n",
       "      <td>62</td>\n",
       "      <td>50.0</td>\n",
       "      <td>43.998208</td>\n",
       "      <td>11.731801</td>\n",
       "      <td>0.0</td>\n",
       "      <td>0.0</td>\n",
       "      <td>1.122613</td>\n",
       "    </tr>\n",
       "    <tr>\n",
       "      <th>3</th>\n",
       "      <td>57157</td>\n",
       "      <td>488362.0</td>\n",
       "      <td>4.290620e+05</td>\n",
       "      <td>1.2</td>\n",
       "      <td>2.27</td>\n",
       "      <td>56</td>\n",
       "      <td>46.5</td>\n",
       "      <td>64.610126</td>\n",
       "      <td>8.243337</td>\n",
       "      <td>0.0</td>\n",
       "      <td>0.0</td>\n",
       "      <td>1.138208</td>\n",
       "    </tr>\n",
       "    <tr>\n",
       "      <th>4</th>\n",
       "      <td>57158</td>\n",
       "      <td>1027017.0</td>\n",
       "      <td>9.287127e+05</td>\n",
       "      <td>1.2</td>\n",
       "      <td>2.27</td>\n",
       "      <td>110</td>\n",
       "      <td>90.0</td>\n",
       "      <td>39.175037</td>\n",
       "      <td>12.768668</td>\n",
       "      <td>0.0</td>\n",
       "      <td>0.0</td>\n",
       "      <td>1.105850</td>\n",
       "    </tr>\n",
       "    <tr>\n",
       "      <th>5</th>\n",
       "      <td>57160</td>\n",
       "      <td>16683996.0</td>\n",
       "      <td>1.013874e+07</td>\n",
       "      <td>1.8</td>\n",
       "      <td>30.00</td>\n",
       "      <td>2300</td>\n",
       "      <td>1950.0</td>\n",
       "      <td>47.516873</td>\n",
       "      <td>6.459086</td>\n",
       "      <td>0.0</td>\n",
       "      <td>0.0</td>\n",
       "      <td>1.645568</td>\n",
       "    </tr>\n",
       "    <tr>\n",
       "      <th>7</th>\n",
       "      <td>58235</td>\n",
       "      <td>969732.9</td>\n",
       "      <td>8.096610e+05</td>\n",
       "      <td>1.3</td>\n",
       "      <td>5.00</td>\n",
       "      <td>200</td>\n",
       "      <td>150.0</td>\n",
       "      <td>49.941582</td>\n",
       "      <td>13.012786</td>\n",
       "      <td>0.0</td>\n",
       "      <td>0.0</td>\n",
       "      <td>1.197702</td>\n",
       "    </tr>\n",
       "  </tbody>\n",
       "</table>\n",
       "</div>"
      ],
      "text/plain": [
       "   Epoch  Line Counts   Cont Counts  Scale  Exposure (sec)  Line Ghost Counts  \\\n",
       "0  56393     282080.0  3.267880e+05    0.9            2.27                 52   \n",
       "1  56755     568561.0  5.064620e+05    1.2            2.27                 62   \n",
       "3  57157     488362.0  4.290620e+05    1.2            2.27                 56   \n",
       "4  57158    1027017.0  9.287127e+05    1.2            2.27                110   \n",
       "5  57160   16683996.0  1.013874e+07    1.8           30.00               2300   \n",
       "7  58235     969732.9  8.096610e+05    1.3            5.00                200   \n",
       "\n",
       "   Cont Ghost Counts  \\\n",
       "0               54.5   \n",
       "1               50.0   \n",
       "3               46.5   \n",
       "4               90.0   \n",
       "5             1950.0   \n",
       "7              150.0   \n",
       "\n",
       "   Line BKA (scaled to input psf, so this is already in \"ghost\" units)  \\\n",
       "0                                          58.249847                     \n",
       "1                                          43.998208                     \n",
       "3                                          64.610126                     \n",
       "4                                          39.175037                     \n",
       "5                                          47.516873                     \n",
       "7                                          49.941582                     \n",
       "\n",
       "   Line BKA err  Companion Cont Alpha  Cont Alpha err  Star ratio  \n",
       "0      5.312587                   0.0             0.0    0.863190  \n",
       "1     11.731801                   0.0             0.0    1.122613  \n",
       "3      8.243337                   0.0             0.0    1.138208  \n",
       "4     12.768668                   0.0             0.0    1.105850  \n",
       "5      6.459086                   0.0             0.0    1.645568  \n",
       "7     13.012786                   0.0             0.0    1.197702  "
      ]
     },
     "execution_count": 4,
     "metadata": {},
     "output_type": "execute_result"
    }
   ],
   "source": [
    "data = pd.read_csv('HD142527A_ATV.csv')\n",
    "data = data[data.index != 2]\n",
    "data = data[data.index != 6]\n",
    "data[np.isnan(data)==True] = 0\n",
    "data['Star ratio'] = data['Line Counts']/data['Cont Counts']\n",
    "data"
   ]
  },
  {
   "cell_type": "code",
   "execution_count": 5,
   "metadata": {},
   "outputs": [],
   "source": [
    "line_ghost_to_star = 185.25\n",
    "line_g_t_s_err = 14.58\n",
    "counts_err_est = 60"
   ]
  },
  {
   "cell_type": "code",
   "execution_count": 10,
   "metadata": {},
   "outputs": [
    {
     "data": {
      "text/plain": [
       "<ErrorbarContainer object of 3 artists>"
      ]
     },
     "execution_count": 10,
     "metadata": {},
     "output_type": "execute_result"
    },
    {
     "data": {
      "image/png": "[encoded data removed]",
      "text/plain": [
       "<Figure size 432x288 with 1 Axes>"
      ]
     },
     "metadata": {
      "needs_background": "light"
     },
     "output_type": "display_data"
    }
   ],
   "source": [
    "x = data['Epoch']\n",
    "\n",
    "# alpha * ghost peak = planet flux\n",
    "# contrast = (alpha*ghostp)/(star continuum flux)\n",
    "pflux = data['Line BKA (scaled to input psf, so this is already in \"ghost\" units)']*data['Line Ghost Counts']\n",
    "contrast = pflux/data['Cont Counts']\n",
    "\n",
    "plt.errorbar(x, contrast, ls='none', marker='x')"
   ]
  },
  {
   "cell_type": "code",
   "execution_count": null,
   "metadata": {},
   "outputs": [],
   "source": []
  },
  {
   "cell_type": "code",
   "execution_count": 7,
   "metadata": {},
   "outputs": [
    {
     "data": {
      "text/plain": [
       "[<matplotlib.lines.Line2D at 0x2612d040400>]"
      ]
     },
     "execution_count": 7,
     "metadata": {},
     "output_type": "execute_result"
    },
    {
     "data": {
      "image/png": "[encoded data removed]",
      "text/plain": [
       "<Figure size 432x288 with 1 Axes>"
      ]
     },
     "metadata": {
      "needs_background": "light"
     },
     "output_type": "display_data"
    }
   ],
   "source": [
    "plt.plot(x, data['Line Counts'])"
   ]
  },
  {
   "cell_type": "code",
   "execution_count": null,
   "metadata": {},
   "outputs": [],
   "source": []
  },
  {
   "cell_type": "code",
   "execution_count": null,
   "metadata": {},
   "outputs": [],
   "source": []
  },
  {
   "cell_type": "code",
   "execution_count": null,
   "metadata": {},
   "outputs": [],
   "source": []
  },
  {
   "cell_type": "code",
   "execution_count": null,
   "metadata": {},
   "outputs": [],
   "source": []
  },
  {
   "cell_type": "code",
   "execution_count": 5,
   "metadata": {},
   "outputs": [
    {
     "data": {
      "image/png": "[encoded data removed]",
      "text/plain": [
       "<Figure size 432x288 with 1 Axes>"
      ]
     },
     "metadata": {
      "needs_background": "light"
     },
     "output_type": "display_data"
    }
   ],
   "source": [
    "x = data['Epoch']\n",
    "\n",
    "pcounts = data['Line Ghost Counts']/data['Line BKA'] # try peak instead \n",
    "dpcounts = np.sqrt((counts_err_est/data['Line Ghost Counts'])**2 + (data['Line BKA err']/data['Line BKA']))*pcounts\n",
    "\n",
    "pflux = pcounts/data['Exposure (sec)']\n",
    "dpf = dpcounts/data['Exposure (sec)']\n",
    "\n",
    "sflux = data['Line Counts']/data['Exposure (sec)']\n",
    "dsf = counts_err_est/data['Exposure (sec)']\n",
    "\n",
    "contrast = pflux/sflux\n",
    "dcont = np.sqrt((dsf/sflux)**2 + (dpf/pflux)**2)*contrast\n",
    "y = contrast*data['Star ratio']\n",
    "dy = dcont*data['Star ratio']\n",
    "\n",
    "\n",
    "# y = np.log10(y)\n",
    "# dy = 0.434*(dy/y)\n",
    "# dy = abs(dy)\n",
    "\n",
    "plt.errorbar(x=x, y=y, yerr=dy, marker='D', alpha=0.5, ls='none')\n",
    "plt.yscale('log')\n",
    "#plt.ylim(15, 9)"
   ]
  },
  {
   "cell_type": "code",
   "execution_count": 33,
   "metadata": {},
   "outputs": [
    {
     "data": {
      "image/png": "[encoded data removed]",
      "text/plain": [
       "<Figure size 432x288 with 1 Axes>"
      ]
     },
     "metadata": {
      "needs_background": "light"
     },
     "output_type": "display_data"
    }
   ],
   "source": [
    "plt.errorbar(x, pflux, yerr=dpf)\n",
    "plt.errorbar(x, sflux, yerr=dsf)\n",
    "plt.errorbar(x, 0.5*data['Cont Counts']/data['Exposure (sec)'], yerr=dsf)\n",
    "plt.yscale('log')\n",
    "plt.ylabel('Counts/sec')\n",
    "plt.xlabel('Epoch (MJD)')\n",
    "plt.savefig('counts_lc.png', transparent=True)"
   ]
  },
  {
   "cell_type": "code",
   "execution_count": 34,
   "metadata": {},
   "outputs": [
    {
     "data": {
      "text/plain": [
       "Text(0, 0.5, 'Counts/sec')"
      ]
     },
     "execution_count": 34,
     "metadata": {},
     "output_type": "execute_result"
    },
    {
     "data": {
      "image/png": "[encoded data removed]",
      "text/plain": [
       "<Figure size 432x288 with 1 Axes>"
      ]
     },
     "metadata": {
      "needs_background": "light"
     },
     "output_type": "display_data"
    }
   ],
   "source": [
    "plt.plot(data.Epoch, sflux)\n",
    "plt.plot(data.Epoch, data['Cont Counts']/data['Exposure (sec)'])\n",
    "plt.yscale('log')\n",
    "plt.ylabel('Counts/sec')"
   ]
  },
  {
   "cell_type": "code",
   "execution_count": 35,
   "metadata": {},
   "outputs": [
    {
     "data": {
      "text/plain": [
       "[<matplotlib.lines.Line2D at 0x204dd5a69a0>]"
      ]
     },
     "execution_count": 35,
     "metadata": {},
     "output_type": "execute_result"
    },
    {
     "data": {
      "image/png": "[encoded data removed]",
      "text/plain": [
       "<Figure size 432x288 with 1 Axes>"
      ]
     },
     "metadata": {
      "needs_background": "light"
     },
     "output_type": "display_data"
    }
   ],
   "source": [
    "plt.plot(data.Epoch, sflux/(data['Cont Counts']/data['Exposure (sec)']))"
   ]
  },
  {
   "cell_type": "code",
   "execution_count": null,
   "metadata": {},
   "outputs": [],
   "source": []
  }
 ],
 "metadata": {
  "kernelspec": {
   "display_name": "Python 3",
   "language": "python",
   "name": "python3"
  },
  "language_info": {
   "codemirror_mode": {
    "name": "ipython",
    "version": 3
   },
   "file_extension": ".py",
   "mimetype": "text/x-python",
   "name": "python",
   "nbconvert_exporter": "python",
   "pygments_lexer": "ipython3",
   "version": "3.8.5"
  }
 },
 "nbformat": 4,
 "nbformat_minor": 4
}
