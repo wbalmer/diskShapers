{
 "cells": [
  {
   "cell_type": "code",
   "execution_count": 1,
   "metadata": {},
   "outputs": [],
   "source": [
    "# import statements\n",
    "import os\n",
    "import glob\n",
    "import datetime\n",
    "import numpy as np\n",
    "import matplotlib.pyplot as plt\n",
    "import matplotlib.colors as col\n",
    "from astropy.io import fits\n",
    "from scipy import ndimage\n",
    "from photutils import centroid_sources, centroid_com, centroid_1dg, centroid_2dg\n",
    "from calibFuncs import *\n",
    "\n",
    "from astropy.visualization import LogStretch\n",
    "from astropy.visualization.mpl_normalize import ImageNormalize"
   ]
  },
  {
   "cell_type": "markdown",
   "metadata": {},
   "source": [
    "1. Gather Clio data\n",
    "2. Outline of reduction script:\n",
    "3. linearity correction\n",
    "4. bad pixel correction\n",
    "5. sky subtraction via nodding pairs\n",
    "6. coarse registration, then fine registration via IDL"
   ]
  },
  {
   "cell_type": "code",
   "execution_count": 2,
   "metadata": {},
   "outputs": [],
   "source": [
    "root = os.getcwd()\n",
    "datadir = 'C:/Users/willi/Dropbox (Amherst College)/Research/Follette-Lab/Thesis-data/William/trapezium_data/clio_astro'"
   ]
  },
  {
   "cell_type": "code",
   "execution_count": 3,
   "metadata": {},
   "outputs": [],
   "source": [
    "badpixelpath = datadir + '/../../Clio2_reduction_files'"
   ]
  },
  {
   "cell_type": "code",
   "execution_count": 4,
   "metadata": {},
   "outputs": [],
   "source": [
    "# if old data intermediate data is around, delete \n",
    "for im in glob.glob(datadir+'\\\\*_LBP*.fit*'):\n",
    "    os.remove(im)"
   ]
  },
  {
   "cell_type": "code",
   "execution_count": 5,
   "metadata": {
    "scrolled": false
   },
   "outputs": [
    {
     "name": "stderr",
     "output_type": "stream",
     "text": [
      "100%|██████████████████████████████████████████████████████████████████████████████████| 40/40 [00:12<00:00,  3.29it/s]\n",
      "100%|██████████████████████████████████████████████████████████████████████████████████| 40/40 [00:12<00:00,  3.27it/s]\n",
      "100%|████████████████████████████████████████████████████████████████████████████████| 118/118 [02:14<00:00,  1.14s/it]\n",
      "100%|██████████████████████████████████████████████████████████████████████████████████| 18/18 [00:11<00:00,  1.52it/s]\n",
      "100%|██████████████████████████████████████████████████████████████████████████████████| 36/36 [00:11<00:00,  3.26it/s]\n",
      "100%|██████████████████████████████████████████████████████████████████████████████████| 33/33 [00:09<00:00,  3.35it/s]\n",
      "100%|████████████████████████████████████████████████████████████████████████████████| 100/100 [00:32<00:00,  3.12it/s]\n",
      "100%|████████████████████████████████████████████████████████████████████████████████| 180/180 [00:55<00:00,  3.25it/s]\n",
      "100%|████████████████████████████████████████████████████████████████████████████████| 131/131 [01:08<00:00,  1.92it/s]\n",
      "100%|████████████████████████████████████████████████████████████████████████████████| 238/238 [01:13<00:00,  3.22it/s]\n",
      "100%|██████████████████████████████████████████████████████████████████████████████████| 88/88 [00:27<00:00,  3.20it/s]\n",
      "0it [00:00, ?it/s]\n",
      "0it [00:00, ?it/s]\n",
      "0it [00:00, ?it/s]\n",
      "100%|██████████████████████████████████████████████████████████████████████████████████| 20/20 [00:06<00:00,  3.22it/s]\n",
      "100%|██████████████████████████████████████████████████████████████████████████████████| 14/14 [00:52<00:00,  3.78s/it]\n",
      "100%|██████████████████████████████████████████████████████████████████████████████████| 20/20 [01:40<00:00,  5.05s/it]\n",
      "100%|██████████████████████████████████████████████████████████████████████████████████| 20/20 [01:42<00:00,  5.11s/it]\n",
      "100%|██████████████████████████████████████████████████████████████████████████████████| 20/20 [01:41<00:00,  5.09s/it]\n",
      "100%|██████████████████████████████████████████████████████████████████████████████████| 20/20 [01:40<00:00,  5.02s/it]\n",
      "100%|██████████████████████████████████████████████████████████████████████████████████| 20/20 [01:41<00:00,  5.10s/it]\n",
      "100%|██████████████████████████████████████████████████████████████████████████████████| 20/20 [01:41<00:00,  5.06s/it]\n",
      "100%|██████████████████████████████████████████████████████████████████████████████████| 20/20 [01:39<00:00,  4.99s/it]\n",
      "100%|██████████████████████████████████████████████████████████████████████████████████| 20/20 [01:37<00:00,  4.85s/it]\n",
      "100%|██████████████████████████████████████████████████████████████████████████████████| 20/20 [01:12<00:00,  3.64s/it]\n",
      "  0%|                                                                                           | 0/22 [00:00<?, ?it/s]"
     ]
    },
    {
     "name": "stdout",
     "output_type": "stream",
     "text": [
      "putting files in an existing folder.\n"
     ]
    },
    {
     "name": "stderr",
     "output_type": "stream",
     "text": [
      "100%|██████████████████████████████████████████████████████████████████████████████████| 22/22 [15:07<00:00, 41.23s/it]"
     ]
    },
    {
     "name": "stdout",
     "output_type": "stream",
     "text": [
      "Done reducing the files\n"
     ]
    },
    {
     "name": "stderr",
     "output_type": "stream",
     "text": [
      "\n"
     ]
    }
   ],
   "source": [
    "runClioReduction(datadir, badpixelpath)"
   ]
  },
  {
   "cell_type": "code",
   "execution_count": 20,
   "metadata": {},
   "outputs": [],
   "source": [
    "datadir = 'C:/Users/willi/Dropbox (Amherst College)/Research/Follette-Lab/Thesis-data/William/trapezium_data/clio_astro/reduced'\n",
    "reduced_datalists, darks = sortData(datadir, filesdeep='')"
   ]
  },
  {
   "cell_type": "code",
   "execution_count": null,
   "metadata": {},
   "outputs": [],
   "source": [
    "## TESTING ##"
   ]
  },
  {
   "cell_type": "code",
   "execution_count": 29,
   "metadata": {},
   "outputs": [],
   "source": [
    "def clioCoadd(reduced_data, savepath):\n",
    "    '''\n",
    "    coadds reduced clio data\n",
    "    '''\n",
    "    if os.path.exists(savepath) is False:\n",
    "        os.mkdir(savepath)\n",
    "        print('made dir: '+savepath)\n",
    "    for imlist in tqdm.tqdm(reduced_data):\n",
    "        im1 = imlist[0]\n",
    "        im1data = fits.getdata(im1)\n",
    "\n",
    "        # gather info on the nods, make dictionaries to hold data\n",
    "        nods = []\n",
    "        nod_dict = {}\n",
    "        nod_cubes = {}\n",
    "        nod_meds = {}\n",
    "        img_dict = {}\n",
    "\n",
    "        for im in imlist:\n",
    "            imgdata = fits.getdata(im)\n",
    "            # this is to match a header to the final nod subtracted image\n",
    "            # assumes that each image will sum to a unique value (ok assumption I think)\n",
    "            img_dict[np.nansum(imgdata)] = im\n",
    "            # this is to determine the nod from the header\n",
    "            hdr = fits.getheader(im)\n",
    "            nod_dict[im] = hdr['BEAM']\n",
    "            if hdr['BEAM'] not in nods:\n",
    "                nods.append(hdr['BEAM'])\n",
    "\n",
    "        for nod in nods:\n",
    "            ims = [key for (key, value) in nod_dict.items() if value == nod]\n",
    "            nod_cube = np.zeros((len(ims), im1data.shape[0], im1data.shape[1]))\n",
    "            for i in range(len(ims)):\n",
    "                im = ims[i]\n",
    "                imdata = fits.getdata(im)\n",
    "                # add image to cube\n",
    "                nod_cube[i] = imdata\n",
    "            # add nod_cube to dictionary for later\n",
    "            nod_cubes[nod] = nod_cube\n",
    "            nod_meds[nod] = np.nanmedian(nod_cube, axis=0)\n",
    "\n",
    "        for nod in nods:\n",
    "            nod_cube = nod_cubes[nod]\n",
    "            nod_coadd = np.nansum(nod_cube, axis=0)\n",
    "            orig_str = img_dict[np.nansum(nod_cube[0])]\n",
    "            new_str = orig_str.replace('.fit', '_COADD.fit')\n",
    "            new_str = savepath+'\\\\'+new_str.split('\\\\')[-1]\n",
    "            fits.writeto(new_str, nod_coadd, hdr, overwrite=True)"
   ]
  },
  {
   "cell_type": "code",
   "execution_count": 30,
   "metadata": {},
   "outputs": [
    {
     "name": "stderr",
     "output_type": "stream",
     "text": [
      "100%|██████████████████████████████████████████████████████████████████████████████████| 22/22 [02:26<00:00,  6.65s/it]\n"
     ]
    }
   ],
   "source": [
    "clioCoadd(reduced_datalists, datadir+'\\\\coadds')"
   ]
  },
  {
   "cell_type": "code",
   "execution_count": null,
   "metadata": {},
   "outputs": [],
   "source": []
  }
 ],
 "metadata": {
  "kernelspec": {
   "display_name": "Python 3",
   "language": "python",
   "name": "python3"
  },
  "language_info": {
   "codemirror_mode": {
    "name": "ipython",
    "version": 3
   },
   "file_extension": ".py",
   "mimetype": "text/x-python",
   "name": "python",
   "nbconvert_exporter": "python",
   "pygments_lexer": "ipython3",
   "version": "3.8.5"
  }
 },
 "nbformat": 4,
 "nbformat_minor": 4
}
