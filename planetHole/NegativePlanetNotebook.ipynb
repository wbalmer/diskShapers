{
 "cells": [
  {
   "cell_type": "code",
   "execution_count": 1,
   "metadata": {},
   "outputs": [],
   "source": [
    "from planetHole import planetHole"
   ]
  },
  {
   "cell_type": "code",
   "execution_count": 2,
   "metadata": {},
   "outputs": [],
   "source": [
    "import matplotlib.pyplot as plt\n",
    "import numpy as np\n",
    "from astropy.io import fits\n",
    "import glob\n",
    "from astropy.visualization import LogStretch, AsinhStretch\n",
    "from astropy.visualization.mpl_normalize import ImageNormalize\n",
    "import pickle"
   ]
  },
  {
   "cell_type": "code",
   "execution_count": 50,
   "metadata": {},
   "outputs": [],
   "source": [
    "# progress bars\n",
    "from tqdm.notebook import tqdm_notebook as tqdm"
   ]
  },
  {
   "cell_type": "code",
   "execution_count": 5,
   "metadata": {},
   "outputs": [
    {
     "name": "stdout",
     "output_type": "stream",
     "text": [
      "reading data, num files:  153\n",
      "Begin align and scale images for each wavelength\n",
      "Wavelength 0.656 with index 0 has finished align and scale. Queuing for KLIP\n",
      "Total number of tasks for KLIP processing is 6\n",
      "Closing threadpool\n",
      "Derotating Images...\n",
      "Writing Images to directory C:\\Users\\willi\\Amherst\\Thesis\\Code\\diskShapers\\planetHole\\output\n",
      "wavelength collapsing reduced data of shape (b, N, wv, y, x):(1, 153, 1, 451, 451)\n",
      "KLIP result is saved to: output\\test_pa0sep0-KLmodes-all.fits\n",
      "result dir is output\\test_pa0sep0-KLmodes-all.fits\n"
     ]
    }
   ],
   "source": [
    "# doing zero injection reduction to find rough pos to start flux parameter exploration\n",
    "ph = planetHole('../forwardModel/data/18May15/Ha', 'test_pa'+str(0)+'sep'+str(0), 'output', 0, 10, 110,\n",
    "                fwhm=4.49, ghostpath='ghost.fits', highpass=False,\n",
    "                klipparams=[6, 4, [20]], usegaussian=True)\n",
    "ph.run_KLIP()\n",
    "path = str(ph.get_result(2))"
   ]
  },
  {
   "cell_type": "code",
   "execution_count": 6,
   "metadata": {},
   "outputs": [
    {
     "name": "stdout",
     "output_type": "stream",
     "text": [
      "grabbing output/test_pa0sep0-KLmodes-all.fits\n",
      "\n",
      "residual for output\\test_pa0sep0-KLmodes-all.fits is -7056.1455\n",
      "\n"
     ]
    },
    {
     "data": {
      "image/png": "[encoded data removed]",
      "text/plain": [
       "<Figure size 432x288 with 1 Axes>"
      ]
     },
     "metadata": {
      "needs_background": "light"
     },
     "output_type": "display_data"
    }
   ],
   "source": [
    "print('grabbing '+'output/test_pa0sep0-KLmodes-all.fits')\n",
    "with fits.open(path) as img:\n",
    "    im = img[1].data[0]\n",
    "    plt.imshow(im[210:250,210:250], origin='lower')\n",
    "residual = np.sum(im[210:230,205:225])\n",
    "print('')\n",
    "print('residual for '+path+' is '+str(residual))\n",
    "print('')"
   ]
  },
  {
   "cell_type": "code",
   "execution_count": 62,
   "metadata": {},
   "outputs": [
    {
     "data": {
      "text/plain": [
       "9"
      ]
     },
     "execution_count": 62,
     "metadata": {},
     "output_type": "execute_result"
    }
   ],
   "source": [
    "fluxes = np.arange(-450,-900,-50)\n",
    "len(fluxes)"
   ]
  },
  {
   "cell_type": "code",
   "execution_count": 63,
   "metadata": {
    "scrolled": true
   },
   "outputs": [
    {
     "name": "stdout",
     "output_type": "stream",
     "text": [
      "[-450 -500 -550 -600 -650 -700 -750 -800 -850]\n"
     ]
    },
    {
     "data": {
      "application/vnd.jupyter.widget-view+json": {
       "model_id": "486e0526ad91436d91aa57d0c95414f2",
       "version_major": 2,
       "version_minor": 0
      },
      "text/plain": [
       "HBox(children=(HTML(value=''), FloatProgress(value=0.0, max=9.0), HTML(value='')))"
      ]
     },
     "metadata": {},
     "output_type": "display_data"
    },
    {
     "name": "stdout",
     "output_type": "stream",
     "text": [
      "reading data, num files:  153\n",
      "Begin align and scale images for each wavelength\n",
      "Wavelength 0.656 with index 0 has finished align and scale. Queuing for KLIP\n",
      "Total number of tasks for KLIP processing is 6\n",
      "Closing threadpool\n",
      "Derotating Images...\n",
      "Writing Images to directory C:\\Users\\willi\\Amherst\\Thesis\\Code\\diskShapers\\planetHole\\output\n",
      "wavelength collapsing reduced data of shape (b, N, wv, y, x):(1, 153, 1, 451, 451)\n",
      "KLIP result is saved to: output\\test_flux-450-KLmodes-all.fits\n",
      "result dir is output\\test_flux-450-KLmodes-all.fits\n",
      "grabbing output\\test_flux-450-KLmodes-all.fits\n",
      "\n",
      "residual for output\\test_flux-450-KLmodes-all.fits is 1759415.4\n",
      "\n",
      "reading data, num files:  153\n",
      "Begin align and scale images for each wavelength\n",
      "Wavelength 0.656 with index 0 has finished align and scale. Queuing for KLIP\n",
      "Total number of tasks for KLIP processing is 6\n",
      "Closing threadpool\n",
      "Derotating Images...\n",
      "Writing Images to directory C:\\Users\\willi\\Amherst\\Thesis\\Code\\diskShapers\\planetHole\\output\n",
      "wavelength collapsing reduced data of shape (b, N, wv, y, x):(1, 153, 1, 451, 451)\n",
      "KLIP result is saved to: output\\test_flux-500-KLmodes-all.fits\n",
      "result dir is output\\test_flux-500-KLmodes-all.fits\n",
      "grabbing output\\test_flux-500-KLmodes-all.fits\n",
      "\n",
      "residual for output\\test_flux-500-KLmodes-all.fits is 1649059.1\n",
      "\n",
      "reading data, num files:  153\n",
      "Begin align and scale images for each wavelength\n",
      "Wavelength 0.656 with index 0 has finished align and scale. Queuing for KLIP\n",
      "Total number of tasks for KLIP processing is 6\n",
      "Closing threadpool\n",
      "Derotating Images...\n",
      "Writing Images to directory C:\\Users\\willi\\Amherst\\Thesis\\Code\\diskShapers\\planetHole\\output\n",
      "wavelength collapsing reduced data of shape (b, N, wv, y, x):(1, 153, 1, 451, 451)\n",
      "KLIP result is saved to: output\\test_flux-550-KLmodes-all.fits\n",
      "result dir is output\\test_flux-550-KLmodes-all.fits\n",
      "grabbing output\\test_flux-550-KLmodes-all.fits\n",
      "\n",
      "residual for output\\test_flux-550-KLmodes-all.fits is 1547436.5\n",
      "\n",
      "reading data, num files:  153\n",
      "Begin align and scale images for each wavelength\n",
      "Wavelength 0.656 with index 0 has finished align and scale. Queuing for KLIP\n",
      "Total number of tasks for KLIP processing is 6\n",
      "Closing threadpool\n",
      "Derotating Images...\n",
      "Writing Images to directory C:\\Users\\willi\\Amherst\\Thesis\\Code\\diskShapers\\planetHole\\output\n",
      "wavelength collapsing reduced data of shape (b, N, wv, y, x):(1, 153, 1, 451, 451)\n",
      "KLIP result is saved to: output\\test_flux-600-KLmodes-all.fits\n",
      "result dir is output\\test_flux-600-KLmodes-all.fits\n",
      "grabbing output\\test_flux-600-KLmodes-all.fits\n",
      "\n",
      "residual for output\\test_flux-600-KLmodes-all.fits is 1451857.9\n",
      "\n",
      "reading data, num files:  153\n",
      "Begin align and scale images for each wavelength\n",
      "Wavelength 0.656 with index 0 has finished align and scale. Queuing for KLIP\n",
      "Total number of tasks for KLIP processing is 6\n",
      "Closing threadpool\n",
      "Derotating Images...\n",
      "Writing Images to directory C:\\Users\\willi\\Amherst\\Thesis\\Code\\diskShapers\\planetHole\\output\n",
      "wavelength collapsing reduced data of shape (b, N, wv, y, x):(1, 153, 1, 451, 451)\n",
      "KLIP result is saved to: output\\test_flux-650-KLmodes-all.fits\n",
      "result dir is output\\test_flux-650-KLmodes-all.fits\n",
      "grabbing output\\test_flux-650-KLmodes-all.fits\n",
      "\n",
      "residual for output\\test_flux-650-KLmodes-all.fits is 1405005.2\n",
      "\n",
      "reading data, num files:  153\n",
      "Begin align and scale images for each wavelength\n",
      "Wavelength 0.656 with index 0 has finished align and scale. Queuing for KLIP\n",
      "Total number of tasks for KLIP processing is 6\n",
      "Closing threadpool\n",
      "Derotating Images...\n",
      "Writing Images to directory C:\\Users\\willi\\Amherst\\Thesis\\Code\\diskShapers\\planetHole\\output\n",
      "wavelength collapsing reduced data of shape (b, N, wv, y, x):(1, 153, 1, 451, 451)\n",
      "KLIP result is saved to: output\\test_flux-700-KLmodes-all.fits\n",
      "result dir is output\\test_flux-700-KLmodes-all.fits\n",
      "grabbing output\\test_flux-700-KLmodes-all.fits\n",
      "\n",
      "residual for output\\test_flux-700-KLmodes-all.fits is 1355157.2\n",
      "\n",
      "reading data, num files:  153\n",
      "Begin align and scale images for each wavelength\n",
      "Wavelength 0.656 with index 0 has finished align and scale. Queuing for KLIP\n",
      "Total number of tasks for KLIP processing is 6\n",
      "Closing threadpool\n",
      "Derotating Images...\n",
      "Writing Images to directory C:\\Users\\willi\\Amherst\\Thesis\\Code\\diskShapers\\planetHole\\output\n",
      "wavelength collapsing reduced data of shape (b, N, wv, y, x):(1, 153, 1, 451, 451)\n",
      "KLIP result is saved to: output\\test_flux-750-KLmodes-all.fits\n",
      "result dir is output\\test_flux-750-KLmodes-all.fits\n",
      "grabbing output\\test_flux-750-KLmodes-all.fits\n",
      "\n",
      "residual for output\\test_flux-750-KLmodes-all.fits is 1322956.6\n",
      "\n",
      "reading data, num files:  153\n",
      "Begin align and scale images for each wavelength\n",
      "Wavelength 0.656 with index 0 has finished align and scale. Queuing for KLIP\n",
      "Total number of tasks for KLIP processing is 6\n",
      "Closing threadpool\n",
      "Derotating Images...\n",
      "Writing Images to directory C:\\Users\\willi\\Amherst\\Thesis\\Code\\diskShapers\\planetHole\\output\n",
      "wavelength collapsing reduced data of shape (b, N, wv, y, x):(1, 153, 1, 451, 451)\n",
      "KLIP result is saved to: output\\test_flux-800-KLmodes-all.fits\n",
      "result dir is output\\test_flux-800-KLmodes-all.fits\n",
      "grabbing output\\test_flux-800-KLmodes-all.fits\n",
      "\n",
      "residual for output\\test_flux-800-KLmodes-all.fits is 1294972.8\n",
      "\n",
      "reading data, num files:  153\n",
      "Begin align and scale images for each wavelength\n",
      "Wavelength 0.656 with index 0 has finished align and scale. Queuing for KLIP\n",
      "Total number of tasks for KLIP processing is 6\n",
      "Closing threadpool\n",
      "Derotating Images...\n",
      "Writing Images to directory C:\\Users\\willi\\Amherst\\Thesis\\Code\\diskShapers\\planetHole\\output\n",
      "wavelength collapsing reduced data of shape (b, N, wv, y, x):(1, 153, 1, 451, 451)\n",
      "KLIP result is saved to: output\\test_flux-850-KLmodes-all.fits\n",
      "result dir is output\\test_flux-850-KLmodes-all.fits\n",
      "grabbing output\\test_flux-850-KLmodes-all.fits\n",
      "\n",
      "residual for output\\test_flux-850-KLmodes-all.fits is 1285550.1\n",
      "\n",
      "\n"
     ]
    }
   ],
   "source": [
    "# do flux parameter exploration\n",
    "print(fluxes)\n",
    "flux_resids = np.zeros(len(fluxes))\n",
    "for i in tqdm(range(len(fluxes))):\n",
    "    flux = fluxes[i]\n",
    "    ph = planetHole('datum0', 'test_flux'+str(flux), 'output', flux, 9.66, 110.3,\n",
    "                    fwhm=3, ghostpath='ghost.fits', highpass=False,\n",
    "                    klipparams=[6, 4, [20]], usegaussian=True)\n",
    "    ph.run_KLIP()\n",
    "    path = str(ph.get_result(2))\n",
    "    print('grabbing '+path)\n",
    "    with fits.open(path) as img:\n",
    "        im = img[1].data[0]\n",
    "    residual = np.nansum(im[210:230,205:225]**2)\n",
    "    print('')\n",
    "    print('residual for '+path+' is '+str(residual))\n",
    "    print('')\n",
    "    flux_resids[i] += residual\n",
    "    "
   ]
  },
  {
   "cell_type": "code",
   "execution_count": 73,
   "metadata": {},
   "outputs": [
    {
     "data": {
      "text/plain": [
       "['output\\\\test_flux-450-KLmodes-all.fits',\n",
       " 'output\\\\test_flux-500-KLmodes-all.fits',\n",
       " 'output\\\\test_flux-550-KLmodes-all.fits',\n",
       " 'output\\\\test_flux-600-KLmodes-all.fits',\n",
       " 'output\\\\test_flux-650-KLmodes-all.fits',\n",
       " 'output\\\\test_flux-700-KLmodes-all.fits',\n",
       " 'output\\\\test_flux-750-KLmodes-all.fits',\n",
       " 'output\\\\test_flux-800-KLmodes-all.fits',\n",
       " 'output\\\\test_flux-850-KLmodes-all.fits']"
      ]
     },
     "execution_count": 73,
     "metadata": {},
     "output_type": "execute_result"
    }
   ],
   "source": [
    "paths = glob.glob('output/test_flux*.fits')\n",
    "# paths = [paths[6]] + paths[0:6]\n",
    "paths"
   ]
  },
  {
   "cell_type": "code",
   "execution_count": 74,
   "metadata": {},
   "outputs": [],
   "source": [
    "def trim_axs(axs, N):\n",
    "    \"\"\"conform the axs list to have correct length\"\"\"\n",
    "    axs = axs.flat\n",
    "    for ax in axs[N:]:\n",
    "        ax.remove()\n",
    "    return axs[:N]"
   ]
  },
  {
   "cell_type": "code",
   "execution_count": 77,
   "metadata": {},
   "outputs": [
    {
     "data": {
      "image/png": "[encoded data removed]",
      "text/plain": [
       "<Figure size 1152x576 with 19 Axes>"
      ]
     },
     "metadata": {
      "needs_background": "light"
     },
     "output_type": "display_data"
    }
   ],
   "source": [
    "fig1, axs = plt.subplots(2, 9, figsize=(16,8))\n",
    "axs = trim_axs(axs, 2*len(fluxes))\n",
    "\n",
    "fig1.suptitle('Constraining negative planet injection flux')\n",
    "axs[0].set_xlabel('X (pix)')\n",
    "axs[0].set_ylabel('Y (pix)')\n",
    "\n",
    "axs[7].set_xlabel('Residuals')\n",
    "\n",
    "fluxes2 = fluxes.tolist()\n",
    "\n",
    "for ax, i in zip(axs, range(len(axs))):\n",
    "    if i < len(paths):\n",
    "        path = paths[i]\n",
    "        flux = fluxes2[i]\n",
    "        ax.set_title('%s (counts)' % str(flux))\n",
    "        with fits.open(path) as img:\n",
    "            im = img[1].data[0]\n",
    "            stamp = im[210:230,205:225]\n",
    "            axis = ax.imshow(stamp, origin='lower', norm=ImageNormalize(stamp, stretch=AsinhStretch(), vmin=-0.9*np.nanmax(stamp), vmax=0.9*np.nanmax(stamp)), cmap='cubehelix')\n",
    "    else:\n",
    "        j = i-(int(len(axs)/2))\n",
    "        path = paths[j]\n",
    "        flux = fluxes2[j]\n",
    "        with fits.open(path) as img:\n",
    "            im = img[1].data[0]\n",
    "            stamp = im[210:230,205:225]\n",
    "            vals = stamp.flatten()\n",
    "            ax.hist(vals, density=True, color='xkcd:light rose')\n",
    "            ax.axvline(x=np.nanmedian(vals), color='xkcd:rose', linestyle='dashed', linewidth=2)\n",
    "            \n",
    "        if i > len(paths):\n",
    "            ax.get_yaxis().set_visible(False)\n",
    "\n",
    "cbar_ax = fig1.add_axes([0.93, 0.15, 0.01, 0.7])\n",
    "fig1.colorbar(axis, cax=cbar_ax)\n",
    "plt.savefig('negativeplanet_flux_fine.png', dpi=200)"
   ]
  },
  {
   "cell_type": "code",
   "execution_count": 72,
   "metadata": {},
   "outputs": [
    {
     "data": {
      "image/png": "[encoded data removed]",
      "text/plain": [
       "<Figure size 360x360 with 1 Axes>"
      ]
     },
     "metadata": {
      "needs_background": "light"
     },
     "output_type": "display_data"
    }
   ],
   "source": [
    "plt.figure(figsize=(5,5))\n",
    "plt.plot(fluxes, flux_resids)\n",
    "plt.xlabel('Negative planet injected flux (counts)')\n",
    "# plt.xlim(-950,-1250)\n",
    "plt.ylabel('Sum of residual stamp')\n",
    "plt.savefig('sumvsflux.png', dpi=200)"
   ]
  },
  {
   "cell_type": "code",
   "execution_count": 22,
   "metadata": {
    "collapsed": true,
    "jupyter": {
     "outputs_hidden": true
    }
   },
   "outputs": [
    {
     "name": "stderr",
     "output_type": "stream",
     "text": [
      "  0%|                                                                                            | 0/2 [00:00<?, ?it/s]"
     ]
    },
    {
     "name": "stdout",
     "output_type": "stream",
     "text": [
      "reading data, num files:  153\n",
      "Begin align and scale images for each wavelength\n",
      "Wavelength 0.656 with index 0 has finished align and scale. Queuing for KLIP\n",
      "Total number of tasks for KLIP processing is 6\n",
      "Closing threadpool\n",
      "Derotating Images...\n",
      "Writing Images to directory C:\\Users\\willi\\Amherst\\Thesis\\Code\\diskShapers\\planetHole\\output\n",
      "wavelength collapsing reduced data of shape (b, N, wv, y, x):(3, 153, 1, 451, 451)\n",
      "KLIP result is saved to: output\\test_pa109sep9-KLmodes-all.fits\n",
      "result dir is output\\test_pa109sep9-KLmodes-all.fits\n",
      "grabbing output\\test_pa109sep9-KLmodes-all.fits\n",
      "\n",
      "residual for output\\test_pa109sep9-KLmodes-all.fits is -748.41315\n",
      "\n",
      "reading data, num files:  153\n",
      "Begin align and scale images for each wavelength\n",
      "Wavelength 0.656 with index 0 has finished align and scale. Queuing for KLIP\n",
      "Total number of tasks for KLIP processing is 6\n",
      "Closing threadpool\n",
      "Derotating Images...\n",
      "Writing Images to directory C:\\Users\\willi\\Amherst\\Thesis\\Code\\diskShapers\\planetHole\\output\n",
      "wavelength collapsing reduced data of shape (b, N, wv, y, x):(3, 153, 1, 451, 451)\n"
     ]
    },
    {
     "name": "stderr",
     "output_type": "stream",
     "text": [
      " 50%|█████████████████████████████████████████▌                                         | 1/2 [02:39<02:39, 159.55s/it]"
     ]
    },
    {
     "name": "stdout",
     "output_type": "stream",
     "text": [
      "KLIP result is saved to: output\\test_pa109sep10-KLmodes-all.fits\n",
      "result dir is output\\test_pa109sep10-KLmodes-all.fits\n",
      "grabbing output\\test_pa109sep10-KLmodes-all.fits\n",
      "\n",
      "residual for output\\test_pa109sep10-KLmodes-all.fits is -949.6642\n",
      "\n",
      "reading data, num files:  153\n",
      "Begin align and scale images for each wavelength\n",
      "Wavelength 0.656 with index 0 has finished align and scale. Queuing for KLIP\n",
      "Total number of tasks for KLIP processing is 6\n",
      "Closing threadpool\n",
      "Derotating Images...\n",
      "Writing Images to directory C:\\Users\\willi\\Amherst\\Thesis\\Code\\diskShapers\\planetHole\\output\n",
      "wavelength collapsing reduced data of shape (b, N, wv, y, x):(3, 153, 1, 451, 451)\n",
      "KLIP result is saved to: output\\test_pa110sep9-KLmodes-all.fits\n",
      "result dir is output\\test_pa110sep9-KLmodes-all.fits\n",
      "grabbing output\\test_pa110sep9-KLmodes-all.fits\n",
      "\n",
      "residual for output\\test_pa110sep9-KLmodes-all.fits is -614.4364\n",
      "\n",
      "reading data, num files:  153\n",
      "Begin align and scale images for each wavelength\n",
      "Wavelength 0.656 with index 0 has finished align and scale. Queuing for KLIP\n",
      "Total number of tasks for KLIP processing is 6\n",
      "Closing threadpool\n",
      "Derotating Images...\n",
      "Writing Images to directory C:\\Users\\willi\\Amherst\\Thesis\\Code\\diskShapers\\planetHole\\output\n",
      "wavelength collapsing reduced data of shape (b, N, wv, y, x):(3, 153, 1, 451, 451)\n"
     ]
    },
    {
     "name": "stderr",
     "output_type": "stream",
     "text": [
      "100%|███████████████████████████████████████████████████████████████████████████████████| 2/2 [05:15<00:00, 157.60s/it]"
     ]
    },
    {
     "name": "stdout",
     "output_type": "stream",
     "text": [
      "KLIP result is saved to: output\\test_pa110sep10-KLmodes-all.fits\n",
      "result dir is output\\test_pa110sep10-KLmodes-all.fits\n",
      "grabbing output\\test_pa110sep10-KLmodes-all.fits\n",
      "\n",
      "residual for output\\test_pa110sep10-KLmodes-all.fits is -871.4548\n",
      "\n",
      "[[-748.41314697 -949.66418457]\n",
      " [-614.43640137 -871.45477295]]\n"
     ]
    },
    {
     "name": "stderr",
     "output_type": "stream",
     "text": [
      "\n"
     ]
    }
   ],
   "source": [
    "# param_space = np.zeros((len(range(109,111)), len(range(9,11))))\n",
    "# for pa in tqdm(range(109,111)):\n",
    "#     for sep in range(9,11):\n",
    "#         ph = planetHole('datum0', 'test_pa'+str(pa)+'sep'+str(sep), 'output', -1000, sep, pa,\n",
    "#                  fwhm=3, ghostpath='ghost.fits', highpass=False,\n",
    "#                  klipparams=[6, 3, [1, 5, 50]], usegaussian=True)\n",
    "#         ph.run_KLIP()\n",
    "#         path = str(ph.get_result(2))\n",
    "#         print('grabbing '+path)\n",
    "#         with fits.open(path) as img:\n",
    "#             im = img[1].data[2]\n",
    "#         residual = np.nansum(im[210:230,205:225])\n",
    "#         print('')\n",
    "#         print('residual for '+path+' is '+str(residual))\n",
    "#         print('')\n",
    "#         param_space[pa-109,sep-9] += residual\n",
    "\n",
    "# print(param_space)"
   ]
  },
  {
   "cell_type": "code",
   "execution_count": 29,
   "metadata": {},
   "outputs": [
    {
     "name": "stdout",
     "output_type": "stream",
     "text": [
      "[110.   110.25 110.5  110.75 111.  ]\n",
      "[8.75 9.   9.25 9.5 ]\n",
      "20\n"
     ]
    }
   ],
   "source": [
    "pas = np.arange(110.,111.25,0.25)\n",
    "seps = np.arange(8.75,9.75,0.25)\n",
    "n = len(pas)*len(seps)\n",
    "print(pas)\n",
    "print(seps)\n",
    "print(n)"
   ]
  },
  {
   "cell_type": "code",
   "execution_count": 30,
   "metadata": {
    "scrolled": true
   },
   "outputs": [
    {
     "name": "stderr",
     "output_type": "stream",
     "text": [
      "  0%|                                                                                            | 0/5 [00:00<?, ?it/s]\n",
      "  0%|                                                                                            | 0/4 [00:00<?, ?it/s]\u001b[A"
     ]
    },
    {
     "name": "stdout",
     "output_type": "stream",
     "text": [
      "reading data, num files:  153\n",
      "Begin align and scale images for each wavelength\n",
      "Wavelength 0.656 with index 0 has finished align and scale. Queuing for KLIP\n",
      "Total number of tasks for KLIP processing is 6\n",
      "Closing threadpool\n",
      "Derotating Images...\n",
      "Writing Images to directory C:\\Users\\willi\\Amherst\\Thesis\\Code\\diskShapers\\planetHole\\output\n",
      "wavelength collapsing reduced data of shape (b, N, wv, y, x):(1, 153, 1, 451, 451)\n"
     ]
    },
    {
     "name": "stderr",
     "output_type": "stream",
     "text": [
      "\n",
      " 25%|█████████████████████                                                               | 1/4 [01:27<04:21, 87.19s/it]\u001b[A"
     ]
    },
    {
     "name": "stdout",
     "output_type": "stream",
     "text": [
      "KLIP result is saved to: output\\test_pa110.0sep8.75-KLmodes-all.fits\n",
      "result dir is output\\test_pa110.0sep8.75-KLmodes-all.fits\n",
      "grabbing output\\test_pa110.0sep8.75-KLmodes-all.fits\n",
      "\n",
      "residual for output\\test_pa110.0sep8.75-KLmodes-all.fits is 620727.56\n",
      "\n",
      "reading data, num files:  153\n",
      "Begin align and scale images for each wavelength\n",
      "Wavelength 0.656 with index 0 has finished align and scale. Queuing for KLIP\n",
      "Total number of tasks for KLIP processing is 6\n",
      "Closing threadpool\n",
      "Derotating Images...\n",
      "Writing Images to directory C:\\Users\\willi\\Amherst\\Thesis\\Code\\diskShapers\\planetHole\\output\n",
      "wavelength collapsing reduced data of shape (b, N, wv, y, x):(1, 153, 1, 451, 451)\n"
     ]
    },
    {
     "name": "stderr",
     "output_type": "stream",
     "text": [
      "\n",
      " 50%|██████████████████████████████████████████                                          | 2/4 [02:25<02:36, 78.50s/it]\u001b[A"
     ]
    },
    {
     "name": "stdout",
     "output_type": "stream",
     "text": [
      "KLIP result is saved to: output\\test_pa110.0sep9.0-KLmodes-all.fits\n",
      "result dir is output\\test_pa110.0sep9.0-KLmodes-all.fits\n",
      "grabbing output\\test_pa110.0sep9.0-KLmodes-all.fits\n",
      "\n",
      "residual for output\\test_pa110.0sep9.0-KLmodes-all.fits is 549367.5\n",
      "\n",
      "reading data, num files:  153\n",
      "Begin align and scale images for each wavelength\n",
      "Wavelength 0.656 with index 0 has finished align and scale. Queuing for KLIP\n",
      "Total number of tasks for KLIP processing is 6\n",
      "Closing threadpool\n",
      "Derotating Images...\n",
      "Writing Images to directory C:\\Users\\willi\\Amherst\\Thesis\\Code\\diskShapers\\planetHole\\output\n",
      "wavelength collapsing reduced data of shape (b, N, wv, y, x):(1, 153, 1, 451, 451)\n"
     ]
    },
    {
     "name": "stderr",
     "output_type": "stream",
     "text": [
      "\n",
      " 75%|███████████████████████████████████████████████████████████████                     | 3/4 [03:22<01:12, 72.10s/it]\u001b[A"
     ]
    },
    {
     "name": "stdout",
     "output_type": "stream",
     "text": [
      "KLIP result is saved to: output\\test_pa110.0sep9.25-KLmodes-all.fits\n",
      "result dir is output\\test_pa110.0sep9.25-KLmodes-all.fits\n",
      "grabbing output\\test_pa110.0sep9.25-KLmodes-all.fits\n",
      "\n",
      "residual for output\\test_pa110.0sep9.25-KLmodes-all.fits is 556405.75\n",
      "\n",
      "reading data, num files:  153\n",
      "Begin align and scale images for each wavelength\n",
      "Wavelength 0.656 with index 0 has finished align and scale. Queuing for KLIP\n",
      "Total number of tasks for KLIP processing is 6\n",
      "Closing threadpool\n",
      "Derotating Images...\n",
      "Writing Images to directory C:\\Users\\willi\\Amherst\\Thesis\\Code\\diskShapers\\planetHole\\output\n",
      "wavelength collapsing reduced data of shape (b, N, wv, y, x):(1, 153, 1, 451, 451)\n"
     ]
    },
    {
     "name": "stderr",
     "output_type": "stream",
     "text": [
      "\n",
      "100%|████████████████████████████████████████████████████████████████████████████████████| 4/4 [04:20<00:00, 65.04s/it]\u001b[A\n",
      " 20%|████████████████▌                                                                  | 1/5 [04:20<17:20, 260.16s/it]\n",
      "  0%|                                                                                            | 0/4 [00:00<?, ?it/s]\u001b[A"
     ]
    },
    {
     "name": "stdout",
     "output_type": "stream",
     "text": [
      "KLIP result is saved to: output\\test_pa110.0sep9.5-KLmodes-all.fits\n",
      "result dir is output\\test_pa110.0sep9.5-KLmodes-all.fits\n",
      "grabbing output\\test_pa110.0sep9.5-KLmodes-all.fits\n",
      "\n",
      "residual for output\\test_pa110.0sep9.5-KLmodes-all.fits is 622174.25\n",
      "\n",
      "reading data, num files:  153\n",
      "Begin align and scale images for each wavelength\n",
      "Wavelength 0.656 with index 0 has finished align and scale. Queuing for KLIP\n",
      "Total number of tasks for KLIP processing is 6\n",
      "Closing threadpool\n",
      "Derotating Images...\n",
      "Writing Images to directory C:\\Users\\willi\\Amherst\\Thesis\\Code\\diskShapers\\planetHole\\output\n",
      "wavelength collapsing reduced data of shape (b, N, wv, y, x):(1, 153, 1, 451, 451)\n"
     ]
    },
    {
     "name": "stderr",
     "output_type": "stream",
     "text": [
      "\n",
      " 25%|█████████████████████                                                               | 1/4 [00:57<02:53, 57.82s/it]\u001b[A"
     ]
    },
    {
     "name": "stdout",
     "output_type": "stream",
     "text": [
      "KLIP result is saved to: output\\test_pa110.25sep8.75-KLmodes-all.fits\n",
      "result dir is output\\test_pa110.25sep8.75-KLmodes-all.fits\n",
      "grabbing output\\test_pa110.25sep8.75-KLmodes-all.fits\n",
      "\n",
      "residual for output\\test_pa110.25sep8.75-KLmodes-all.fits is 603149.25\n",
      "\n",
      "reading data, num files:  153\n",
      "Begin align and scale images for each wavelength\n",
      "Wavelength 0.656 with index 0 has finished align and scale. Queuing for KLIP\n",
      "Total number of tasks for KLIP processing is 6\n",
      "Closing threadpool\n",
      "Derotating Images...\n",
      "Writing Images to directory C:\\Users\\willi\\Amherst\\Thesis\\Code\\diskShapers\\planetHole\\output\n",
      "wavelength collapsing reduced data of shape (b, N, wv, y, x):(1, 153, 1, 451, 451)\n"
     ]
    },
    {
     "name": "stderr",
     "output_type": "stream",
     "text": [
      "\n",
      " 50%|██████████████████████████████████████████                                          | 2/4 [01:55<01:55, 57.93s/it]\u001b[A"
     ]
    },
    {
     "name": "stdout",
     "output_type": "stream",
     "text": [
      "KLIP result is saved to: output\\test_pa110.25sep9.0-KLmodes-all.fits\n",
      "result dir is output\\test_pa110.25sep9.0-KLmodes-all.fits\n",
      "grabbing output\\test_pa110.25sep9.0-KLmodes-all.fits\n",
      "\n",
      "residual for output\\test_pa110.25sep9.0-KLmodes-all.fits is 529539.6\n",
      "\n",
      "reading data, num files:  153\n",
      "Begin align and scale images for each wavelength\n",
      "Wavelength 0.656 with index 0 has finished align and scale. Queuing for KLIP\n",
      "Total number of tasks for KLIP processing is 6\n",
      "Closing threadpool\n",
      "Derotating Images...\n",
      "Writing Images to directory C:\\Users\\willi\\Amherst\\Thesis\\Code\\diskShapers\\planetHole\\output\n",
      "wavelength collapsing reduced data of shape (b, N, wv, y, x):(1, 153, 1, 451, 451)\n"
     ]
    },
    {
     "name": "stderr",
     "output_type": "stream",
     "text": [
      "\n",
      " 75%|███████████████████████████████████████████████████████████████                     | 3/4 [02:53<00:57, 57.86s/it]\u001b[A"
     ]
    },
    {
     "name": "stdout",
     "output_type": "stream",
     "text": [
      "KLIP result is saved to: output\\test_pa110.25sep9.25-KLmodes-all.fits\n",
      "result dir is output\\test_pa110.25sep9.25-KLmodes-all.fits\n",
      "grabbing output\\test_pa110.25sep9.25-KLmodes-all.fits\n",
      "\n",
      "residual for output\\test_pa110.25sep9.25-KLmodes-all.fits is 530471.44\n",
      "\n",
      "reading data, num files:  153\n",
      "Begin align and scale images for each wavelength\n",
      "Wavelength 0.656 with index 0 has finished align and scale. Queuing for KLIP\n",
      "Total number of tasks for KLIP processing is 6\n",
      "Closing threadpool\n",
      "Derotating Images...\n",
      "Writing Images to directory C:\\Users\\willi\\Amherst\\Thesis\\Code\\diskShapers\\planetHole\\output\n",
      "wavelength collapsing reduced data of shape (b, N, wv, y, x):(1, 153, 1, 451, 451)\n"
     ]
    },
    {
     "name": "stderr",
     "output_type": "stream",
     "text": [
      "\n",
      "100%|████████████████████████████████████████████████████████████████████████████████████| 4/4 [03:51<00:00, 57.84s/it]\u001b[A\n",
      " 40%|█████████████████████████████████▏                                                 | 2/5 [08:11<12:34, 251.53s/it]\n",
      "  0%|                                                                                            | 0/4 [00:00<?, ?it/s]\u001b[A"
     ]
    },
    {
     "name": "stdout",
     "output_type": "stream",
     "text": [
      "KLIP result is saved to: output\\test_pa110.25sep9.5-KLmodes-all.fits\n",
      "result dir is output\\test_pa110.25sep9.5-KLmodes-all.fits\n",
      "grabbing output\\test_pa110.25sep9.5-KLmodes-all.fits\n",
      "\n",
      "residual for output\\test_pa110.25sep9.5-KLmodes-all.fits is 599776.75\n",
      "\n",
      "reading data, num files:  153\n",
      "Begin align and scale images for each wavelength\n",
      "Wavelength 0.656 with index 0 has finished align and scale. Queuing for KLIP\n",
      "Total number of tasks for KLIP processing is 6\n",
      "Closing threadpool\n",
      "Derotating Images...\n",
      "Writing Images to directory C:\\Users\\willi\\Amherst\\Thesis\\Code\\diskShapers\\planetHole\\output\n",
      "wavelength collapsing reduced data of shape (b, N, wv, y, x):(1, 153, 1, 451, 451)\n"
     ]
    },
    {
     "name": "stderr",
     "output_type": "stream",
     "text": [
      "\n",
      " 25%|█████████████████████                                                               | 1/4 [00:57<02:52, 57.45s/it]\u001b[A"
     ]
    },
    {
     "name": "stdout",
     "output_type": "stream",
     "text": [
      "KLIP result is saved to: output\\test_pa110.5sep8.75-KLmodes-all.fits\n",
      "result dir is output\\test_pa110.5sep8.75-KLmodes-all.fits\n",
      "grabbing output\\test_pa110.5sep8.75-KLmodes-all.fits\n",
      "\n",
      "residual for output\\test_pa110.5sep8.75-KLmodes-all.fits is 583560.1\n",
      "\n",
      "reading data, num files:  153\n",
      "Begin align and scale images for each wavelength\n",
      "Wavelength 0.656 with index 0 has finished align and scale. Queuing for KLIP\n",
      "Total number of tasks for KLIP processing is 6\n",
      "Closing threadpool\n",
      "Derotating Images...\n",
      "Writing Images to directory C:\\Users\\willi\\Amherst\\Thesis\\Code\\diskShapers\\planetHole\\output\n",
      "wavelength collapsing reduced data of shape (b, N, wv, y, x):(1, 153, 1, 451, 451)\n"
     ]
    },
    {
     "name": "stderr",
     "output_type": "stream",
     "text": [
      "\n",
      " 50%|██████████████████████████████████████████                                          | 2/4 [01:55<01:55, 57.64s/it]\u001b[A"
     ]
    },
    {
     "name": "stdout",
     "output_type": "stream",
     "text": [
      "KLIP result is saved to: output\\test_pa110.5sep9.0-KLmodes-all.fits\n",
      "result dir is output\\test_pa110.5sep9.0-KLmodes-all.fits\n",
      "grabbing output\\test_pa110.5sep9.0-KLmodes-all.fits\n",
      "\n",
      "residual for output\\test_pa110.5sep9.0-KLmodes-all.fits is 517032.84\n",
      "\n",
      "reading data, num files:  153\n",
      "Begin align and scale images for each wavelength\n",
      "Wavelength 0.656 with index 0 has finished align and scale. Queuing for KLIP\n",
      "Total number of tasks for KLIP processing is 6\n",
      "Closing threadpool\n",
      "Derotating Images...\n",
      "Writing Images to directory C:\\Users\\willi\\Amherst\\Thesis\\Code\\diskShapers\\planetHole\\output\n",
      "wavelength collapsing reduced data of shape (b, N, wv, y, x):(1, 153, 1, 451, 451)\n"
     ]
    },
    {
     "name": "stderr",
     "output_type": "stream",
     "text": [
      "\n",
      " 75%|███████████████████████████████████████████████████████████████                     | 3/4 [02:53<00:57, 57.72s/it]\u001b[A"
     ]
    },
    {
     "name": "stdout",
     "output_type": "stream",
     "text": [
      "KLIP result is saved to: output\\test_pa110.5sep9.25-KLmodes-all.fits\n",
      "result dir is output\\test_pa110.5sep9.25-KLmodes-all.fits\n",
      "grabbing output\\test_pa110.5sep9.25-KLmodes-all.fits\n",
      "\n",
      "residual for output\\test_pa110.5sep9.25-KLmodes-all.fits is 514518.84\n",
      "\n",
      "reading data, num files:  153\n",
      "Begin align and scale images for each wavelength\n",
      "Wavelength 0.656 with index 0 has finished align and scale. Queuing for KLIP\n",
      "Total number of tasks for KLIP processing is 6\n",
      "Closing threadpool\n",
      "Derotating Images...\n",
      "Writing Images to directory C:\\Users\\willi\\Amherst\\Thesis\\Code\\diskShapers\\planetHole\\output\n",
      "wavelength collapsing reduced data of shape (b, N, wv, y, x):(1, 153, 1, 451, 451)\n"
     ]
    },
    {
     "name": "stderr",
     "output_type": "stream",
     "text": [
      "\n",
      "100%|████████████████████████████████████████████████████████████████████████████████████| 4/4 [03:53<00:00, 58.38s/it]\u001b[A\n",
      " 60%|█████████████████████████████████████████████████▊                                 | 3/5 [12:05<08:12, 246.13s/it]\n",
      "  0%|                                                                                            | 0/4 [00:00<?, ?it/s]\u001b[A"
     ]
    },
    {
     "name": "stdout",
     "output_type": "stream",
     "text": [
      "KLIP result is saved to: output\\test_pa110.5sep9.5-KLmodes-all.fits\n",
      "result dir is output\\test_pa110.5sep9.5-KLmodes-all.fits\n",
      "grabbing output\\test_pa110.5sep9.5-KLmodes-all.fits\n",
      "\n",
      "residual for output\\test_pa110.5sep9.5-KLmodes-all.fits is 586657.9\n",
      "\n",
      "reading data, num files:  153\n",
      "Begin align and scale images for each wavelength\n",
      "Wavelength 0.656 with index 0 has finished align and scale. Queuing for KLIP\n",
      "Total number of tasks for KLIP processing is 6\n",
      "Closing threadpool\n",
      "Derotating Images...\n",
      "Writing Images to directory C:\\Users\\willi\\Amherst\\Thesis\\Code\\diskShapers\\planetHole\\output\n",
      "wavelength collapsing reduced data of shape (b, N, wv, y, x):(1, 153, 1, 451, 451)\n"
     ]
    },
    {
     "name": "stderr",
     "output_type": "stream",
     "text": [
      "\n",
      " 25%|█████████████████████                                                               | 1/4 [00:59<02:58, 59.40s/it]\u001b[A"
     ]
    },
    {
     "name": "stdout",
     "output_type": "stream",
     "text": [
      "KLIP result is saved to: output\\test_pa110.75sep8.75-KLmodes-all.fits\n",
      "result dir is output\\test_pa110.75sep8.75-KLmodes-all.fits\n",
      "grabbing output\\test_pa110.75sep8.75-KLmodes-all.fits\n",
      "\n",
      "residual for output\\test_pa110.75sep8.75-KLmodes-all.fits is 571420.5\n",
      "\n",
      "reading data, num files:  153\n",
      "Begin align and scale images for each wavelength\n",
      "Wavelength 0.656 with index 0 has finished align and scale. Queuing for KLIP\n",
      "Total number of tasks for KLIP processing is 6\n",
      "Closing threadpool\n",
      "Derotating Images...\n",
      "Writing Images to directory C:\\Users\\willi\\Amherst\\Thesis\\Code\\diskShapers\\planetHole\\output\n",
      "wavelength collapsing reduced data of shape (b, N, wv, y, x):(1, 153, 1, 451, 451)\n"
     ]
    },
    {
     "name": "stderr",
     "output_type": "stream",
     "text": [
      "\n",
      " 50%|██████████████████████████████████████████                                          | 2/4 [01:59<01:58, 59.48s/it]\u001b[A"
     ]
    },
    {
     "name": "stdout",
     "output_type": "stream",
     "text": [
      "KLIP result is saved to: output\\test_pa110.75sep9.0-KLmodes-all.fits\n",
      "result dir is output\\test_pa110.75sep9.0-KLmodes-all.fits\n",
      "grabbing output\\test_pa110.75sep9.0-KLmodes-all.fits\n",
      "\n",
      "residual for output\\test_pa110.75sep9.0-KLmodes-all.fits is 508659.94\n",
      "\n",
      "reading data, num files:  153\n",
      "Begin align and scale images for each wavelength\n",
      "Wavelength 0.656 with index 0 has finished align and scale. Queuing for KLIP\n",
      "Total number of tasks for KLIP processing is 6\n",
      "Closing threadpool\n",
      "Derotating Images...\n",
      "Writing Images to directory C:\\Users\\willi\\Amherst\\Thesis\\Code\\diskShapers\\planetHole\\output\n",
      "wavelength collapsing reduced data of shape (b, N, wv, y, x):(1, 153, 1, 451, 451)\n"
     ]
    },
    {
     "name": "stderr",
     "output_type": "stream",
     "text": [
      "\n",
      " 75%|███████████████████████████████████████████████████████████████                     | 3/4 [02:59<00:59, 59.75s/it]\u001b[A"
     ]
    },
    {
     "name": "stdout",
     "output_type": "stream",
     "text": [
      "KLIP result is saved to: output\\test_pa110.75sep9.25-KLmodes-all.fits\n",
      "result dir is output\\test_pa110.75sep9.25-KLmodes-all.fits\n",
      "grabbing output\\test_pa110.75sep9.25-KLmodes-all.fits\n",
      "\n",
      "residual for output\\test_pa110.75sep9.25-KLmodes-all.fits is 501275.25\n",
      "\n",
      "reading data, num files:  153\n",
      "Begin align and scale images for each wavelength\n",
      "Wavelength 0.656 with index 0 has finished align and scale. Queuing for KLIP\n",
      "Total number of tasks for KLIP processing is 6\n",
      "Closing threadpool\n",
      "Derotating Images...\n",
      "Writing Images to directory C:\\Users\\willi\\Amherst\\Thesis\\Code\\diskShapers\\planetHole\\output\n",
      "wavelength collapsing reduced data of shape (b, N, wv, y, x):(1, 153, 1, 451, 451)\n"
     ]
    },
    {
     "name": "stderr",
     "output_type": "stream",
     "text": [
      "\n",
      "100%|████████████████████████████████████████████████████████████████████████████████████| 4/4 [03:58<00:00, 59.71s/it]\u001b[A\n",
      " 80%|██████████████████████████████████████████████████████████████████▍                | 4/5 [16:03<04:03, 243.94s/it]\n",
      "  0%|                                                                                            | 0/4 [00:00<?, ?it/s]\u001b[A"
     ]
    },
    {
     "name": "stdout",
     "output_type": "stream",
     "text": [
      "KLIP result is saved to: output\\test_pa110.75sep9.5-KLmodes-all.fits\n",
      "result dir is output\\test_pa110.75sep9.5-KLmodes-all.fits\n",
      "grabbing output\\test_pa110.75sep9.5-KLmodes-all.fits\n",
      "\n",
      "residual for output\\test_pa110.75sep9.5-KLmodes-all.fits is 574470.25\n",
      "\n",
      "reading data, num files:  153\n",
      "Begin align and scale images for each wavelength\n",
      "Wavelength 0.656 with index 0 has finished align and scale. Queuing for KLIP\n",
      "Total number of tasks for KLIP processing is 6\n",
      "Closing threadpool\n",
      "Derotating Images...\n",
      "Writing Images to directory C:\\Users\\willi\\Amherst\\Thesis\\Code\\diskShapers\\planetHole\\output\n",
      "wavelength collapsing reduced data of shape (b, N, wv, y, x):(1, 153, 1, 451, 451)\n"
     ]
    },
    {
     "name": "stderr",
     "output_type": "stream",
     "text": [
      "\n",
      " 25%|█████████████████████                                                               | 1/4 [00:59<02:59, 59.88s/it]\u001b[A"
     ]
    },
    {
     "name": "stdout",
     "output_type": "stream",
     "text": [
      "KLIP result is saved to: output\\test_pa111.0sep8.75-KLmodes-all.fits\n",
      "result dir is output\\test_pa111.0sep8.75-KLmodes-all.fits\n",
      "grabbing output\\test_pa111.0sep8.75-KLmodes-all.fits\n",
      "\n",
      "residual for output\\test_pa111.0sep8.75-KLmodes-all.fits is 566210.8\n",
      "\n",
      "reading data, num files:  153\n",
      "Begin align and scale images for each wavelength\n",
      "Wavelength 0.656 with index 0 has finished align and scale. Queuing for KLIP\n",
      "Total number of tasks for KLIP processing is 6\n",
      "Closing threadpool\n",
      "Derotating Images...\n",
      "Writing Images to directory C:\\Users\\willi\\Amherst\\Thesis\\Code\\diskShapers\\planetHole\\output\n",
      "wavelength collapsing reduced data of shape (b, N, wv, y, x):(1, 153, 1, 451, 451)\n"
     ]
    },
    {
     "name": "stderr",
     "output_type": "stream",
     "text": [
      "\n",
      " 50%|██████████████████████████████████████████                                          | 2/4 [01:59<01:59, 59.92s/it]\u001b[A"
     ]
    },
    {
     "name": "stdout",
     "output_type": "stream",
     "text": [
      "KLIP result is saved to: output\\test_pa111.0sep9.0-KLmodes-all.fits\n",
      "result dir is output\\test_pa111.0sep9.0-KLmodes-all.fits\n",
      "grabbing output\\test_pa111.0sep9.0-KLmodes-all.fits\n",
      "\n",
      "residual for output\\test_pa111.0sep9.0-KLmodes-all.fits is 504974.88\n",
      "\n",
      "reading data, num files:  153\n",
      "Begin align and scale images for each wavelength\n",
      "Wavelength 0.656 with index 0 has finished align and scale. Queuing for KLIP\n",
      "Total number of tasks for KLIP processing is 6\n",
      "Closing threadpool\n",
      "Derotating Images...\n",
      "Writing Images to directory C:\\Users\\willi\\Amherst\\Thesis\\Code\\diskShapers\\planetHole\\output\n",
      "wavelength collapsing reduced data of shape (b, N, wv, y, x):(1, 153, 1, 451, 451)\n"
     ]
    },
    {
     "name": "stderr",
     "output_type": "stream",
     "text": [
      "\n",
      " 75%|███████████████████████████████████████████████████████████████                     | 3/4 [02:58<00:59, 59.46s/it]\u001b[A"
     ]
    },
    {
     "name": "stdout",
     "output_type": "stream",
     "text": [
      "KLIP result is saved to: output\\test_pa111.0sep9.25-KLmodes-all.fits\n",
      "result dir is output\\test_pa111.0sep9.25-KLmodes-all.fits\n",
      "grabbing output\\test_pa111.0sep9.25-KLmodes-all.fits\n",
      "\n",
      "residual for output\\test_pa111.0sep9.25-KLmodes-all.fits is 496409.6\n",
      "\n",
      "reading data, num files:  153\n",
      "Begin align and scale images for each wavelength\n",
      "Wavelength 0.656 with index 0 has finished align and scale. Queuing for KLIP\n",
      "Total number of tasks for KLIP processing is 6\n",
      "Closing threadpool\n",
      "Derotating Images...\n",
      "Writing Images to directory C:\\Users\\willi\\Amherst\\Thesis\\Code\\diskShapers\\planetHole\\output\n",
      "wavelength collapsing reduced data of shape (b, N, wv, y, x):(1, 153, 1, 451, 451)\n"
     ]
    },
    {
     "name": "stderr",
     "output_type": "stream",
     "text": [
      "\n",
      "100%|████████████████████████████████████████████████████████████████████████████████████| 4/4 [03:57<00:00, 59.43s/it]\u001b[A\n",
      "100%|███████████████████████████████████████████████████████████████████████████████████| 5/5 [20:01<00:00, 240.33s/it]"
     ]
    },
    {
     "name": "stdout",
     "output_type": "stream",
     "text": [
      "KLIP result is saved to: output\\test_pa111.0sep9.5-KLmodes-all.fits\n",
      "result dir is output\\test_pa111.0sep9.5-KLmodes-all.fits\n",
      "grabbing output\\test_pa111.0sep9.5-KLmodes-all.fits\n",
      "\n",
      "residual for output\\test_pa111.0sep9.5-KLmodes-all.fits is 567810.75\n",
      "\n"
     ]
    },
    {
     "name": "stderr",
     "output_type": "stream",
     "text": [
      "\n"
     ]
    }
   ],
   "source": [
    "param_space = np.zeros((len(pas), len(seps)))\n",
    "sortedpaths = []\n",
    "for i in tqdm(range(len(pas))):\n",
    "    pa = pas[i]\n",
    "    for j in tqdm(range(len(seps))):\n",
    "        sep = seps[j]\n",
    "        ph = planetHole('datum0', 'test_pa'+str(pa)+'sep'+str(sep), 'output', -1000, sep, pa,\n",
    "                        fwhm=3, ghostpath='ghost.fits', highpass=False,\n",
    "                        klipparams=[6, 3, [50]], usegaussian=True)\n",
    "        ph.run_KLIP()\n",
    "        path = str(ph.get_result(0))\n",
    "        print('grabbing '+path)\n",
    "        with fits.open(path) as img:\n",
    "            im = img[1].data[0]\n",
    "        sortedpaths.append(path)\n",
    "        sumsqresidual = np.nansum(im[210:230,205:225]**2)\n",
    "        print('')\n",
    "        print('residual for '+path+' is '+str(sumsqresidual))\n",
    "        print('')\n",
    "        param_space[i,j] += sumsqresidual"
   ]
  },
  {
   "cell_type": "code",
   "execution_count": 34,
   "metadata": {
    "scrolled": true
   },
   "outputs": [
    {
     "data": {
      "image/png": "[encoded data removed]",
      "text/plain": [
       "<Figure size 576x576 with 17 Axes>"
      ]
     },
     "metadata": {
      "needs_background": "light"
     },
     "output_type": "display_data"
    }
   ],
   "source": [
    "fig1, axs = plt.subplots(4, 4, figsize=(8,8))\n",
    "axs = trim_axs(axs, len(sortedpaths))\n",
    "\n",
    "fig1.suptitle('Fine Negative Planet Injection Grid Search')\n",
    "labeli = 12\n",
    "axs[labeli].set_xlabel('X')\n",
    "axs[labeli].set_ylabel('Y')\n",
    "\n",
    "for ax, i in zip(axs, range(len(sortedpaths))):\n",
    "    path = sortedpaths[i]\n",
    "    pref, suf = path.split('_')\n",
    "    params, kl, suff = suf.split('-')\n",
    "    ax.set_title(params)\n",
    "    with fits.open(path) as img:\n",
    "        im = img[1].data[0]\n",
    "        stamp = im[210:230,205:225]\n",
    "    axis = ax.imshow(stamp, origin='lower', norm = ImageNormalize(stamp, stretch=AsinhStretch(), vmin=-0.9*np.nanmax(stamp), vmax=0.9*np.nanmax(stamp)), cmap='magma')\n",
    "    sumsqresidual = np.nansum(stamp**2)\n",
    "    residlabel = r'$\\Sigma resid^2 =$'+str(sumsqresidual)\n",
    "    ax.annotate(xy=(3,3), text=residlabel)\n",
    "    if i != labeli:\n",
    "        ax.set(yticklabels=[],xticklabels=[])\n",
    "\n",
    "cbar_ax = fig1.add_axes([0.93, 0.15, 0.01, 0.7])\n",
    "fig1.colorbar(axis, cax=cbar_ax)\n",
    "plt.savefig('negplanet_position_iteration_fine')"
   ]
  },
  {
   "cell_type": "code",
   "execution_count": 35,
   "metadata": {},
   "outputs": [
    {
     "name": "stdout",
     "output_type": "stream",
     "text": [
      "[110.   110.25 110.5  110.75 111.  ]\n",
      "[8.75 9.   9.25 9.5 ]\n"
     ]
    }
   ],
   "source": [
    "print(pas)\n",
    "print(seps)"
   ]
  },
  {
   "cell_type": "code",
   "execution_count": 39,
   "metadata": {},
   "outputs": [
    {
     "data": {
      "image/png": "[encoded data removed]",
      "text/plain": [
       "<Figure size 432x288 with 2 Axes>"
      ]
     },
     "metadata": {
      "needs_background": "light"
     },
     "output_type": "display_data"
    }
   ],
   "source": [
    "fig, ax = plt.subplots()\n",
    "im = ax.imshow(param_space, cmap='magma', origin='lower')\n",
    "ax.set(yticklabels=['','110','110.25','110.5', '110.75','111'],\n",
    "       ylabel=r'Position Angle ($^\\circ$)',\n",
    "       xticklabels=['','8.75','9','9.25','9.5'],\n",
    "       xlabel=r'Separation (pix)')\n",
    "cbar = fig.colorbar(im)\n",
    "plt.title('Fine Negative Planet Injection Grid')\n",
    "plt.savefig('finegrid.png',dpi=200)"
   ]
  },
  {
   "cell_type": "code",
   "execution_count": 49,
   "metadata": {
    "jupyter": {
     "source_hidden": true
    },
    "tags": []
   },
   "outputs": [
    {
     "data": {
      "text/html": [
       "<div>\n",
       "<style scoped>\n",
       "    .dataframe tbody tr th:only-of-type {\n",
       "        vertical-align: middle;\n",
       "    }\n",
       "\n",
       "    .dataframe tbody tr th {\n",
       "        vertical-align: top;\n",
       "    }\n",
       "\n",
       "    .dataframe thead th {\n",
       "        text-align: right;\n",
       "    }\n",
       "</style>\n",
       "<table border=\"1\" class=\"dataframe\">\n",
       "  <thead>\n",
       "    <tr style=\"text-align: right;\">\n",
       "      <th></th>\n",
       "      <th>8.75</th>\n",
       "      <th>9.00</th>\n",
       "      <th>9.25</th>\n",
       "      <th>9.50</th>\n",
       "    </tr>\n",
       "  </thead>\n",
       "  <tbody>\n",
       "    <tr>\n",
       "      <th>110.00</th>\n",
       "      <td>620727.5625</td>\n",
       "      <td>549367.50000</td>\n",
       "      <td>556405.75000</td>\n",
       "      <td>622174.250</td>\n",
       "    </tr>\n",
       "    <tr>\n",
       "      <th>110.25</th>\n",
       "      <td>603149.2500</td>\n",
       "      <td>529539.62500</td>\n",
       "      <td>530471.43750</td>\n",
       "      <td>599776.750</td>\n",
       "    </tr>\n",
       "    <tr>\n",
       "      <th>110.50</th>\n",
       "      <td>583560.1250</td>\n",
       "      <td>517032.84375</td>\n",
       "      <td>514518.84375</td>\n",
       "      <td>586657.875</td>\n",
       "    </tr>\n",
       "    <tr>\n",
       "      <th>110.75</th>\n",
       "      <td>571420.5000</td>\n",
       "      <td>508659.93750</td>\n",
       "      <td>501275.25000</td>\n",
       "      <td>574470.250</td>\n",
       "    </tr>\n",
       "    <tr>\n",
       "      <th>111.00</th>\n",
       "      <td>566210.8125</td>\n",
       "      <td>504974.87500</td>\n",
       "      <td>496409.59375</td>\n",
       "      <td>567810.750</td>\n",
       "    </tr>\n",
       "  </tbody>\n",
       "</table>\n",
       "</div>"
      ],
      "text/plain": [
       "               8.75          9.00          9.25        9.50\n",
       "110.00  620727.5625  549367.50000  556405.75000  622174.250\n",
       "110.25  603149.2500  529539.62500  530471.43750  599776.750\n",
       "110.50  583560.1250  517032.84375  514518.84375  586657.875\n",
       "110.75  571420.5000  508659.93750  501275.25000  574470.250\n",
       "111.00  566210.8125  504974.87500  496409.59375  567810.750"
      ]
     },
     "execution_count": 49,
     "metadata": {},
     "output_type": "execute_result"
    }
   ],
   "source": [
    "import pandas as pd\n",
    "pd.DataFrame(param_space, columns=seps, index=pas)"
   ]
  },
  {
   "cell_type": "code",
   "execution_count": null,
   "metadata": {},
   "outputs": [],
   "source": []
  },
  {
   "cell_type": "code",
   "execution_count": null,
   "metadata": {},
   "outputs": [],
   "source": []
  }
 ],
 "metadata": {
  "kernelspec": {
   "display_name": "Python 3 (ipykernel)",
   "language": "python",
   "name": "python3"
  },
  "language_info": {
   "codemirror_mode": {
    "name": "ipython",
    "version": 3
   },
   "file_extension": ".py",
   "mimetype": "text/x-python",
   "name": "python",
   "nbconvert_exporter": "python",
   "pygments_lexer": "ipython3",
   "version": "3.9.5"
  }
 },
 "nbformat": 4,
 "nbformat_minor": 4
}
